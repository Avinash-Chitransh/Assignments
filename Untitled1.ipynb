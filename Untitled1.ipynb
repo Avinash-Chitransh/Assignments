{
  "nbformat": 4,
  "nbformat_minor": 0,
  "metadata": {
    "colab": {
      "provenance": []
    },
    "kernelspec": {
      "name": "python3",
      "display_name": "Python 3"
    },
    "language_info": {
      "name": "python"
    }
  },
  "cells": [
    {
      "cell_type": "code",
      "execution_count": null,
      "metadata": {
        "id": "V4OAnpOUyRF8"
      },
      "outputs": [],
      "source": []
    },
    {
      "cell_type": "markdown",
      "source": [
        "1. What are data structures, and why are they important?\n",
        "\n",
        "\n",
        "In Python data structures are organised ways for storage management of data and to retrieve it efficiently.\n",
        "Data structures include lists, tuples, sets, dictionaries, trees, graphs etc . Every data structure is made to serve a unique purpose depending upon the necessity of manipulation of data. Data structures are important as they help in Optimisation of performance, simplification of complex data handling and making the code more reliable. Choosing the right data structure is very important as it impacts the speed and memory usage of the application full stop in software development, making them a foundational concept in programming.\n",
        "\n",
        "\n",
        "2. Explain the difference between mutable and immutable data types with examples?\n",
        "\n",
        "\n",
        "In Python mutable data types are defined as the data types that can be changed or altered after its creation whereas immutable data types cannot be changed once they are created.\n",
        "Examples of mutable data types are lists on the other hand examples of immutable data types are strings and tuples by list can be changed or altered so it is known as mutual data types so they are known as immutable data types.\n",
        "my_list = [1, 2, 3]\n",
        "my_list.append(4)\n",
        "my_string = \"hello\"\n",
        "# my_string[0] = \"H\" → This will raise an error\n",
        "\n",
        "\n",
        " 3. What are the main differences between lists and tuples in Python?\n",
        "\n",
        "\n",
        "Tuples and lists are two data structures in the Python language and both are very important in coding.\n",
        "Following are the difference between the two:\n",
        "While list is mutable, that is it can be changed, once created whereas tuple remains immutable that is it cannot be changed after its creation.\n",
        "e.g. #my_list = [1, 2, 3]\n",
        "#my_list.append(4)\n",
        "#output , my_list = [1, 2, 3, 4]\n",
        "#my_tuple = (1, 2, 3)\n",
        "# my_tuple[0] = 10  → This will throw an error\n",
        "The syntax used for lists are [] whereas() are used for tuples.\n",
        "Lists are slightly slower in performance with respect to tuple and it uses more memory than tuple.\n",
        "\n",
        "\n",
        "4. Describe how dictionaries store data?\n",
        "\n",
        "\n",
        "Dictionaries are data types in Python that store data in a unique key value pair system. Each key is designated as a unique entity and marks a unique specific value. Internal to store these pairs a hash table is used by Python which allows for fast look up insertions and Deletions. Example\n",
        "#my_dict = {'name': 'Alice', 'age': 25}\n",
        "#'name' is a key, 'Alice' is its value.\n",
        "#'age' is a key, 25 is its value.\n",
        "Python calculates a hash for each key.\n",
        "That hash determines where to store the key-value pair in memory.\n",
        "This enables constant-time access (O(1)) to values by their keys.\n",
        "\n",
        "\n",
        "5. Why might you use a set instead of a list in Python?\n",
        "\n",
        "Sets and lists are both unique functions having some advantages as well as some disadvantages over the other. Some of the most common scenarios due to which a set might be used instead of a list in Python are as follows:\n",
        "First is uniqueness with means set automatically removes duplicate data so if only unique items are needed, set is an ideal data structure.\n",
        "Second most important factor is faster lookup meaning the set has faster membership testing then list as the use hash table internally.\n",
        "Set supports operations like Union intersection and difference which are great for comparing data.\n",
        "\n",
        "\n",
        "6. What is a string in Python, and how is it different from a list?\n",
        "\n",
        "In Python, a string is a sequence of characters enclosed in quotes (single ' ', double \" \", or triple quotes). It’s used to represent text.\n",
        "#example: my_string = \"Avinash chitransh\"\n",
        "Following are the difference between strings and list:\n",
        "   \n",
        "    Data Type: A string is a sequence of characters, while a list is a sequence that can contain any data type, including integers, strings, floats, and more.\n",
        "    Mutability: A string is immutable, meaning it cannot be changed after creation. A list is mutable, so you can add, remove, or modify its elements.\n",
        "    Syntax: A string is always enclosed in quotes, like \"1\" or 'avinash'. A list is written with square brackets, like [1, 2, 3] or [\"a\", \"b\"].\n",
        "    Elements: A string contains only characters, while a list can hold any type of elements — strings, numbers, booleans, even other lists.\n",
        "\n",
        "7. How do tuples ensure data integrity in Python?\n",
        "\n",
        "\n",
        "Tuple ensures Data integrity in Python as it is immutable. Once a tuple is created the content inside that tuple cannot be changed, i.e. no content can be added, removed or modified this makes a tuple ideal for storing data.\n",
        "This matters due to various factors such as\n",
        "It prevents accidental changes.\n",
        "It is safe for use as keys in dictionaries or elements in sets.\n",
        "It is reliable in a multithreaded environment as data can not be altered by other threats.\n",
        "\n",
        "8. What is a hash table, and how does it relate to dictionaries in Python?\n",
        "\n",
        "\n",
        "A hash table in Python is defined as a data structure that stores data in the form of keys and values and uses it for computation of any index or has places where each value is stored.\n",
        "In Python dictionaries are implemented behind the scenes using a hash table. When a dictionary is created Python applies a Hash Function to each key.\n",
        "#e.g. d={\"name\":\"Avinash\",\"age\":30,\"city\":\"Delhi\"}\n",
        "The result is determined by the value against the key stored in the memory. This allows fast access typically in constant time regardless of the size. They are very fast up looking insertion and deletion ready.\n",
        "\n",
        "9. Can lists contain different data types in Python?\n",
        "\n",
        "Yes, in Python a list is a data type that can contain different data types within the same list. Lists are one of the most powerful and flexible features of python. Example of a list containing multiple data type is:\n",
        "#my_list = [1, 2, 3.5, True, 5+6j, [\"Avinash\", \"Chitransh\"]]\n",
        "A Python list can include and integers a string, a float value, a Boolean value, a list within a list, a tuple, a dictionary etc. The flexibility of a list is great for collection of various types of related or and related data.\n",
        "\n",
        "10. Explain why strings are immutable in Python?\n",
        "\n",
        "In Python when we say immutability we mean that once the element has been created it cannot be chest. Strings are immutable in Python for ensuring safety, efficiency and performance of data.\n",
        "Any operation for modification of any string will create a new string and won't change the existing. Strings are immutable due to the following factors:\n",
        "Efficiency in memory: A string can be easily reused in memory as they cannot be changed.\n",
        "Security and predictability: They are used in critical places like dictionaries as immutability ensures they remain constant.\n",
        "Hashing support: An immutable object can be Hashed and used in a dictionary in the form of keys.\n",
        "\n",
        "11. What advantages do dictionaries offer over lists for certain tasks?\n",
        "\n",
        "In Python both dictionaries and lists are unique and have certain disadvantages and advantages over each other. Dictionaries in some cases offer several advantages over lists especially in cases of dealing with value pairs or fast look up.\n",
        "It offers faster lookup dictionaries that provide 0(1) time complexity for accessing elements by key value as list does it by 0(n) method making it set through each item to find the value.\n",
        "Meaningful key: Dictionaries use descriptive keys to classify the data, example name is place which makes it easier to access whereas list rely on index position which can sometimes be Messy.\n",
        "Flexible structure: Dictionary has the ability to store heterogeneous data example strings numbers list staple etc with clear labels whereas lists are best for ordered sequences data and not label data.\n",
        "Easier update: Updating specific values in the dictionary in the form of keys and values is much easier than in lists.\n",
        "\n",
        "12. Describe a scenario where using a tuple would be preferable over a list?\n",
        "\n",
        "A Tuple can be used preferably over a list in conditions where immutability is the primary goal. Let us take an example of location coordinates. A location coordinate of a place has to be stored; it should be immutable because the location coordinate will never change so in this case a tuple would preferably be used over a list to ensure data safety and integrity. As tuples are faster than lists so they use less memory and can also be used as a dictionary whereas list cannot.\n",
        "\n",
        "13. How do sets handle duplicate values in Python?\n",
        "\n",
        "Sets are a data type in Python that do not allow duplication of data. So if any duplicate values arise in a set it is automatically removed or discarded from the set.\n",
        "#my_set = {1, 2, 3, 2, 4, 1}\n",
        "#print(my_set)\n",
        "#output {1, 2, 3, 4}\n",
        "\n",
        "14. How does the “in” keyword work differently for lists and dictionaries?\n",
        "\n",
        "In Python the “in” keyword is used in list and dictionary for membership testing, but there is a slight difference in how it works in both. In list the “in” keyword checks for the existence of the given value among the elements of the list. Whereas in a dictionary the in keyword checks for the existence of a key in a dictionary and not the value.\n",
        "E.g.\n",
        "#my_list = [1, 2, 3, 4]\n",
        "#print(2 in my_list)   # True (2 is in the list)\n",
        "#print(5 in my_list)    # False\n",
        "#my_dict = {'name': 'Alice', 'age': 30}\n",
        "#print('name' in my_dict)   # True (checks for key)\n",
        "#print('Alice' in my_dict)   # False.\n",
        "\n",
        "15. Can you modify the elements of a tuple? Explain why or why not?\n",
        "\n",
        "No, you cannot modify elements of a tuple in Python. Tuples cannot be modified because they are immutable and its content cannot be changed after its creation; nothing can be added, removed or altered after once a tuple is created. This is done to ensure Data integrity, hashability and performance of the tuple.\n",
        "\n",
        "\n",
        "16. What is a nested dictionary, and give an example of its use case?\n",
        "\n",
        "A Nested dictionary in Python language is a dictionary with a dictionary as its value. It is used in case of storage of structure and hierarchical data like a dictionary inside a dictionary. It is used in cases of databases or records having multiple attributions, for organisation of data by category etc.\n",
        "Following is an example of nested:\n",
        "     # students = {\n",
        "          \"101\": {\"name\": \"Alice\", \"age\": 20, \"grade\": \"A\"},\n",
        "          \"102\": {\"name\": \"Bob\", \"age\": 22, \"grade\": \"B\"},\n",
        "          \"103\": {\"name\": \"Charlie\", \"age\": 21, \"grade\": \"A\"}\n",
        "      }\n",
        "        print(students[\"101\"][\"name\"])  # Output: Alice\n",
        "\n",
        "\n",
        "17. Describe the time complexity of accessing elements in a dictionary?\n",
        "\n",
        "The time complexity of accessing an element in the dictionary in Python language is 0(1) on average. Dictionaries are implemented in Python in the form of hash tables where keys are converted to Hash values directly mapping the memory location allowing constant time edit retrieval of data regardless of the size of the dictionary.\n",
        "While the worst case scenario with hash collision could degrade to 0(n). Python's implementation of optimization collision handling maintains the near constant time of performance in practice.\n",
        "When you access a value using my_dict[key], Python:\n",
        "Computes the hash value of the key\n",
        "Finds the corresponding memory location\n",
        "Returns the stored value immediately\n",
        "\n",
        "18. In what situations are lists preferred over dictionaries?\n",
        "\n",
        "List in Python is preferred over dictionaries in cases where the situation demands are as follows:\n",
        "The requirement is the maintenance of an order of elements useful for sequencing or positioning of items that are important.\n",
        "When you need values and not key value pairs.\n",
        "When we need to iterate over items in order, for example they are ideal for a loop where each item has to be processed one by one in a specific sequence.\n",
        "In cases where duplication of data is allowed and in performance of multiple indexed operations.\n",
        "\n",
        "19. Why are dictionaries considered unordered, and how does that affect data retrieval?\n",
        "\n",
        "In earlier versions of python dictionaries were considered unordered i.e. the insertion order of key value fair wasn't guaranteed. The internal structure also known as we have stable wasn't made to preserve order but was meant only for faster access ensured by key.\n",
        "Since the occurrence of python 3.7 and over dictionaries have started preservation of insertion order but are still referred to as unordered in concept as the main goal of dictionaries is fast key based access and not access on the base of order. The order has not to be relied on for logic unless it is needed specifically.\n",
        "Data retrieval in python:\n",
        "Access by key is fast (O(1)), but:\n",
        "You cannot access by position/index like in a list.\n",
        "You must know the key to retrieve its value.\n",
        "If you loop through a dictionary (in Python 3.7+), it goes in insertion order, but this is a side feature, not the main purpose.\n",
        "\n",
        "\n",
        "20. Explain the difference between a list and a dictionary in terms of data retrieval.\n",
        "\n",
        "In lists access is by index i.e. retrieving of elements using numeric position starting from zero whereas in dictionary access is given by key so data retrieval is done using elements having unique keys and not position.\n",
        "Lists have a faster lookup that is searching for a value on 0(n) time whereas in the dictionary they have a faster look by key as average 0(1) time.\n"
      ],
      "metadata": {
        "id": "VwB0N1FWC-Bm"
      }
    },
    {
      "cell_type": "code",
      "source": [
        "name = \"Avinash Chitransh\"\n",
        "print(name)"
      ],
      "metadata": {
        "colab": {
          "base_uri": "https://localhost:8080/"
        },
        "id": "ZPEl25JKyzrb",
        "outputId": "58e07d5e-94c4-4fa3-d26b-a72cd07e394a"
      },
      "execution_count": 1,
      "outputs": [
        {
          "output_type": "stream",
          "name": "stdout",
          "text": [
            "Avinash Chitransh\n"
          ]
        }
      ]
    },
    {
      "cell_type": "code",
      "source": [
        "a= \"Hello World\"\n",
        "print(len(a))\n",
        "print(a.index(\"d\"))\n"
      ],
      "metadata": {
        "colab": {
          "base_uri": "https://localhost:8080/"
        },
        "id": "rAeQqLF0yzpE",
        "outputId": "cc356f75-cac6-4667-b19a-0c374e13ef29"
      },
      "execution_count": 8,
      "outputs": [
        {
          "output_type": "stream",
          "name": "stdout",
          "text": [
            "11\n",
            "10\n"
          ]
        }
      ]
    },
    {
      "cell_type": "code",
      "source": [
        "name = \"Avinash Chitransh\"\n",
        "print(name[0:3])\n",
        "print(name[1:])\n",
        "print(name[:4])\n",
        "print(name[1:4:2])\n",
        "print(name[:])\n",
        "print(name[: :2])"
      ],
      "metadata": {
        "colab": {
          "base_uri": "https://localhost:8080/"
        },
        "id": "VeV1Ua6Myzmj",
        "outputId": "94436cc8-0a90-4794-ea0c-64ade4e64ddf"
      },
      "execution_count": 11,
      "outputs": [
        {
          "output_type": "stream",
          "name": "stdout",
          "text": [
            "Avi\n",
            "vinash Chitransh\n",
            "Avin\n",
            "vn\n",
            "Avinash Chitransh\n",
            "AiahCirnh\n"
          ]
        }
      ]
    },
    {
      "cell_type": "code",
      "source": [
        "name = \"Avinash Chitransh\"\n",
        "print(name.upper())\n",
        "print(name.lower())\n",
        "print(name.capitalize())\n",
        "print(name.title())"
      ],
      "metadata": {
        "colab": {
          "base_uri": "https://localhost:8080/"
        },
        "id": "lnitwbDEyzj7",
        "outputId": "70db3b0c-411e-4b64-b8ba-a2186b4347f4"
      },
      "execution_count": 13,
      "outputs": [
        {
          "output_type": "stream",
          "name": "stdout",
          "text": [
            "AVINASH CHITRANSH\n",
            "avinash chitransh\n",
            "Avinash chitransh\n",
            "Avinash Chitransh\n"
          ]
        }
      ]
    },
    {
      "cell_type": "code",
      "source": [
        "s=\"I like apple\"\n",
        "s1=s.replace(\"apple\", \"oranges\")\n",
        "print(s1)"
      ],
      "metadata": {
        "colab": {
          "base_uri": "https://localhost:8080/"
        },
        "id": "62XOOlKfyzhL",
        "outputId": "216fc4e1-c211-4b43-954c-24fc5de7111d"
      },
      "execution_count": 17,
      "outputs": [
        {
          "output_type": "stream",
          "name": "stdout",
          "text": [
            "I like oranges\n"
          ]
        }
      ]
    },
    {
      "cell_type": "code",
      "source": [
        "l=list(range(1,6))\n",
        "print(l)"
      ],
      "metadata": {
        "colab": {
          "base_uri": "https://localhost:8080/"
        },
        "id": "hU54BbwlyzZM",
        "outputId": "78d44ae8-9dba-4b4c-beb5-7d5509adfc98"
      },
      "execution_count": 21,
      "outputs": [
        {
          "output_type": "stream",
          "name": "stdout",
          "text": [
            "[1, 2, 3, 4, 5]\n"
          ]
        }
      ]
    },
    {
      "cell_type": "code",
      "source": [
        "a= [1, 2, 3, 4]\n",
        "a.append(10)\n",
        "print(a)"
      ],
      "metadata": {
        "colab": {
          "base_uri": "https://localhost:8080/"
        },
        "id": "9m3bKOjJyzLT",
        "outputId": "9f97c930-0040-4fd7-a0a1-776ca5d38632"
      },
      "execution_count": 2,
      "outputs": [
        {
          "output_type": "stream",
          "name": "stdout",
          "text": [
            "[1, 2, 3, 4, 10]\n"
          ]
        }
      ]
    },
    {
      "cell_type": "code",
      "source": [
        "a= [1, 2, 3, 4, 5]\n",
        "a.pop(2)\n",
        "a"
      ],
      "metadata": {
        "colab": {
          "base_uri": "https://localhost:8080/"
        },
        "id": "dv4ddFkVyy-j",
        "outputId": "0cead712-b853-487b-f530-4dd1c3d6be0e"
      },
      "execution_count": 11,
      "outputs": [
        {
          "output_type": "execute_result",
          "data": {
            "text/plain": [
              "[1, 2, 4, 5]"
            ]
          },
          "metadata": {},
          "execution_count": 11
        }
      ]
    },
    {
      "cell_type": "code",
      "source": [
        "a= [1, 2, 3, 4, 5]\n",
        "a.remove(3)\n",
        "a"
      ],
      "metadata": {
        "colab": {
          "base_uri": "https://localhost:8080/"
        },
        "id": "dJxB_eXTzf4i",
        "outputId": "5554c5d1-dda0-4046-f959-7e80781e3bf1"
      },
      "execution_count": 6,
      "outputs": [
        {
          "output_type": "execute_result",
          "data": {
            "text/plain": [
              "[1, 2, 4, 5]"
            ]
          },
          "metadata": {},
          "execution_count": 6
        }
      ]
    },
    {
      "cell_type": "code",
      "source": [
        "L_1= ['a', 'b', 'c', 'd']\n",
        "L=L_1[1]\n",
        "print(\"The second element is:\",L)"
      ],
      "metadata": {
        "colab": {
          "base_uri": "https://localhost:8080/"
        },
        "id": "G18g3XQ_zvG7",
        "outputId": "a201ea06-72b5-489f-a65e-cdea5c0df2b2"
      },
      "execution_count": 8,
      "outputs": [
        {
          "output_type": "stream",
          "name": "stdout",
          "text": [
            "The second element is: b\n"
          ]
        }
      ]
    },
    {
      "cell_type": "code",
      "source": [
        "L_2=[10, 20, 30, 40, 50]\n",
        "L_2.reverse()\n",
        "print(\"The reverse oder of the list is:\",L_2)"
      ],
      "metadata": {
        "colab": {
          "base_uri": "https://localhost:8080/"
        },
        "id": "_te2s1Nbz8gk",
        "outputId": "3bb5147b-8181-48b8-f833-c47e3f5bd386"
      },
      "execution_count": 20,
      "outputs": [
        {
          "output_type": "stream",
          "name": "stdout",
          "text": [
            "The reverse oder of the list is: [50, 40, 30, 20, 10]\n"
          ]
        }
      ]
    },
    {
      "cell_type": "code",
      "source": [
        "t_1=(100,200,300)\n",
        "print(\"The tuple is:\",t_1)"
      ],
      "metadata": {
        "colab": {
          "base_uri": "https://localhost:8080/"
        },
        "id": "8idrRLIS0m1Y",
        "outputId": "657e49a2-29f6-4c6d-cc5d-4ffb847defac"
      },
      "execution_count": 19,
      "outputs": [
        {
          "output_type": "stream",
          "name": "stdout",
          "text": [
            "The tuple is: (100, 200, 300)\n"
          ]
        }
      ]
    },
    {
      "cell_type": "code",
      "source": [
        "t_2=('red', 'green', 'blue', 'yellow')\n",
        "t_2=t_2[2]\n",
        "print(\"The second-to-last element of the tuple is:\",t_2)"
      ],
      "metadata": {
        "colab": {
          "base_uri": "https://localhost:8080/"
        },
        "id": "UKNgRP9H09qk",
        "outputId": "eac7f9df-cc68-486d-95ff-38657df068f2"
      },
      "execution_count": 22,
      "outputs": [
        {
          "output_type": "stream",
          "name": "stdout",
          "text": [
            "The second-to-last element of the tuple is: blue\n"
          ]
        }
      ]
    },
    {
      "cell_type": "code",
      "source": [
        "t_2=('red', 'green', 'blue', 'yellow')\n",
        "t_2=t_2[-2]\n",
        "print(\"The second-to-last element of the tuple is:\",t_2)"
      ],
      "metadata": {
        "colab": {
          "base_uri": "https://localhost:8080/"
        },
        "id": "jDhJbL7F1OjQ",
        "outputId": "1df6eebf-2555-4f88-e04c-8c2ec9f24cce"
      },
      "execution_count": 23,
      "outputs": [
        {
          "output_type": "stream",
          "name": "stdout",
          "text": [
            "The second-to-last element of the tuple is: blue\n"
          ]
        }
      ]
    },
    {
      "cell_type": "code",
      "source": [
        "t_3=(10, 20, 5, 15)\n",
        "t_3=(min(t_3))\n",
        "print(\"The minimum number in the tuple is:\",t_3)"
      ],
      "metadata": {
        "colab": {
          "base_uri": "https://localhost:8080/"
        },
        "id": "xYADpivx1trD",
        "outputId": "06efe67c-23fd-44c2-dca7-4b825769dc2d"
      },
      "execution_count": 25,
      "outputs": [
        {
          "output_type": "stream",
          "name": "stdout",
          "text": [
            "The minimum number in the tuple is: 5\n"
          ]
        }
      ]
    },
    {
      "cell_type": "code",
      "source": [
        "t_4= ('dog', 'cat', 'rabbit')\n",
        "t_4=t_4.index(\"cat\")\n",
        "print(\"The index of cat is:\",t_4)"
      ],
      "metadata": {
        "colab": {
          "base_uri": "https://localhost:8080/"
        },
        "id": "wf6dlurL2an0",
        "outputId": "30f10c8b-ca69-4cbd-f145-939e468c2575"
      },
      "execution_count": 27,
      "outputs": [
        {
          "output_type": "stream",
          "name": "stdout",
          "text": [
            "The index of cat is: 1\n"
          ]
        }
      ]
    },
    {
      "cell_type": "code",
      "source": [
        "a=input(\"Enter the name od the fruit:\")\n",
        "t_5= (\"Apple\", \"Oranges\", \"kiwi\",\"Banana\",\"grapes\",\"Mango\")\n",
        "for i in t_5:\n",
        "  if a in t_5:\n",
        "    print(\"The fruit is in the tuple\")\n",
        "    break\n",
        "  else:\n",
        "    print(\"The fruit is not in the tuple\")\n",
        "    break"
      ],
      "metadata": {
        "colab": {
          "base_uri": "https://localhost:8080/"
        },
        "id": "8Jpl1jd_2v-Z",
        "outputId": "f8198450-07f2-4ed8-a89b-00f0f327c344"
      },
      "execution_count": 31,
      "outputs": [
        {
          "output_type": "stream",
          "name": "stdout",
          "text": [
            "Enter the name od the fruit:kiwi\n",
            "The fruit is in the tuple\n"
          ]
        }
      ]
    },
    {
      "cell_type": "code",
      "source": [
        "t_5= (\"Apple\", \"Oranges\", \"kiwi\",\"Banana\",\"grapes\",\"Mango\")\n",
        "if 'kiwi' in t_5:\n",
        "    print(\"Kiwi is in the tuple.\")\n",
        "else:\n",
        "    print(\"Kiwi is not in the tuple.\")"
      ],
      "metadata": {
        "colab": {
          "base_uri": "https://localhost:8080/"
        },
        "id": "oDqS9RkI4X9_",
        "outputId": "24e9d4a5-bdea-452c-b103-64475b7d6201"
      },
      "execution_count": 34,
      "outputs": [
        {
          "output_type": "stream",
          "name": "stdout",
          "text": [
            "Kiwi is in the tuple.\n"
          ]
        }
      ]
    },
    {
      "cell_type": "code",
      "source": [
        "s={\"a\", \"b\", \"c\"}\n",
        "print(s)\n",
        "print(type(s))\n",
        "print(len(s))\n"
      ],
      "metadata": {
        "colab": {
          "base_uri": "https://localhost:8080/"
        },
        "id": "UfA45NHs4mTo",
        "outputId": "f71c96ab-f4f7-4b1a-edff-70ba11e36177"
      },
      "execution_count": 35,
      "outputs": [
        {
          "output_type": "stream",
          "name": "stdout",
          "text": [
            "{'a', 'b', 'c'}\n",
            "<class 'set'>\n",
            "3\n"
          ]
        }
      ]
    },
    {
      "cell_type": "code",
      "source": [
        "s_1= {1, 2, 3, 4, 5}\n",
        "s_1.clear()\n",
        "print(\"Set after clearing:\", s_1)"
      ],
      "metadata": {
        "colab": {
          "base_uri": "https://localhost:8080/"
        },
        "id": "Pm_5gpzO4mP0",
        "outputId": "6b1cbe00-e55f-40fb-b3a5-21409506bbae"
      },
      "execution_count": 38,
      "outputs": [
        {
          "output_type": "stream",
          "name": "stdout",
          "text": [
            "Set after clearing: set()\n"
          ]
        }
      ]
    },
    {
      "cell_type": "code",
      "source": [
        " s_2={1, 2, 3, 4}\n",
        " s_2.remove(4)\n",
        " print(\"Set after removing:\", s_2)"
      ],
      "metadata": {
        "colab": {
          "base_uri": "https://localhost:8080/"
        },
        "id": "E7YaI04h4mI5",
        "outputId": "e0b7870d-6080-4fab-9113-4c8ea003758e"
      },
      "execution_count": 4,
      "outputs": [
        {
          "output_type": "stream",
          "name": "stdout",
          "text": [
            "Set after removing: {1, 2, 3}\n"
          ]
        }
      ]
    },
    {
      "cell_type": "code",
      "source": [
        "s_3={1, 2, 3}\n",
        "s_4={3, 4, 5}\n",
        "s_5=s_3.union(s_4)\n",
        "print(\"Union of s_3 and s_4:\", s_5)"
      ],
      "metadata": {
        "colab": {
          "base_uri": "https://localhost:8080/"
        },
        "id": "8eufEjF34mDi",
        "outputId": "30bbf0cc-21e1-401c-b965-926a61161f91"
      },
      "execution_count": 1,
      "outputs": [
        {
          "output_type": "stream",
          "name": "stdout",
          "text": [
            "Union of s_3 and s_4: {1, 2, 3, 4, 5}\n"
          ]
        }
      ]
    },
    {
      "cell_type": "code",
      "source": [
        "s_3={1, 2, 3}\n",
        "s_4={3, 4, 5}\n",
        "s_5=(s_3|s_4)\n",
        "print(\"Union of s_3 and s_4:\", s_5)"
      ],
      "metadata": {
        "colab": {
          "base_uri": "https://localhost:8080/"
        },
        "id": "p4JG_p894mAn",
        "outputId": "7eaad924-8ad4-4803-fd62-1c34177bcae8"
      },
      "execution_count": 2,
      "outputs": [
        {
          "output_type": "stream",
          "name": "stdout",
          "text": [
            "Union of s_3 and s_4: {1, 2, 3, 4, 5}\n"
          ]
        }
      ]
    },
    {
      "cell_type": "code",
      "source": [
        "s_6={1, 2, 3}\n",
        "s_7={2, 3, 4}\n",
        "s_8=s_6.intersection(s_7)\n",
        "print(\"Intersection of s_6 and s_7:\", s_8)"
      ],
      "metadata": {
        "colab": {
          "base_uri": "https://localhost:8080/"
        },
        "id": "4IRJbvGF4l9Q",
        "outputId": "c6926ffc-b7da-4bd1-fdc5-2df79c444faa"
      },
      "execution_count": 6,
      "outputs": [
        {
          "output_type": "stream",
          "name": "stdout",
          "text": [
            "Intersection of s_6 and s_7: {2, 3}\n"
          ]
        }
      ]
    },
    {
      "cell_type": "code",
      "source": [
        "s_6={1, 2, 3}\n",
        "s_7={2, 3, 4,}\n",
        "s_8=s_6&s_7\n",
        "print(\"Intersection of s_6 and s_7:\", s_8)"
      ],
      "metadata": {
        "colab": {
          "base_uri": "https://localhost:8080/"
        },
        "id": "PDpfshPK4l3g",
        "outputId": "4526a6ac-75f1-44b9-f3df-f15797d25b5e"
      },
      "execution_count": 7,
      "outputs": [
        {
          "output_type": "stream",
          "name": "stdout",
          "text": [
            "Intersection of s_6 and s_7: {2, 3}\n"
          ]
        }
      ]
    },
    {
      "cell_type": "code",
      "source": [
        "d={\"name\":\"Avinash\",\"age\":30,\"city\":\"Delhi\"}\n",
        "print(d)"
      ],
      "metadata": {
        "colab": {
          "base_uri": "https://localhost:8080/"
        },
        "id": "ArZdGA1D4lwQ",
        "outputId": "6fcf85a4-9759-4271-b836-5e6f661b573d"
      },
      "execution_count": 9,
      "outputs": [
        {
          "output_type": "stream",
          "name": "stdout",
          "text": [
            "{'name': 'Avinash', 'age': 30, 'city': 'Delhi'}\n"
          ]
        }
      ]
    },
    {
      "cell_type": "code",
      "source": [
        "d_1={\"name\": \"John\", \"age\": 25}\n",
        "d_2={\"country\": \"USA\"}\n",
        "d_1.update(d_2)\n",
        "print(\"Updated dictionary:\", d_1)"
      ],
      "metadata": {
        "colab": {
          "base_uri": "https://localhost:8080/"
        },
        "id": "vjCz86Pp4lkA",
        "outputId": "76dad362-5e95-49d2-df68-fd420de6e9d1"
      },
      "execution_count": 10,
      "outputs": [
        {
          "output_type": "stream",
          "name": "stdout",
          "text": [
            "Updated dictionary: {'name': 'John', 'age': 25, 'country': 'USA'}\n"
          ]
        }
      ]
    },
    {
      "cell_type": "code",
      "source": [
        "d_3={'name': 'Alice', 'age': 30}\n",
        "a=d_3[\"name\"]\n",
        "print(\"The value associated with 'name' is:\", a)"
      ],
      "metadata": {
        "colab": {
          "base_uri": "https://localhost:8080/"
        },
        "id": "L0fC_x9aRBfv",
        "outputId": "07399cf2-d593-4eed-a53e-85adf1ff86b9"
      },
      "execution_count": 14,
      "outputs": [
        {
          "output_type": "stream",
          "name": "stdout",
          "text": [
            "The value associated with 'name' is: Alice\n"
          ]
        }
      ]
    },
    {
      "cell_type": "code",
      "source": [
        "d_4= {'name': 'Bob', 'age': 22, 'city': 'New York'}\n",
        "d_4.pop(\"age\")\n",
        "print(\"Updated dictionary:\", d_4)"
      ],
      "metadata": {
        "colab": {
          "base_uri": "https://localhost:8080/"
        },
        "id": "m1aElR6RR3Eb",
        "outputId": "2c6b3ca5-e9b2-4130-9e82-0f45b6744df7"
      },
      "execution_count": 15,
      "outputs": [
        {
          "output_type": "stream",
          "name": "stdout",
          "text": [
            "Updated dictionary: {'name': 'Bob', 'city': 'New York'}\n"
          ]
        }
      ]
    },
    {
      "cell_type": "code",
      "source": [
        "d_4= {'name': 'Bob', 'age': 22, 'city': 'New York'}\n",
        "del d_4[\"age\"]\n",
        "print(d_4)"
      ],
      "metadata": {
        "colab": {
          "base_uri": "https://localhost:8080/"
        },
        "id": "SNFN4lCTSryd",
        "outputId": "565ce287-7516-4550-a6ef-474d4c878857"
      },
      "execution_count": 19,
      "outputs": [
        {
          "output_type": "stream",
          "name": "stdout",
          "text": [
            "{'name': 'Bob', 'city': 'New York'}\n"
          ]
        }
      ]
    },
    {
      "cell_type": "code",
      "source": [
        "d_5= {'name': 'Alice', 'city': 'Paris'}\n",
        "if \"city\" in d_5:\n",
        "    print(\"The key 'city' is present in the dictionary.\")\n",
        "else:\n",
        "    print(\"The key 'city' is not present in the dictionary.\")"
      ],
      "metadata": {
        "colab": {
          "base_uri": "https://localhost:8080/"
        },
        "id": "Gpm752YbSzgr",
        "outputId": "cba4f079-3e21-4244-9e83-804874648f96"
      },
      "execution_count": 20,
      "outputs": [
        {
          "output_type": "stream",
          "name": "stdout",
          "text": [
            "The key 'city' is present in the dictionary.\n"
          ]
        }
      ]
    },
    {
      "cell_type": "code",
      "source": [
        "d_5= {'name': 'Alice', 'city': 'Paris'}\n",
        "for i in d_5:\n",
        "  if i==\"city\":\n",
        "    print(\"The key 'city' is present in the dictionary.\")\n",
        "    break\n",
        "  else:\n",
        "    print(\"The key 'city' is not present in the dictionary.\")"
      ],
      "metadata": {
        "colab": {
          "base_uri": "https://localhost:8080/"
        },
        "id": "f_pJJNeoTb1k",
        "outputId": "f62aa318-2a76-4404-edd4-03fb2ed955e2"
      },
      "execution_count": 27,
      "outputs": [
        {
          "output_type": "stream",
          "name": "stdout",
          "text": [
            "The key 'city' is not present in the dictionary.\n",
            "The key 'city' is present in the dictionary.\n"
          ]
        }
      ]
    },
    {
      "cell_type": "code",
      "source": [
        "# Creating a list\n",
        "my_list = [1, 2, 3.5, True, 5+6j, [\"Avinash\", \"Chitransh\"]]\n",
        "\n",
        "# Creating a tuple\n",
        "my_tuple = ('apple', 'banana', 'cherry', 1, 3 ,4.5, True, 4+6j)\n",
        "\n",
        "# Creating a dictionary\n",
        "my_dict = {'name': 'Alice', 'age': 30, 'city': 'Paris'}\n",
        "print(my_list, my_tuple,my_dict)\n",
        "print(my_list, type(my_list))\n",
        "print(my_tuple, type(my_tuple))\n",
        "print(my_dict, type(my_dict))"
      ],
      "metadata": {
        "colab": {
          "base_uri": "https://localhost:8080/"
        },
        "id": "DR-Ek6GdTqgA",
        "outputId": "bb736579-561a-4901-f1ab-4ccb2c17f53f"
      },
      "execution_count": 36,
      "outputs": [
        {
          "output_type": "stream",
          "name": "stdout",
          "text": [
            "[1, 2, 3.5, True, (5+6j), ['Avinash', 'Chitransh']] ('apple', 'banana', 'cherry', 1, 3, 4.5, True, (4+6j)) {'name': 'Alice', 'age': 30, 'city': 'Paris'}\n",
            "[1, 2, 3.5, True, (5+6j), ['Avinash', 'Chitransh']] <class 'list'>\n",
            "('apple', 'banana', 'cherry', 1, 3, 4.5, True, (4+6j)) <class 'tuple'>\n",
            "{'name': 'Alice', 'age': 30, 'city': 'Paris'} <class 'dict'>\n"
          ]
        }
      ]
    },
    {
      "cell_type": "code",
      "source": [
        "import random\n",
        "a=[random.randint(1,100) for i in range(5)]\n",
        "a.sort()\n",
        "print(\"The sorted list in ascending order is:\",a)"
      ],
      "metadata": {
        "colab": {
          "base_uri": "https://localhost:8080/"
        },
        "id": "axMiiNHqVCbE",
        "outputId": "ce54f58c-d716-4547-fd99-e1428645404a"
      },
      "execution_count": 49,
      "outputs": [
        {
          "output_type": "stream",
          "name": "stdout",
          "text": [
            "The sorted list in ascending order is: [29, 36, 53, 74, 76]\n"
          ]
        }
      ]
    },
    {
      "cell_type": "code",
      "source": [
        "import random\n",
        "a=[random.randint(1,100) for i in range(5)]\n",
        "a.sort(reverse=True)\n",
        "print(\"The sorted list in descending order is:\",a)"
      ],
      "metadata": {
        "colab": {
          "base_uri": "https://localhost:8080/"
        },
        "id": "AGlWe9-WXWw8",
        "outputId": "e97ac433-4797-4283-a89f-859fd59cd05e"
      },
      "execution_count": 50,
      "outputs": [
        {
          "output_type": "stream",
          "name": "stdout",
          "text": [
            "The sorted list in descending order is: [95, 69, 65, 47, 19]\n"
          ]
        }
      ]
    },
    {
      "cell_type": "code",
      "source": [
        "my_list = [1, 2, 3.5, True, 5+6j, [\"Avinash\", \"Chitransh\"]]\n",
        "x=my_list[3]\n",
        "print(\"The third index of the list is:\", x)"
      ],
      "metadata": {
        "colab": {
          "base_uri": "https://localhost:8080/"
        },
        "id": "RCKo3JeWY8d9",
        "outputId": "c05109f9-47a1-47d0-b9a7-1c8f2dc0cda9"
      },
      "execution_count": 52,
      "outputs": [
        {
          "output_type": "stream",
          "name": "stdout",
          "text": [
            "The third index of the list is: True\n"
          ]
        }
      ]
    },
    {
      "cell_type": "code",
      "source": [
        "d1 = {'name': 'Alice', 'age': 30, 'city': 'Paris'}\n",
        "d2 = {\"Fruit\":\"Mango\", \"country\":\"India\"}\n",
        "d3 = {**d1, **d2}\n",
        "print(\"The combination of two dictionaries are:\", d3)"
      ],
      "metadata": {
        "colab": {
          "base_uri": "https://localhost:8080/"
        },
        "id": "0SCGKl_YZ5z2",
        "outputId": "3c4c1de5-e4bf-4845-e07f-2cfb8039588e"
      },
      "execution_count": 55,
      "outputs": [
        {
          "output_type": "stream",
          "name": "stdout",
          "text": [
            "The combination of two dictionaries are: {'name': 'Alice', 'age': 30, 'city': 'Paris', 'Fruit': 'Mango', 'country': 'India'}\n"
          ]
        }
      ]
    },
    {
      "cell_type": "code",
      "source": [
        "my_list = [\"Avinash\", \"Chitransh\", \"apple\", \"banana\", \"cherry\"]\n",
        "S=set(my_list)\n",
        "print(S)"
      ],
      "metadata": {
        "colab": {
          "base_uri": "https://localhost:8080/"
        },
        "id": "9nktpkKDaYGk",
        "outputId": "5a7cba27-4e70-405a-98f6-5a2630e73ab0"
      },
      "execution_count": 56,
      "outputs": [
        {
          "output_type": "stream",
          "name": "stdout",
          "text": [
            "{'Avinash', 'Chitransh', 'cherry', 'banana', 'apple'}\n"
          ]
        }
      ]
    },
    {
      "cell_type": "code",
      "source": [],
      "metadata": {
        "id": "kv1u8VMPbjFl"
      },
      "execution_count": null,
      "outputs": []
    }
  ]
}