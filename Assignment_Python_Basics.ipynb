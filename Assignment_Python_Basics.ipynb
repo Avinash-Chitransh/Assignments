{
  "nbformat": 4,
  "nbformat_minor": 0,
  "metadata": {
    "colab": {
      "provenance": []
    },
    "kernelspec": {
      "name": "python3",
      "display_name": "Python 3"
    },
    "language_info": {
      "name": "python"
    }
  },
  "cells": [
    {
      "cell_type": "code",
      "execution_count": null,
      "metadata": {
        "id": "k_PRtwwj0gV2"
      },
      "outputs": [],
      "source": []
    },
    {
      "cell_type": "markdown",
      "source": [
        "#Python Basics Questions"
      ],
      "metadata": {
        "id": "MYt88thf1kpl"
      }
    },
    {
      "cell_type": "markdown",
      "source": [
        "1. What is Python, and why is it popular?\n",
        "\n",
        "Python is a high level interpreted programming language which is known for its simplicity and being reliable along with being versatile.\n",
        "The language Python was first created by Guido van Rossum in 1991 since then it is being used in public as an open source programming language.\n",
        "It has simple syntax making it easy for beginners to code on and its versatility allows it to be suitable for multiple tasks.\n",
        "\n",
        "It is one of the most popular programming languages due to various reasons some of which are as follows:\n",
        "It has the ability to support multiple programming Paradigm that can include procedural, functional or object oriented.\n",
        "It has a vast number of libraries exceeding 1.2 lakhs making its ecosystem very vibrant and easy to use and it allows it to build applications efficiently.\n",
        "Its reliability and usage in sectors of data science artificial intelligence machine learning automation etc.\n",
        "Vast community\n",
        "Scalability and versatility which allows it to program from small to very big data it also has huge integration capabilities like flask fast API etc.\n",
        "It is an open source and cost efficient solution so that is why it is very popular.\n",
        "\n",
        "\n",
        "2. What is an interpreter in Python?\n",
        "\n",
        "An interpreter in Python is defined as a program that reads and executes any python code line by line. It is different from other compiled languages in the sense that the entire code is translated into machine language before running and it is interpreted at run time.\n",
        "Does developing faster flexible and error free by catching them in line by line manner allowing to debug easily\n",
        "It converts human readable code into the form understood by computer that is bytecode before executing it by PVM (Python virtual machine) .The process allows python to run on various platforms without any changes in the court. Some of the common examples of python interpreters are py py, CPython etc.\n",
        "\n",
        "3. What are pre-defined keywords in Python?\n",
        "\n",
        "Predefined keywords are a set of words in Python language that are reserved and have some special meaning which form the coding languages syntax they are commonly used for defining structural and control flow of the code.\n",
        "List of pre-defined keywords in python are: ['False', 'None', 'True', 'and', 'as', 'assert', 'async', 'await', 'break', 'class', 'continue', 'def', 'del', 'elif', 'else', 'except', 'finally', 'for', 'from', 'global', 'if', 'import', 'in', 'is', 'lambda', 'nonlocal', 'not', 'or', 'pass', 'raise', 'return', 'try', 'while', 'with', 'yield'].\n",
        "It can be seen using the code.\n",
        "\timport keyword\n",
        "print(keyword.kwlist)\n",
        "\n",
        "4. Can keywords be used as variable names?\n",
        "\n",
        "No in Python keywords are not used as a variable name while writing quotes. As keywords are a set of Reserve words having special meaning and forming the language's syntax example for while if else etc. If these keywords are used as a variable it would confuse the interpreter leading to Syntax error.\n",
        "For example we write a code if = 10 then if in the code and “if function” arises the interpreter will not be able to execute the if conditionally statement.\n",
        "\n",
        "5. What is mutability in Python?\n",
        "In Python the concept of mutability refers to a situation where an object's value can be changed after its creation. There are many functions or objects in Python that are mutable like dictionary sets; they can be modified in each place after its creation while there are also some immutable objects like strings, tuples.\n",
        "\n",
        "6. Why are lists mutable, but tuples are immutable?\n",
        "\n",
        "In Python lists are considered mutable as they are designed for storing dynamic collection of items; it can store float value or integer or any strings in it which can also change during the execution of the program. This makes it necessary to be flexible to add remove or modified items for easy execution of program\n",
        "Whereas in tuples they are immutable because they are designed to ensure data integrity and data consistency. They generally are used for fixed collection data like coordinates configuration values etc. The immunity factor of tuple makes it memory efficient and safer to use as data manipulation is not possible unlike dictionary.\n",
        "\n",
        "7. What is the difference between “==” and “is” operators in Python?\n",
        "In Python both the signs (“==” and is) are comparison operator but they have different purposes\n",
        "\n",
        "“==” sign compare values it checks whether both the variables have the same content or not.\n",
        "E.g\n",
        "a=5\n",
        "b=5\n",
        "if(a==b):\n",
        "\tprint(“both are equal”)\n",
        "else:\n",
        "print(“Both are different”)\n",
        "Whereas “i”s function compass identities, that is it checks if the given two variables point to the same object in the memory or not.\n",
        "print(a is b)\n",
        "So “==” is used for inequalities of value and it is used for identity comparison.\n",
        "\n",
        "8. What are logical operators in Python?\n",
        "\n",
        "Logical operators in Python coding language are functions that are used to perform complex conditionality expressions using a combination of simpler conditions.\n",
        "There are prime merrily three logical operators in Python which are AND, OR and NOT.\n",
        "The “AND” functions give the resultant or output as true if both the conditions given to it are true if any of the function is not true it will not return true.\n",
        "e.g. a=5,  conditions, a>0 and a<10.\n",
        "The “OR” function will return true if any of the given conditions is true.\n",
        "The “NOT” condition is seen as the reverse of the “AND” condition and it will return true only if both the given conditions to it are false.\n",
        "\n",
        "9. What is type casting in Python?\n",
        "\n",
        "Type casting is defined as a process in Python coating language where a data type is converted into another data type. It is needed in the case where a performing operation between different data types is required.\n",
        "There are two types of casting:\n",
        "Implicit casting and,\n",
        "Explicit casting.\n",
        "\n",
        "10. What is the difference between implicit and explicit type casting?\n",
        "\n",
        "Implicit casting is the process of casting that is being done automatically by Python example converting an integer type value into a float type value during operations. e.g. result = 5 + 3.0.\n",
        "Whereas explicit Type casting is done by the Coder manually using the build in function example:\n",
        "a=int(input(\"Enter the age:\"))\n",
        "if(a>21):\n",
        "     print(\"You will be served alcohol\")\n",
        "else:\n",
        "   print(\"get out of the bar\").\n",
        "\n",
        "11. What is the purpose of conditional statements in Python?\n",
        "\n",
        "In Python conditional statements are used to control the flow of any program by executing intended blocks or conditions on the basis of false or true. These programs allow easier decision making responding to different outputs in different inputs some of the conditional statements used in our if else. These controls are essential for the implementations of Logix given in the program like validity the inputs handling the outputs making the program dynamic and interactive and responsive to different given conditions.\n",
        "\n",
        "12. How does the elif statement work?\n",
        "\n",
        "The “ELIF” statement is a short form of “else and if” in Python. It is used in checking multiple conditions data Rises inside if conditional statement full stop it makes the program more dynamic and enables set to perform or evaluate multiple expressions in sequence and execute the particular block of code for which the first condition under if true.\n",
        "e.g. x = 10\n",
        "\n",
        "if x > 20:\n",
        "    print(\"Greater than 20\")\n",
        "elif x > 5:\n",
        "    print(\"Greater than 5\")\n",
        "else:\n",
        "    print(\"5 or less\")\n",
        "\n",
        "13. What is the difference between for and while loops?\n",
        "\n",
        "For and while are loops used in Python both for iteration but they differ in the manner of operation.\n",
        "A for loop is generally used if it is known in advance how many times the block has to repeat in the court alternating over sequences like strings etc.\n",
        "Whereas a while loop is used where the number of alterations remains alone and the loop has to continue as long as the condition is true.\n",
        "\n",
        "14. Describe a scenario where a while loop is more suitable than a for loop?\n",
        "\n",
        "A while loop is considered to be more suitable than a for loop when the number of hydrogen is unknown beforehand and it will depend on the condition being met dynamically. For example, let us prompt a program to enter password for the user until the password is entered correctly so the number of times the user will take to input the correct password remains so a while loop will be better for this case.\n",
        "e.g.\n",
        "correct_password = \"python123\"\n",
        "user_input = \"\"\n",
        "\n",
        "while user_input != correct_password:\n",
        "  user_input = input(\"Enter password: \")\n",
        "\n"
      ],
      "metadata": {
        "id": "1wVnp6rh0z9T"
      }
    },
    {
      "cell_type": "markdown",
      "source": [
        "#Practical Questions"
      ],
      "metadata": {
        "id": "siMFHCsw1pyC"
      }
    },
    {
      "cell_type": "code",
      "source": [
        "print(\"Hello World\")"
      ],
      "metadata": {
        "colab": {
          "base_uri": "https://localhost:8080/"
        },
        "id": "UdGW50v31ta8",
        "outputId": "299cd0ed-14a6-4ead-929a-20a1eb4891e9"
      },
      "execution_count": 2,
      "outputs": [
        {
          "output_type": "stream",
          "name": "stdout",
          "text": [
            "Hello World\n"
          ]
        }
      ]
    },
    {
      "cell_type": "code",
      "source": [
        "a=input(\"Enter your name:\")\n",
        "b=int(input(\"Enter your age\"))\n",
        "print(\"your name is\", a)\n",
        "print(\"your age is\", b)\n"
      ],
      "metadata": {
        "colab": {
          "base_uri": "https://localhost:8080/"
        },
        "id": "Syl0bHpK1zNV",
        "outputId": "660257fe-2967-479e-cf60-7d7c7faae49b"
      },
      "execution_count": 4,
      "outputs": [
        {
          "output_type": "stream",
          "name": "stdout",
          "text": [
            "Enter your name:Avinash Chitransh\n",
            "Enter your age32\n",
            "your name is Avinash Chitransh\n",
            "your age is 32\n"
          ]
        }
      ]
    },
    {
      "cell_type": "markdown",
      "source": [],
      "metadata": {
        "id": "7MI5oFOH1s1T"
      }
    },
    {
      "cell_type": "code",
      "source": [
        "import keyword\n",
        "print(keyword.kwlist)\n"
      ],
      "metadata": {
        "colab": {
          "base_uri": "https://localhost:8080/"
        },
        "id": "sgAon65C27NE",
        "outputId": "cedfe0ae-bd93-4298-81d5-f817a81c82d4"
      },
      "execution_count": 6,
      "outputs": [
        {
          "output_type": "stream",
          "name": "stdout",
          "text": [
            "['False', 'None', 'True', 'and', 'as', 'assert', 'async', 'await', 'break', 'class', 'continue', 'def', 'del', 'elif', 'else', 'except', 'finally', 'for', 'from', 'global', 'if', 'import', 'in', 'is', 'lambda', 'nonlocal', 'not', 'or', 'pass', 'raise', 'return', 'try', 'while', 'with', 'yield']\n"
          ]
        }
      ]
    },
    {
      "cell_type": "code",
      "source": [
        "import keyword\n",
        "a=input(\"Enter the word:\")\n",
        "if keyword.iskeyword(a):\n",
        "  print(\"This is a keyword\")\n",
        "else:\n",
        "  print(\"This is not a keyword\")\n"
      ],
      "metadata": {
        "colab": {
          "base_uri": "https://localhost:8080/"
        },
        "id": "eDMPVXA-3NqQ",
        "outputId": "c6325994-2b9e-4dac-c1eb-285f1b900875"
      },
      "execution_count": 7,
      "outputs": [
        {
          "output_type": "stream",
          "name": "stdout",
          "text": [
            "Enter the word:elif\n",
            "This is a keyword\n"
          ]
        }
      ]
    },
    {
      "cell_type": "code",
      "source": [
        "list_1=[1,2,3,4,\"Avinash\",\"Chitransh\",\"PWSkills\", 3.5, True]\n",
        "list_1[2]=\"Sunny day\"\n",
        "print(list_1)\n",
        "\n",
        "tup_1=(1, 2, 3.5, \"Avinash\", [3, 4], {\"a\": 5},)\n",
        "tup_1[3]=\"Rainy day\"\n",
        "print(tup_1)"
      ],
      "metadata": {
        "colab": {
          "base_uri": "https://localhost:8080/",
          "height": 211
        },
        "id": "ROrwRisP4Ry4",
        "outputId": "e0501a54-85fb-4cd8-ddd1-97a1cae92f3e"
      },
      "execution_count": 10,
      "outputs": [
        {
          "output_type": "stream",
          "name": "stdout",
          "text": [
            "[1, 2, 'Sunny day', 4, 'Avinash', 'Chitransh', 'PWSkills', 3.5, True]\n"
          ]
        },
        {
          "output_type": "error",
          "ename": "TypeError",
          "evalue": "'tuple' object does not support item assignment",
          "traceback": [
            "\u001b[0;31m---------------------------------------------------------------------------\u001b[0m",
            "\u001b[0;31mTypeError\u001b[0m                                 Traceback (most recent call last)",
            "\u001b[0;32m<ipython-input-10-5e16a1a6e70f>\u001b[0m in \u001b[0;36m<cell line: 0>\u001b[0;34m()\u001b[0m\n\u001b[1;32m      4\u001b[0m \u001b[0;34m\u001b[0m\u001b[0m\n\u001b[1;32m      5\u001b[0m \u001b[0mtup_1\u001b[0m\u001b[0;34m=\u001b[0m\u001b[0;34m(\u001b[0m\u001b[0;36m1\u001b[0m\u001b[0;34m,\u001b[0m \u001b[0;36m2\u001b[0m\u001b[0;34m,\u001b[0m \u001b[0;36m3.5\u001b[0m\u001b[0;34m,\u001b[0m \u001b[0;34m\"Avinash\"\u001b[0m\u001b[0;34m,\u001b[0m \u001b[0;34m[\u001b[0m\u001b[0;36m3\u001b[0m\u001b[0;34m,\u001b[0m \u001b[0;36m4\u001b[0m\u001b[0;34m]\u001b[0m\u001b[0;34m,\u001b[0m \u001b[0;34m{\u001b[0m\u001b[0;34m\"a\"\u001b[0m\u001b[0;34m:\u001b[0m \u001b[0;36m5\u001b[0m\u001b[0;34m}\u001b[0m\u001b[0;34m,\u001b[0m\u001b[0;34m)\u001b[0m\u001b[0;34m\u001b[0m\u001b[0;34m\u001b[0m\u001b[0m\n\u001b[0;32m----> 6\u001b[0;31m \u001b[0mtup_1\u001b[0m\u001b[0;34m[\u001b[0m\u001b[0;36m3\u001b[0m\u001b[0;34m]\u001b[0m\u001b[0;34m=\u001b[0m\u001b[0;34m\"Rainy day\"\u001b[0m\u001b[0;34m\u001b[0m\u001b[0;34m\u001b[0m\u001b[0m\n\u001b[0m\u001b[1;32m      7\u001b[0m \u001b[0mprint\u001b[0m\u001b[0;34m(\u001b[0m\u001b[0mtup_1\u001b[0m\u001b[0;34m)\u001b[0m\u001b[0;34m\u001b[0m\u001b[0;34m\u001b[0m\u001b[0m\n",
            "\u001b[0;31mTypeError\u001b[0m: 'tuple' object does not support item assignment"
          ]
        }
      ]
    },
    {
      "cell_type": "code",
      "source": [
        "def modify(data_list, number):\n",
        "    data_list.append(10)\n",
        "    number = number + 5\n",
        "    print(\"Inside function:\")\n",
        "    print(\"List:\", data_list)\n",
        "    print(\"Number:\", number)\n",
        "my_list = [1, 2, 3]\n",
        "my_number = 20\n",
        "\n",
        "modify(my_list, my_number)\n",
        "\n",
        "print(\"\\nOutside function:\")\n",
        "print(\"List:\", my_list)\n",
        "print(\"Number:\", my_number)"
      ],
      "metadata": {
        "colab": {
          "base_uri": "https://localhost:8080/"
        },
        "id": "jJS9M3HI6d2D",
        "outputId": "f20823e0-5dc6-4870-c5c7-62253ba53628"
      },
      "execution_count": 4,
      "outputs": [
        {
          "output_type": "stream",
          "name": "stdout",
          "text": [
            "Inside function:\n",
            "List: [1, 2, 3, 10]\n",
            "Number: 25\n",
            "\n",
            "Outside function:\n",
            "List: [1, 2, 3, 10]\n",
            "Number: 20\n"
          ]
        }
      ]
    },
    {
      "cell_type": "code",
      "source": [
        "a=int(input(\"Enter the first number\"))\n",
        "b=int(input(\"Enter the second number\"))\n",
        "x=(a+b)\n",
        "y=(a-b)\n",
        "z=(a*b)\n",
        "w=(a/b)\n",
        "v=(a**b)\n",
        "u=(a%b)\n",
        "print(x,y,z,w,v,u)"
      ],
      "metadata": {
        "colab": {
          "base_uri": "https://localhost:8080/"
        },
        "id": "OaIpE_yR7Xqk",
        "outputId": "1c414b54-da30-4130-dc09-6aa9460b4292"
      },
      "execution_count": 11,
      "outputs": [
        {
          "output_type": "stream",
          "name": "stdout",
          "text": [
            "Enter the first number25\n",
            "Enter the second number5\n",
            "30 20 125 5.0 9765625 0\n"
          ]
        }
      ]
    },
    {
      "cell_type": "code",
      "source": [
        "a=0\n",
        "print(bool(a))\n"
      ],
      "metadata": {
        "colab": {
          "base_uri": "https://localhost:8080/"
        },
        "id": "pNokh6T572cd",
        "outputId": "837962e4-c638-4ebb-a492-a4999ab8f6ca"
      },
      "execution_count": 12,
      "outputs": [
        {
          "output_type": "stream",
          "name": "stdout",
          "text": [
            "False\n"
          ]
        }
      ]
    },
    {
      "cell_type": "code",
      "source": [
        "age = int(input(\"Enter your age: \"))\n",
        "a = input(\"Do you have a valid ID? click (yes/no): \")\n",
        "\n",
        "# Logical operator: and\n",
        "if age >= 18 and a == \"yes\":\n",
        "    print(\"You are in.\")\n",
        "\n",
        "# Logical operator: or\n",
        "elif age >= 18 or a == \"yes\":\n",
        "    print(\"You might be allowed, but more checks are needed.\")\n",
        "\n",
        "# Logical operator: not\n",
        "else:\n",
        "    print(\"Access denied. You are either too young or don't have ID.\")"
      ],
      "metadata": {
        "colab": {
          "base_uri": "https://localhost:8080/"
        },
        "id": "wI0Nh3UL8MO4",
        "outputId": "e0c32b1e-46fc-4223-913f-825952f0c338"
      },
      "execution_count": 16,
      "outputs": [
        {
          "output_type": "stream",
          "name": "stdout",
          "text": [
            "Enter your age: 16\n",
            "Do you have a valid ID? click (yes/no): not\n",
            "Access denied. You are either too young or don't have ID.\n"
          ]
        }
      ]
    },
    {
      "cell_type": "code",
      "source": [
        "a=input(\"Enter the input:\")\n",
        "print(float(a))\n",
        "print(int(a))\n",
        "print(bool(a))"
      ],
      "metadata": {
        "colab": {
          "base_uri": "https://localhost:8080/"
        },
        "id": "fJEkw3qgFVmS",
        "outputId": "ae7e6b80-3a8d-4611-85dc-03f51af0d0e5"
      },
      "execution_count": 17,
      "outputs": [
        {
          "output_type": "stream",
          "name": "stdout",
          "text": [
            "Enter the input:25\n",
            "25.0\n",
            "25\n",
            "True\n"
          ]
        }
      ]
    },
    {
      "cell_type": "code",
      "source": [
        "a=input(\"Enter the input:\")\n",
        "print(float(a))\n",
        "print(int(a))\n",
        "print(bool(a))"
      ],
      "metadata": {
        "colab": {
          "base_uri": "https://localhost:8080/",
          "height": 211
        },
        "id": "CrCOAhvPFlqe",
        "outputId": "cbd109ec-2451-4b89-cbf2-23653df70d70"
      },
      "execution_count": 18,
      "outputs": [
        {
          "name": "stdout",
          "output_type": "stream",
          "text": [
            "Enter the input:Avinash\n"
          ]
        },
        {
          "output_type": "error",
          "ename": "ValueError",
          "evalue": "could not convert string to float: 'Avinash'",
          "traceback": [
            "\u001b[0;31m---------------------------------------------------------------------------\u001b[0m",
            "\u001b[0;31mValueError\u001b[0m                                Traceback (most recent call last)",
            "\u001b[0;32m<ipython-input-18-1e9b0873de52>\u001b[0m in \u001b[0;36m<cell line: 0>\u001b[0;34m()\u001b[0m\n\u001b[1;32m      1\u001b[0m \u001b[0ma\u001b[0m\u001b[0;34m=\u001b[0m\u001b[0minput\u001b[0m\u001b[0;34m(\u001b[0m\u001b[0;34m\"Enter the input:\"\u001b[0m\u001b[0;34m)\u001b[0m\u001b[0;34m\u001b[0m\u001b[0;34m\u001b[0m\u001b[0m\n\u001b[0;32m----> 2\u001b[0;31m \u001b[0mprint\u001b[0m\u001b[0;34m(\u001b[0m\u001b[0mfloat\u001b[0m\u001b[0;34m(\u001b[0m\u001b[0ma\u001b[0m\u001b[0;34m)\u001b[0m\u001b[0;34m)\u001b[0m\u001b[0;34m\u001b[0m\u001b[0;34m\u001b[0m\u001b[0m\n\u001b[0m\u001b[1;32m      3\u001b[0m \u001b[0mprint\u001b[0m\u001b[0;34m(\u001b[0m\u001b[0mint\u001b[0m\u001b[0;34m(\u001b[0m\u001b[0ma\u001b[0m\u001b[0;34m)\u001b[0m\u001b[0;34m)\u001b[0m\u001b[0;34m\u001b[0m\u001b[0;34m\u001b[0m\u001b[0m\n\u001b[1;32m      4\u001b[0m \u001b[0mprint\u001b[0m\u001b[0;34m(\u001b[0m\u001b[0mbool\u001b[0m\u001b[0;34m(\u001b[0m\u001b[0ma\u001b[0m\u001b[0;34m)\u001b[0m\u001b[0;34m)\u001b[0m\u001b[0;34m\u001b[0m\u001b[0;34m\u001b[0m\u001b[0m\n",
            "\u001b[0;31mValueError\u001b[0m: could not convert string to float: 'Avinash'"
          ]
        }
      ]
    },
    {
      "cell_type": "code",
      "source": [
        "list_2=[1,2,3,3.5,4.5,\"Avinash\",True]\n",
        "list_2[3]=int(list_2[3])\n",
        "print(list_2)"
      ],
      "metadata": {
        "colab": {
          "base_uri": "https://localhost:8080/"
        },
        "id": "oRd46lWSFoer",
        "outputId": "a184c061-c3ca-44b2-a0ac-aee1b6534416"
      },
      "execution_count": 19,
      "outputs": [
        {
          "output_type": "stream",
          "name": "stdout",
          "text": [
            "[1, 2, 3, 3, 4.5, 'Avinash', True]\n"
          ]
        }
      ]
    },
    {
      "cell_type": "code",
      "source": [
        "list_2=[1,2,3,3.5,4.5,\"Avinash\",True]\n",
        "list_2[0]=str(list_2[0])\n",
        "print(list_2)"
      ],
      "metadata": {
        "colab": {
          "base_uri": "https://localhost:8080/"
        },
        "id": "QWAqfXJSGW24",
        "outputId": "ad0a1899-d532-4ed8-b289-c1b8fbcc5d0f"
      },
      "execution_count": 20,
      "outputs": [
        {
          "output_type": "stream",
          "name": "stdout",
          "text": [
            "['1', 2, 3, 3.5, 4.5, 'Avinash', True]\n"
          ]
        }
      ]
    },
    {
      "cell_type": "code",
      "source": [
        "a=int(input(\"Enter the number:\"))\n",
        "if(a>0):\n",
        "  print(\"The number is positive\")\n",
        "elif(a<0):\n",
        "  print(\"The number is negetive\")\n",
        "else:\n",
        "  print(\"the number is zero\")"
      ],
      "metadata": {
        "colab": {
          "base_uri": "https://localhost:8080/"
        },
        "id": "q99ZUyvrGvrQ",
        "outputId": "a4457810-c28d-44c0-f932-10427465bc24"
      },
      "execution_count": 21,
      "outputs": [
        {
          "output_type": "stream",
          "name": "stdout",
          "text": [
            "Enter the number:12\n",
            "The number is positive\n"
          ]
        }
      ]
    },
    {
      "cell_type": "code",
      "source": [
        "a=int(input(\"Enter the number:\"))\n",
        "if(a>0):\n",
        "  print(\"The number is positive\")\n",
        "elif(a<0):\n",
        "  print(\"The number is negetive\")\n",
        "else:\n",
        "  print(\"the number is zero\")"
      ],
      "metadata": {
        "colab": {
          "base_uri": "https://localhost:8080/"
        },
        "id": "ugl1KXj4HNI6",
        "outputId": "9da10617-74c1-4f53-edc7-c4e89a6abfc5"
      },
      "execution_count": 22,
      "outputs": [
        {
          "output_type": "stream",
          "name": "stdout",
          "text": [
            "Enter the number:-34\n",
            "The number is negetive\n"
          ]
        }
      ]
    },
    {
      "cell_type": "code",
      "source": [
        "a=int(input(\"Enter the number:\"))\n",
        "if(a>0):\n",
        "  print(\"The number is positive\")\n",
        "elif(a<0):\n",
        "  print(\"The number is negetive\")\n",
        "else:\n",
        "  print(\"the number is zero\")"
      ],
      "metadata": {
        "colab": {
          "base_uri": "https://localhost:8080/"
        },
        "id": "cep9ueMJHRTM",
        "outputId": "c55de51d-23fe-4c49-f65d-0839459a7b46"
      },
      "execution_count": 23,
      "outputs": [
        {
          "output_type": "stream",
          "name": "stdout",
          "text": [
            "Enter the number:0\n",
            "the number is zero\n"
          ]
        }
      ]
    },
    {
      "cell_type": "code",
      "source": [
        "for i in range(1,11):\n",
        "  print(i)"
      ],
      "metadata": {
        "colab": {
          "base_uri": "https://localhost:8080/"
        },
        "id": "0ppucty0HTEQ",
        "outputId": "464181c2-98ce-416d-a539-e830b98be420"
      },
      "execution_count": 24,
      "outputs": [
        {
          "output_type": "stream",
          "name": "stdout",
          "text": [
            "1\n",
            "2\n",
            "3\n",
            "4\n",
            "5\n",
            "6\n",
            "7\n",
            "8\n",
            "9\n",
            "10\n"
          ]
        }
      ]
    },
    {
      "cell_type": "code",
      "source": [
        "for i in range(1,11):\n",
        "  print(i,end=\" \")"
      ],
      "metadata": {
        "colab": {
          "base_uri": "https://localhost:8080/"
        },
        "id": "UrtkJof_HiDM",
        "outputId": "618efac5-aa7f-4855-9197-dcc232ba5372"
      },
      "execution_count": 27,
      "outputs": [
        {
          "output_type": "stream",
          "name": "stdout",
          "text": [
            "1 2 3 4 5 6 7 8 9 10 "
          ]
        }
      ]
    },
    {
      "cell_type": "code",
      "source": [
        "for i in range(1,100,5):\n",
        "  print(i,end=\" \")"
      ],
      "metadata": {
        "colab": {
          "base_uri": "https://localhost:8080/"
        },
        "id": "mjXKN1WaHmNb",
        "outputId": "8ffc7408-b0b2-4a47-da25-bec88788d484"
      },
      "execution_count": 28,
      "outputs": [
        {
          "output_type": "stream",
          "name": "stdout",
          "text": [
            "1 6 11 16 21 26 31 36 41 46 51 56 61 66 71 76 81 86 91 96 "
          ]
        }
      ]
    },
    {
      "cell_type": "code",
      "source": [
        "sum=0\n",
        "for number in range(1,51):\n",
        "  if(number%2==0):\n",
        "    sum=sum+number\n",
        "print(\"The sum of all even number from 0 to 50 =\",sum)"
      ],
      "metadata": {
        "colab": {
          "base_uri": "https://localhost:8080/"
        },
        "id": "zLRod_k1H0R_",
        "outputId": "88d7c498-b9e4-4a91-c404-c0931d9fa8fb"
      },
      "execution_count": 31,
      "outputs": [
        {
          "output_type": "stream",
          "name": "stdout",
          "text": [
            "The sum of all even number from 0 to 50 = 650\n"
          ]
        }
      ]
    },
    {
      "cell_type": "code",
      "source": [
        "a=input(\"Enter the string:\")\n",
        "for i in range((len(a)-1),-1,-1):#starting value, end value and stepvalue\n",
        "  print(a[i],end=\"\")\n"
      ],
      "metadata": {
        "colab": {
          "base_uri": "https://localhost:8080/"
        },
        "id": "1MbTcvTDIzWi",
        "outputId": "b583b8f9-76c4-40b6-8abb-2730f6664241"
      },
      "execution_count": 40,
      "outputs": [
        {
          "output_type": "stream",
          "name": "stdout",
          "text": [
            "Enter the string:Avinash\n",
            "hsanivA"
          ]
        }
      ]
    },
    {
      "cell_type": "code",
      "source": [
        "a = int(input(\"Enter a number: \"))\n",
        "factorial = 1\n",
        "num=a\n",
        "if a < 0:\n",
        "    print(\"Factorial is not defined for negative numbers.\")\n",
        "else:\n",
        "    while a > 1:\n",
        "        factorial = factorial * a\n",
        "        a = a - 1  # Decrease the value of a each time\n",
        "    print(f\"The factorial of {num} is: {factorial}\")"
      ],
      "metadata": {
        "colab": {
          "base_uri": "https://localhost:8080/"
        },
        "id": "5RHc_VSzU4DU",
        "outputId": "41eb6d2d-72e0-4c0b-b510-6f3b9a6ece9f"
      },
      "execution_count": 3,
      "outputs": [
        {
          "output_type": "stream",
          "name": "stdout",
          "text": [
            "Enter a number: 5\n",
            "The factorial of 5 is: 120\n"
          ]
        }
      ]
    },
    {
      "cell_type": "code",
      "source": [],
      "metadata": {
        "id": "9RMPOQcGVLH-"
      },
      "execution_count": null,
      "outputs": []
    }
  ]
}