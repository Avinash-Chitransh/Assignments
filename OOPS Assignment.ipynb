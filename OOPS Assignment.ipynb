{
  "nbformat": 4,
  "nbformat_minor": 0,
  "metadata": {
    "colab": {
      "provenance": []
    },
    "kernelspec": {
      "name": "python3",
      "display_name": "Python 3"
    },
    "language_info": {
      "name": "python"
    }
  },
  "cells": [
    {
      "cell_type": "markdown",
      "source": [
        "1. What is Object-Oriented Programming (OOP)+\n",
        "\n",
        "Object-Oriented Programming (OOP) is a programming paradigm centered around objects and classes. It promotes code reusability, modularity, and abstraction by bundling data and the methods operating on that data. Key concepts include encapsulation, inheritance, polymorphism, and abstraction.\n",
        "\n",
        "\n",
        "\n",
        "2. What is a class in OOP?\n",
        "\n",
        "A class in OOP is a blueprint for creating objects. It defines attributes and behaviors (methods) that its objects (instances) will have. Classes encapsulate data and functions into a single structure, allowing for organized and reusable code.\n",
        "\n",
        "\n",
        "3. What is an object in OOP?\n",
        "\n",
        "An object is an instance of a class. It contains data in the form of fields (attributes) and code in the form of methods. Objects interact with each other and can be created multiple times from a class.\n",
        "\n",
        "\n",
        "4. What is the difference between abstraction and encapsulation?\n",
        "\n",
        "Abstraction is hiding complex implementation details and showing only the necessary features, while encapsulation is wrapping data and methods into a single unit and restricting access using access modifiers. Abstraction focuses on what an object does, encapsulation on how it's done.\n",
        "\n",
        "\n",
        "5. What are dunder methods in Python?\n",
        "\n",
        "Dunder methods (double underscore methods) in Python, like __init__, __str__, and __len__, are special methods with predefined behavior. They enable operator overloading and object customization and are invoked implicitly by Python.\n",
        "\n",
        "\n",
        "6. Explain the concept of inheritance in OOPH.\n",
        "\n",
        "Inheritance allows a class (child/derived) to inherit attributes and methods from another class (parent/base). It promotes code reuse and represents hierarchical relationships. Python supports single, multiple, multilevel, and hybrid inheritance.\n",
        "\n",
        "\n",
        "7. What is polymorphism in OOP?\n",
        "\n",
        "Polymorphism allows different classes to be treated as instances of the same class through a common interface. It enables one interface to be used for different underlying data types, enhancing flexibility and scalability.\n",
        "\n",
        "\n",
        "8. How is encapsulation achieved in Python?\n",
        "\n",
        "Encapsulation in Python is achieved using private and protected attributes (via single or double underscores) and by defining getter and setter methods. This helps in controlling access and modification of class attributes.\n",
        "\n",
        "\n",
        "9. What is a constructor in Python?\n",
        "\n",
        "A constructor in Python is defined using the __init__ method. It is automatically called when a new object is created and is used to initialize the object’s attributes with given or default values.\n",
        "\n",
        "\n",
        "10. What are class and static methods in Python?\n",
        "\n",
        "Class methods are defined using @classmethod and take cls as the first parameter, affecting the class itself. Static methods, defined with @staticmethod, do not access instance or class variables and are utility methods within the class context.\n",
        "\n",
        "\n",
        "11. What is method overloading in Python?\n",
        "\n",
        "Method overloading in Python isn't natively supported like in some languages. However, it can be simulated using default arguments or variable-length arguments (*args, **kwargs) to allow multiple behaviors in one method.\n",
        "\n",
        "\n",
        "12. What is method overriding in OOP?\n",
        "\n",
        "Method overriding in OOP allows a subclass to provide a specific implementation of a method already defined in its parent class. This enables runtime polymorphism and allows subclasses to modify or extend base class behavior.\n",
        "\n",
        "\n",
        "\n",
        "13. What is a property decorator in Python?\n",
        "\n",
        "A property decorator in Python (@property) allows you to define a method as a readable attribute. Combined with setters and deleters (@<property>.setter), it enables encapsulation while providing a simple interface.\n",
        "\n",
        "\n",
        "14. Why is polymorphism important in OOP?\n",
        "\n",
        "Polymorphism is important because it allows for code generalization and flexibility. Functions or methods can work on objects of different classes if they share a common interface, reducing code duplication and enhancing maintainability.\n",
        "\n",
        "\n",
        "15. What is an abstract class in Python?\n",
        "\n",
        "An abstract class in Python (via abc module) contains one or more abstract methods that must be implemented in derived classes. It cannot be instantiated directly and serves as a template for other classes.\n",
        "\n",
        "\n",
        "16. What are the advantages of OOP?\n",
        "\n",
        "Advantages of OOP include improved code reusability, scalability, maintainability, and modularity. It models real-world entities effectively, making programs easier to design, debug, and extend. OOP also promotes DRY (Don’t Repeat Yourself) principles.\n",
        "\n",
        "\n",
        "17. What is the difference between a class variable and an instance variable?\n",
        "\n",
        "A class variable is shared across all instances of a class, while an instance variable is unique to each object. Class variables are defined outside methods, and instance variables are typically defined inside the constructor.\n",
        "\n",
        "\n",
        "18. What is multiple inheritance in Python?\n",
        "\n",
        "Multiple inheritance in Python allows a class to inherit from more than one parent class. While powerful, it can lead to complexity and ambiguity (like the diamond problem), which Python handles using the C3 linearization (MRO).\n",
        "\n",
        "19. Explain the purpose of ‘’__str__’ and ‘__repr__’ ‘ methods in Python.\n",
        "\n",
        "The __str__ and __repr__ methods in Python are special dunder methods used to define how an object is represented as a string.\n",
        "__str__ is meant to return a user-friendly string representation of an object. It is used when the print() function is called on an object or when str() is used.\n",
        "__repr__ is more developer-focused. It should return a string that ideally could be used to recreate the object. It is called when using repr() or when an object is inspected in the interactive console.\n",
        "class Book:\n",
        "    def __init__(self, title):\n",
        "        self.title = title\n",
        "\n",
        "    def __str__(self):\n",
        "        return f\"Book title: {self.title}\"\n",
        "\n",
        "    def __repr__(self):\n",
        "        return f\"Book('{self.title}')\"\n",
        "\n",
        "20. What is the significance of the ‘super()’ function in Python?\n",
        "\n",
        "The super() function in Python is used to call methods from a parent or superclass. It's especially important in class inheritance where a child class wants to extend or modify the behavior of its parent without completely overriding it.\n",
        "By using super(), you ensure proper method resolution order (MRO), especially in multiple inheritance scenarios. It helps maintain clean and maintainable code.\n",
        "class Animal:\n",
        "    def speak(self):\n",
        "        print(\"Animal speaks\")\n",
        "\n",
        "class Dog(Animal):\n",
        "    def speak(self):\n",
        "        super().speak()\n",
        "        print(\"Dog barks\")\n",
        "\n",
        "21. What is the significance of the __del__ method in Python?\n",
        "\n",
        "The __del__ method is a destructor method in Python. It is called when an object is about to be destroyed—typically when its reference count drops to zero.\n",
        "This method is mainly used to clean up resources like closing files or database connections before the object is removed from memory.\n",
        "class FileHandler:\n",
        "    def __init__(self, filename):\n",
        "        self.file = open(filename, 'r')\n",
        "\n",
        "    def __del__(self):\n",
        "        self.file.close()\n",
        "        print(\"File closed.\")\n",
        "However, over-reliance on __del__ is discouraged because:\n",
        "The timing of __del__ execution is not guaranteed (especially with circular references or in interpreters with garbage collection).\n",
        "It can interfere with garbage collection and lead to memory leaks or unexpected behavior.\n",
        "A better practice is to use context managers (with statement) and the __enter__ and __exit__ methods for deterministic resource management.\n",
        "\n",
        "\n",
        "22. What is the difference between @staticmethod and @classmethod in Python?\n",
        "\n",
        "Both @staticmethod and @classmethod are decorators used to define methods that are not bound to an instance. However, they serve different purposes:\n",
        "A static method does not take self or cls as its first argument. It behaves like a regular function but resides within a class. It's used when the method doesn’t need access to the instance or class itself.\n",
        "class Math:\n",
        "    @staticmethod\n",
        "    def add(a, b):\n",
        "        return a + b\n",
        "A class method takes cls as its first parameter and can access or modify the class state. It is often used as alternative constructors or for class-level operations.\n",
        "class Person:\n",
        "    count = 0\n",
        "    def __init__(self):\n",
        "        Person.count += 1\n",
        "\n",
        "    @classmethod\n",
        "    def get_count(cls):\n",
        "        return cls.count\n",
        "\n",
        "Use @staticmethod for utility functions, and @classmethod when you need to access or change class-level data.\n",
        "\n",
        "\n",
        "23. How does polymorphism work in Python with inheritance?\n",
        "\n",
        "Polymorphism in Python allows objects of different classes to be treated as objects of a common superclass. It is often used with inheritance to enable different subclasses to define their own unique behaviors while sharing the same interface.\n",
        "\tExample.\n",
        "class Animal:\n",
        "    def speak(self):\n",
        "        pass\n",
        "\n",
        "class Dog(Animal):\n",
        "    def speak(self):\n",
        "        return \"Bark\"\n",
        "\n",
        "class Cat(Animal):\n",
        "    def speak(self):\n",
        "        return \"Meow\"\n",
        "\n",
        "def animal_sound(animal: Animal):\n",
        "    print(animal.speak())\n",
        "\n",
        "animal_sound(Dog())\n",
        "animal_sound(Cat())\n",
        "\n",
        "Here, even though Dog and Cat are different classes, they both respond to speak() because they inherit from Animal. This is runtime polymorphism.\n",
        "Python also supports duck typing, where polymorphism is achieved based on whether the method or property exists on an object, regardless of its class hierarchy.\n",
        "\n",
        " 24. What is method chaining in Python OOP?\n",
        "Method chaining is a technique where multiple methods are called sequentially on the same object in a single line. Each method in the chain returns the object itself (self), allowing the next method to be called on it.\n",
        "Method chaining improves code readability and conciseness, especially in builder patterns or fluent interfaces. To support chaining, methods should consistently return self (the instance) at the end.\n",
        "\n",
        "25. What is the purpose of the __call__ method in Python?\n",
        "\n",
        "The __call__ method allows an instance of a class to be called like a regular function. This can be useful for creating function-like objects (also known as functors), decorators, or simplifying APIs.\n",
        "The __call__ method gives object instances the behavior of a function while still maintaining object-oriented structure.\n",
        "\n"
      ],
      "metadata": {
        "id": "0tFXFBzk5xgr"
      }
    },
    {
      "cell_type": "code",
      "execution_count": null,
      "metadata": {
        "id": "WP57pMCu5vys"
      },
      "outputs": [],
      "source": []
    },
    {
      "cell_type": "markdown",
      "source": [
        "1. Create a parent class Animal with a method speak() that prints a generic message. Create a child class Dog\n",
        "that overrides the speak() method to print \"Bark!\"."
      ],
      "metadata": {
        "id": "_GQW9q9261sA"
      }
    },
    {
      "cell_type": "code",
      "source": [
        "# Parent class\n",
        "class Animal:\n",
        "    def speak(self):\n",
        "        print(\"The animal makes a sound.\")\n",
        "\n",
        "# Child class that overrides speak()\n",
        "class Dog(Animal):\n",
        "    def speak(self):\n",
        "        print(\"The dog Barks!\")\n",
        "\n",
        "# Creating objects\n",
        "generic_animal = Animal()\n",
        "dog = Dog()\n",
        "\n",
        "# Calling the speak method\n",
        "generic_animal.speak()\n",
        "dog.speak()\n"
      ],
      "metadata": {
        "colab": {
          "base_uri": "https://localhost:8080/"
        },
        "id": "E2Nqq7Im65zo",
        "outputId": "f4555ff2-10e3-4786-c116-d3f0cbdc346c"
      },
      "execution_count": 4,
      "outputs": [
        {
          "output_type": "stream",
          "name": "stdout",
          "text": [
            "The animal makes a sound.\n",
            "The dog Barks!\n"
          ]
        }
      ]
    },
    {
      "cell_type": "markdown",
      "source": [
        "2. Write a program to create an abstract class Shape with a method area(). Derive classes Circle and Rectangle\n",
        "from it and implement the area() method in both."
      ],
      "metadata": {
        "id": "_dJIVGcD8GcR"
      }
    },
    {
      "cell_type": "code",
      "source": [
        "from abc import ABC, abstractmethod\n",
        "import math\n",
        "\n",
        "# Abstract base class\n",
        "class Shape(ABC):\n",
        "    @abstractmethod\n",
        "    def area(self):\n",
        "        pass\n",
        "\n",
        "# Derived class Circle\n",
        "class Circle(Shape):\n",
        "    def __init__(self, radius):\n",
        "        self.radius = radius\n",
        "\n",
        "    def area(self):\n",
        "        return math.pi * self.radius ** 2\n",
        "\n",
        "# Derived class Rectangle\n",
        "class Rectangle(Shape):\n",
        "    def __init__(self, length, width):\n",
        "        self.length = length\n",
        "        self.width = width\n",
        "\n",
        "    def area(self):\n",
        "        return self.length * self.width\n",
        "\n",
        "# Testing the classes\n",
        "circle = Circle(5)\n",
        "rectangle = Rectangle(4, 6)\n",
        "\n",
        "print(\"Area of Circle:\", circle.area())        # Output: ~78.54\n",
        "print(\"Area of Rectangle:\", rectangle.area())  # Output: 24\n"
      ],
      "metadata": {
        "colab": {
          "base_uri": "https://localhost:8080/"
        },
        "id": "Aqw_YwoP8BfB",
        "outputId": "a7004912-3482-430b-f86a-4b00ff8cdcb9"
      },
      "execution_count": 3,
      "outputs": [
        {
          "output_type": "stream",
          "name": "stdout",
          "text": [
            "Area of Circle: 78.53981633974483\n",
            "Area of Rectangle: 24\n"
          ]
        }
      ]
    },
    {
      "cell_type": "markdown",
      "source": [
        "3. Implement a multi-level inheritance scenario where a class Vehicle has an attribute type. Derive a class Car and further derive a class ElectricCar that adds a battery attribute."
      ],
      "metadata": {
        "id": "Yg5fj_dA_sfQ"
      }
    },
    {
      "cell_type": "code",
      "source": [
        "# Base class\n",
        "class Vehicle:\n",
        "    def __init__(self, vehicle_type):\n",
        "        self.vehicle_type = vehicle_type\n",
        "\n",
        "    def show_type(self):\n",
        "        print(f\"Vehicle Type: {self.vehicle_type}\")\n",
        "\n",
        "# Derived class from Vehicle\n",
        "class Car(Vehicle):\n",
        "    def __init__(self, vehicle_type, brand):\n",
        "        super().__init__(vehicle_type)\n",
        "        self.brand = brand\n",
        "\n",
        "    def show_details(self):\n",
        "        self.show_type()\n",
        "        print(f\"Car Brand: {self.brand}\")\n",
        "\n",
        "# Further derived class from Car\n",
        "class ElectricCar(Car):\n",
        "    def __init__(self, vehicle_type, brand, battery_capacity):\n",
        "        super().__init__(vehicle_type, brand)\n",
        "        self.battery_capacity = battery_capacity\n",
        "\n",
        "    def show_electric_details(self):\n",
        "        self.show_details()\n",
        "        print(f\"Battery Capacity: {self.battery_capacity} kWh\")\n",
        "\n",
        "# Testing the multi-level inheritance\n",
        "e_car = ElectricCar(\"Four-Wheeler\", \"Tesla\", 75)\n",
        "e_car.show_electric_details()\n"
      ],
      "metadata": {
        "id": "wgrVK882_oz6"
      },
      "execution_count": null,
      "outputs": []
    },
    {
      "cell_type": "markdown",
      "source": [
        "4. Demonstrate polymorphism by creating a base class Bird with a method fly(). Create two derived classes Sparrow and Penguin that override the fly() method.\n"
      ],
      "metadata": {
        "id": "oRaRFQGO_vow"
      }
    },
    {
      "cell_type": "code",
      "source": [
        "class Bird:\n",
        "    def fly(self):\n",
        "        print(\"Bird is flying.\")\n",
        "\n",
        "class Sparrow(Bird):\n",
        "    def fly(self):\n",
        "        print(\"Sparrow flies high.\")\n",
        "\n",
        "class Penguin(Bird):\n",
        "    def fly(self):\n",
        "        print(\"Penguins can't fly.\")\n",
        "\n",
        "birds = [Sparrow(), Penguin()]\n",
        "for bird in birds:\n",
        "    bird.fly()"
      ],
      "metadata": {
        "colab": {
          "base_uri": "https://localhost:8080/"
        },
        "id": "-Q958fl6_0kg",
        "outputId": "ce7558fb-5b00-4628-a7d0-5f6d8b8a4d2b"
      },
      "execution_count": 5,
      "outputs": [
        {
          "output_type": "stream",
          "name": "stdout",
          "text": [
            "Sparrow flies high.\n",
            "Penguins can't fly.\n"
          ]
        }
      ]
    },
    {
      "cell_type": "markdown",
      "source": [
        "5. Write a program to demonstrate encapsulation by creating a class BankAccount with private attributes balance and methods to deposit, withdraw, and check balance."
      ],
      "metadata": {
        "id": "OgFTgWWaAf6A"
      }
    },
    {
      "cell_type": "code",
      "source": [
        "class BankAccount:\n",
        "    def __init__(self):\n",
        "        self.__balance = 0\n",
        "\n",
        "    def deposit(self, amount):\n",
        "        self.__balance += amount\n",
        "\n",
        "    def withdraw(self, amount):\n",
        "        if amount <= self.__balance:\n",
        "            self.__balance -= amount\n",
        "\n",
        "    def check_balance(self):\n",
        "        return self.__balance\n"
      ],
      "metadata": {
        "id": "LdCm21Vu_0gd"
      },
      "execution_count": 9,
      "outputs": []
    },
    {
      "cell_type": "code",
      "source": [
        "account = BankAccount()\n",
        "account.deposit(1000)\n",
        "account.withdraw(200)\n",
        "print(\"Current balance:\", account.check_balance())"
      ],
      "metadata": {
        "colab": {
          "base_uri": "https://localhost:8080/"
        },
        "id": "geU3XseP_0ds",
        "outputId": "dd76a320-2ab2-4657-fc11-0f1a0ed84b10"
      },
      "execution_count": 10,
      "outputs": [
        {
          "output_type": "stream",
          "name": "stdout",
          "text": [
            "Current balance: 800\n"
          ]
        }
      ]
    },
    {
      "cell_type": "markdown",
      "source": [
        "6. Demonstrate runtime polymorphism using a method play() in a base class Instrument. Derive classes Guitar and Piano that implement their own version of play()."
      ],
      "metadata": {
        "id": "YD9hjx1fBAkg"
      }
    },
    {
      "cell_type": "code",
      "source": [
        "class Instrument:\n",
        "    def play(self):\n",
        "        print(\"Playing an instrument.\")\n",
        "\n",
        "class Guitar(Instrument):\n",
        "    def play(self):\n",
        "        print(\"Strumming the guitar.\")\n",
        "\n",
        "class Piano(Instrument):\n",
        "    def play(self):\n",
        "        print(\"Playing the piano.\")\n",
        "\n",
        "instruments = [Guitar(), Piano()]\n",
        "for i in instruments:\n",
        "    i.play()\n"
      ],
      "metadata": {
        "colab": {
          "base_uri": "https://localhost:8080/"
        },
        "id": "04D4C5D6_0bh",
        "outputId": "77011981-4b3c-415a-8b52-52636999d299"
      },
      "execution_count": 11,
      "outputs": [
        {
          "output_type": "stream",
          "name": "stdout",
          "text": [
            "Strumming the guitar.\n",
            "Playing the piano.\n"
          ]
        }
      ]
    },
    {
      "cell_type": "markdown",
      "source": [
        "7. Create a class MathOperations with a class method add_numbers() to add two numbers and a static method subtract_numbers() to subtract two numbers."
      ],
      "metadata": {
        "id": "Dy1AMFKjBK1H"
      }
    },
    {
      "cell_type": "code",
      "source": [
        "class MathOperations:\n",
        "    def add_numbers(self, a, b):\n",
        "        return a + b\n",
        "\n",
        "    @staticmethod\n",
        "    def subtract_numbers(a, b):\n",
        "        return a - b\n"
      ],
      "metadata": {
        "id": "rE1NlrF6_0ZO"
      },
      "execution_count": 13,
      "outputs": []
    },
    {
      "cell_type": "code",
      "source": [
        "math_op = MathOperations()\n",
        "print(\"Addition:\", math_op.add_numbers(10, 5))\n",
        "print(\"Subtraction:\", MathOperations.subtract_numbers(10, 5))\n"
      ],
      "metadata": {
        "colab": {
          "base_uri": "https://localhost:8080/"
        },
        "id": "JxVpEs7D_0XZ",
        "outputId": "b2c9d47b-7c50-41df-a1ec-a33862cd5312"
      },
      "execution_count": 14,
      "outputs": [
        {
          "output_type": "stream",
          "name": "stdout",
          "text": [
            "Addition: 15\n",
            "Subtraction: 5\n"
          ]
        }
      ]
    },
    {
      "cell_type": "markdown",
      "source": [
        "8. Implement a class Person with a class method to count the total number of persons created."
      ],
      "metadata": {
        "id": "uvNQUQJwBtQI"
      }
    },
    {
      "cell_type": "code",
      "source": [
        "class Person:\n",
        "    count = 0\n",
        "\n",
        "    def __init__(self):\n",
        "        Person.count += 1\n",
        "\n",
        "    @classmethod\n",
        "    def total_persons(cls):\n",
        "        return cls.count\n",
        "p1 = Person()\n",
        "p2 = Person()\n",
        "p3 = Person()\n",
        "\n",
        "print(\"Total Persons:\", Person.total_persons())"
      ],
      "metadata": {
        "colab": {
          "base_uri": "https://localhost:8080/"
        },
        "id": "kY4lag_k_0VX",
        "outputId": "424b98a7-be5e-4667-b611-4202f1eb1dcc"
      },
      "execution_count": 17,
      "outputs": [
        {
          "output_type": "stream",
          "name": "stdout",
          "text": [
            "Total Persons: 3\n"
          ]
        }
      ]
    },
    {
      "cell_type": "markdown",
      "source": [
        "9. Write a class Fraction with attributes numerator and denominator. Override the str method to display the fraction as \"numerator/denominator\"."
      ],
      "metadata": {
        "id": "ebftHnKiCF-x"
      }
    },
    {
      "cell_type": "code",
      "source": [
        "class Fraction:\n",
        "    def __init__(self, numerator, denominator):\n",
        "        self.numerator = numerator\n",
        "        self.denominator = denominator\n",
        "\n",
        "    def __str__(self):\n",
        "        return f\"{self.numerator}/{self.denominator}\"\n",
        "\n",
        "f1 = Fraction(3, 4)\n",
        "print(\"Fraction:\", f1)\n"
      ],
      "metadata": {
        "colab": {
          "base_uri": "https://localhost:8080/"
        },
        "id": "9sSs2w_NCFUQ",
        "outputId": "9d0837fe-16d2-409c-f7d5-17e1f88d065e"
      },
      "execution_count": 18,
      "outputs": [
        {
          "output_type": "stream",
          "name": "stdout",
          "text": [
            "Fraction: 3/4\n"
          ]
        }
      ]
    },
    {
      "cell_type": "markdown",
      "source": [
        "10. Demonstrate operator overloading by creating a class Vector and overriding the add method to add two vectors."
      ],
      "metadata": {
        "id": "tV4T1-7cCSko"
      }
    },
    {
      "cell_type": "code",
      "source": [
        "class Vector:\n",
        "    def __init__(self, x, y):\n",
        "        self.x = x\n",
        "        self.y = y\n",
        "\n",
        "    def __add__(self, other):\n",
        "        return Vector(self.x + other.x, self.y + other.y)\n",
        "\n",
        "    def __str__(self):\n",
        "        return f\"Vector({self.x}, {self.y})\"\n",
        "\n",
        "v1 = Vector(2, 3)\n",
        "v2 = Vector(4, 1)\n",
        "v3 = v1 + v2\n",
        "\n",
        "print(v3)"
      ],
      "metadata": {
        "colab": {
          "base_uri": "https://localhost:8080/"
        },
        "id": "6tvCuSYL_0Ti",
        "outputId": "b526a966-e9a9-4d4d-f2e2-5ff710023834"
      },
      "execution_count": 20,
      "outputs": [
        {
          "output_type": "stream",
          "name": "stdout",
          "text": [
            "Vector(6, 4)\n"
          ]
        }
      ]
    },
    {
      "cell_type": "markdown",
      "source": [
        "11. Create a class Person with attributes name and age. Add a method greet() that prints \"Hello, my name is {name} and I am {age} years old"
      ],
      "metadata": {
        "id": "9Z7uzmqACnHI"
      }
    },
    {
      "cell_type": "code",
      "source": [
        "class Person:\n",
        "    def __init__(self, name, age):\n",
        "        self.name = name\n",
        "        self.age = age\n",
        "\n",
        "    def greet(self):\n",
        "        return f\"Hello, my name is {self.name} and I am {self.age} years old.\"\n",
        "\n",
        "p1 = Person(\"Alice\", 30)\n",
        "print(p1.greet())\n"
      ],
      "metadata": {
        "colab": {
          "base_uri": "https://localhost:8080/"
        },
        "id": "LyCeR_YD_0Rg",
        "outputId": "b1b75723-a4ee-4ddf-cd32-c1a847cee982"
      },
      "execution_count": 21,
      "outputs": [
        {
          "output_type": "stream",
          "name": "stdout",
          "text": [
            "Hello, my name is Alice and I am 30 years old.\n"
          ]
        }
      ]
    },
    {
      "cell_type": "markdown",
      "source": [
        "12. Implement a class Student with attributes name and grades. Create a method average_grade() to compute the average of the grades."
      ],
      "metadata": {
        "id": "GSEjHtdMCzhv"
      }
    },
    {
      "cell_type": "code",
      "source": [
        "class Student:\n",
        "    def __init__(self, name, grades):\n",
        "        self.name = name\n",
        "        self.grades = grades\n",
        "\n",
        "    def average_grade(self):\n",
        "        return sum(self.grades) / len(self.grades)"
      ],
      "metadata": {
        "id": "fWOfBOq2_0Pq"
      },
      "execution_count": 23,
      "outputs": []
    },
    {
      "cell_type": "code",
      "source": [
        "s1 = Student(\"Avinash\", [85, 90, 78])\n",
        "print(s1.average_grade())\n"
      ],
      "metadata": {
        "colab": {
          "base_uri": "https://localhost:8080/"
        },
        "id": "i5MPl2uFD6Kj",
        "outputId": "aaec9eb8-4412-4b37-8be1-caea654e745a"
      },
      "execution_count": 26,
      "outputs": [
        {
          "output_type": "stream",
          "name": "stdout",
          "text": [
            "84.33333333333333\n"
          ]
        }
      ]
    },
    {
      "cell_type": "markdown",
      "source": [
        "13. Create a class Rectangle with methods set_dimensions() to set the dimensions and area() to calculate the area."
      ],
      "metadata": {
        "id": "5yP6AXHhEJpP"
      }
    },
    {
      "cell_type": "code",
      "source": [
        "class Rectangle:\n",
        "    def set_dimensions(self, length, width):\n",
        "        self.length = length\n",
        "        self.width = width\n",
        "\n",
        "    def area(self):\n",
        "        return self.length * self.width"
      ],
      "metadata": {
        "id": "7_uwqvQeD6Hx"
      },
      "execution_count": null,
      "outputs": []
    },
    {
      "cell_type": "code",
      "source": [
        "r = Rectangle(10, 5)\n",
        "print(r.area())"
      ],
      "metadata": {
        "colab": {
          "base_uri": "https://localhost:8080/"
        },
        "id": "EaWK1dkOD6Ft",
        "outputId": "36beeeef-d161-47b2-896d-45f6543d8cfe"
      },
      "execution_count": 27,
      "outputs": [
        {
          "output_type": "stream",
          "name": "stdout",
          "text": [
            "50\n"
          ]
        }
      ]
    },
    {
      "cell_type": "markdown",
      "source": [
        "14. Create a class Employee with a method calculate_salary() that computes the salary based on hours worked and hourly rate. Create a derived class Manager that adds a bonus to the salary."
      ],
      "metadata": {
        "id": "eV21RdfaEbU3"
      }
    },
    {
      "cell_type": "code",
      "source": [
        "class Employee:\n",
        "    def __init__(self, hours_worked, hourly_rate):\n",
        "        self.hours_worked = hours_worked\n",
        "        self.hourly_rate = hourly_rate\n",
        "\n",
        "    def calculate_salary(self):\n",
        "        return self.hours_worked * self.hourly_rate\n",
        "\n",
        "class Manager(Employee):\n",
        "    def __init__(self, hours_worked, hourly_rate, bonus):\n",
        "        super().__init__(hours_worked, hourly_rate)\n",
        "        self.bonus = bonus\n",
        "\n",
        "    def calculate_salary(self):\n",
        "        return super().calculate_salary() + self.bonus\n",
        "\n",
        "# Regular employee\n",
        "emp = Employee(160, 25)  # 160 hours, $25/hour\n",
        "print(f\"Employee Salary: ${emp.calculate_salary()}\")\n",
        "\n",
        "# Manager\n",
        "mgr = Manager(160, 40, 1500)  # 160 hours, $40/hour, $1500 bonus\n",
        "print(f\"Manager Salary: ${mgr.calculate_salary()}\")\n"
      ],
      "metadata": {
        "colab": {
          "base_uri": "https://localhost:8080/"
        },
        "id": "zqnHrWyqD6CO",
        "outputId": "6803688d-6902-440d-d8be-360d1967f231"
      },
      "execution_count": 29,
      "outputs": [
        {
          "output_type": "stream",
          "name": "stdout",
          "text": [
            "Employee Salary: $4000\n",
            "Manager Salary: $7900\n"
          ]
        }
      ]
    },
    {
      "cell_type": "markdown",
      "source": [
        "15. Create a class Product with attributes name, price, and quantity. Implement a method total_price() that calculates the total price of the product."
      ],
      "metadata": {
        "id": "-PxBqQ8pFDLv"
      }
    },
    {
      "cell_type": "code",
      "source": [
        "class Product:\n",
        "    def __init__(self, name, price, quantity):\n",
        "        self.name = name\n",
        "        self.price = price\n",
        "        self.quantity = quantity\n",
        "\n",
        "    def total_price(self):\n",
        "        return self.price * self.quantity\n",
        "\n",
        "# Create product instances\n",
        "item1 = Product(\"Notebook\", 2.50, 4)\n",
        "item2 = Product(\"Pen\", 1.00, 10)\n",
        "item3 = Product(\"Stapler\", 7.00, 1)\n",
        "\n",
        "# Print total cost for each item\n",
        "print(f\"{item1.name}: ${item1.total_price():.2f}\")\n",
        "print(f\"{item2.name}: ${item2.total_price():.2f}\")\n",
        "print(f\"{item3.name}: ${item3.total_price():.2f}\")\n",
        "\n",
        "# Calculate total bill\n",
        "total = item1.total_price() + item2.total_price() + item3.total_price()\n",
        "print(f\"Total Bill: ${total:.2f}\")\n",
        "\n"
      ],
      "metadata": {
        "colab": {
          "base_uri": "https://localhost:8080/"
        },
        "id": "yCroDdbnD58y",
        "outputId": "abafa7fd-9637-4ab0-ce9b-a30f71b5e05e"
      },
      "execution_count": 31,
      "outputs": [
        {
          "output_type": "stream",
          "name": "stdout",
          "text": [
            "Notebook: $10.00\n",
            "Pen: $10.00\n",
            "Stapler: $7.00\n",
            "Total Bill: $27.00\n"
          ]
        }
      ]
    },
    {
      "cell_type": "markdown",
      "source": [
        "16. Create a class Animal with an abstract method sound(). Create two derived classes Cow and Sheep that implement the sound() method."
      ],
      "metadata": {
        "id": "p-Xi0Wf6Fvxn"
      }
    },
    {
      "cell_type": "code",
      "source": [
        "from abc import ABC, abstractmethod\n",
        "\n",
        "class Animal(ABC):\n",
        "    @abstractmethod\n",
        "    def sound(self):\n",
        "        pass\n",
        "\n",
        "class Cow(Animal):\n",
        "    def sound(self):\n",
        "        return \"Moo\"\n",
        "\n",
        "class Sheep(Animal):\n",
        "    def sound(self):\n",
        "        return \"Baa\"\n",
        "\n",
        "# Create instances\n",
        "cow = Cow()\n",
        "sheep = Sheep()\n",
        "\n",
        "# Print sounds\n",
        "print(cow.sound())\n",
        "print(sheep.sound())\n"
      ],
      "metadata": {
        "colab": {
          "base_uri": "https://localhost:8080/"
        },
        "id": "7uaIKGZFD534",
        "outputId": "e0ffe102-517b-4ab5-e34f-61c73983c41b"
      },
      "execution_count": 33,
      "outputs": [
        {
          "output_type": "stream",
          "name": "stdout",
          "text": [
            "Moo\n",
            "Baa\n"
          ]
        }
      ]
    },
    {
      "cell_type": "markdown",
      "source": [
        "17. Create a class Book with attributes title, author, and year_published. Add a method get_book_info() that returns a formatted string with the book's details."
      ],
      "metadata": {
        "id": "MOLbac7yGNcn"
      }
    },
    {
      "cell_type": "code",
      "source": [
        "class Book:\n",
        "    def __init__(self, title, author, year_published):\n",
        "        self.title = title\n",
        "        self.author = author\n",
        "        self.year_published = year_published\n",
        "\n",
        "    def get_book_info(self):\n",
        "        return f\"'{self.title}' by {self.author}, published in {self.year_published}.\"\n",
        "\n",
        "# Create instances of Book\n",
        "book1 = Book(\"1984\", \"George Orwell\", 1949)\n",
        "book2 = Book(\"To Kill a Mockingbird\", \"Harper Lee\", 1960)\n",
        "book3 = Book(\"Pride and Prejudice\", \"Jane Austen\", 1813)\n",
        "\n",
        "# Print book information\n",
        "print(book1.get_book_info())  # '1984' by George Orwell, published in 1949.\n",
        "print(book2.get_book_info())  # 'To Kill a Mockingbird' by Harper Lee, published in 1960.\n",
        "print(book3.get_book_info())  # 'Pride and Prejudice' by Jane Austen, published in 1813.\n",
        "\n",
        "# Collect all books in a list\n",
        "books = [book1, book2, book3]\n",
        "\n",
        "# Print information for each book in the library\n",
        "print(\"\\nLibrary Collection:\")\n",
        "for book in books:\n",
        "    print(book.get_book_info())\n",
        "\n"
      ],
      "metadata": {
        "colab": {
          "base_uri": "https://localhost:8080/"
        },
        "id": "qd0RAZ60D5zP",
        "outputId": "ef287e3f-80f5-454c-9535-e78829c643f2"
      },
      "execution_count": 36,
      "outputs": [
        {
          "output_type": "stream",
          "name": "stdout",
          "text": [
            "'1984' by George Orwell, published in 1949.\n",
            "'To Kill a Mockingbird' by Harper Lee, published in 1960.\n",
            "'Pride and Prejudice' by Jane Austen, published in 1813.\n",
            "\n",
            "Library Collection:\n",
            "'1984' by George Orwell, published in 1949.\n",
            "'To Kill a Mockingbird' by Harper Lee, published in 1960.\n",
            "'Pride and Prejudice' by Jane Austen, published in 1813.\n"
          ]
        }
      ]
    },
    {
      "cell_type": "markdown",
      "source": [
        "18. Create a class House with attributes address and price. Create a derived class Mansion that adds an attribute number_of_rooms."
      ],
      "metadata": {
        "id": "n7N2gT6LG4_v"
      }
    },
    {
      "cell_type": "code",
      "source": [
        "class House:\n",
        "    def __init__(self, address, price):\n",
        "        self.address = address\n",
        "        self.price = price\n",
        "\n",
        "    def get_house_info(self):\n",
        "        return f\"House located at {self.address}, priced at ${self.price}\"\n",
        "\n",
        "class Mansion(House):\n",
        "    def __init__(self, address, price, number_of_rooms):\n",
        "        super().__init__(address, price)\n",
        "        self.number_of_rooms = number_of_rooms\n",
        "\n",
        "    def get_house_info(self):\n",
        "        base_info = super().get_house_info()\n",
        "        return f\"{base_info}, with {self.number_of_rooms} rooms.\"\n",
        "\n",
        "    def price_per_room(self):\n",
        "        return self.price / self.number_of_rooms\n",
        "\n",
        "# Create instances\n",
        "house1 = House(\"123 Main St, Springfield\", 200000)\n",
        "mansion1 = Mansion(\"456 Luxury Ln, Beverly Hills\", 5000000, 10)\n",
        "\n",
        "# Print house information\n",
        "print(house1.get_house_info())  # \"House located at 123 Main St, Springfield, priced at $200000\"\n",
        "print(mansion1.get_house_info())  # \"House located at 456 Luxury Ln, Beverly Hills, priced at $5000000, with 10 rooms.\"\n",
        "\n",
        "# Calculate price per room for the mansion\n",
        "print(f\"Price per room for mansion: ${mansion1.price_per_room():,.2f}\")\n"
      ],
      "metadata": {
        "colab": {
          "base_uri": "https://localhost:8080/"
        },
        "id": "y3tsQDUW_0NQ",
        "outputId": "ee0edb3e-0c56-446a-e893-4af8210044ec"
      },
      "execution_count": 37,
      "outputs": [
        {
          "output_type": "stream",
          "name": "stdout",
          "text": [
            "House located at 123 Main St, Springfield, priced at $200000\n",
            "House located at 456 Luxury Ln, Beverly Hills, priced at $5000000, with 10 rooms.\n",
            "Price per room for mansion: $500,000.00\n"
          ]
        }
      ]
    },
    {
      "cell_type": "code",
      "source": [],
      "metadata": {
        "id": "DYpv1TmE_vNg"
      },
      "execution_count": null,
      "outputs": []
    }
  ]
}