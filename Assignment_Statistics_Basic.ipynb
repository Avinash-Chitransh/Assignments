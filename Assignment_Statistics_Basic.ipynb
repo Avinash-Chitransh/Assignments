{
  "nbformat": 4,
  "nbformat_minor": 0,
  "metadata": {
    "colab": {
      "provenance": []
    },
    "kernelspec": {
      "name": "python3",
      "display_name": "Python 3"
    },
    "language_info": {
      "name": "python"
    }
  },
  "cells": [
    {
      "cell_type": "markdown",
      "source": [
        "1. What is statistics, and why is it important?\n",
        "\n",
        "Statistics is the science of collecting, analyzing, interpreting, and presenting data. It helps us make informed decisions based on data rather than assumptions. In various fields like medicine, economics, psychology, and education, statistics allows researchers and practitioners to identify patterns, make predictions, and evaluate outcomes effectively.\n",
        "\n",
        "2. What are the two main types of statistics?\n",
        "\n",
        "The two main types are descriptive statistics and inferential statistics. Descriptive statistics summarize data using measures like mean, median, and graphs. Inferential statistics use sample data to make generalizations or predictions about a larger population.\n",
        "\n",
        "3. What are descriptive statistics?\n",
        "\n",
        "Descriptive statistics involve summarizing and organizing data to describe its main features. This includes measures like mean, median, mode, standard deviation, and range, as well as visual tools like histograms and pie charts. They provide a quick insight into the dataset without making predictions or generalizations.\n",
        "\n",
        "4. What is inferential statistics?\n",
        "\n",
        "Inferential statistics allow us to draw conclusions or make inferences about a population based on a sample. It involves hypothesis testing, confidence intervals, and regression analysis. This type of statistics helps determine if findings from a sample are likely to apply to the whole population.\n",
        "\n",
        "5. What is sampling in statistics?\n",
        "\n",
        "Sampling is the process of selecting a subset of individuals or observations from a population to estimate characteristics of the whole group. It is used when it is impractical or impossible to study an entire population. Good sampling ensures that the sample accurately reflects the population.\n",
        "\n",
        "6. What are the different types of sampling methods?\n",
        "\n",
        "Sampling methods include:\n",
        "\n",
        "Simple Random Sampling\n",
        "\n",
        "Systematic Sampling\n",
        "\n",
        "Stratified Sampling\n",
        "\n",
        "Cluster Sampling\n",
        "\n",
        "Convenience Sampling\n",
        "Each method has its own applications and limitations based on the population structure and study goals.\n",
        "\n",
        "7. What is the difference between random and non-random sampling?\n",
        "\n",
        "Random sampling ensures every member of the population has an equal chance of being selected, reducing bias. Non-random sampling (e.g., convenience sampling) does not give each member an equal chance, which can introduce bias and limit the generalizability of results.\n",
        "\n",
        "8. Define and give examples of qualitative and quantitative data.\n",
        "\n",
        "Qualitative data: Descriptive, non-numerical (e.g., colors, names, labels). Example: eye color, type of car.\n",
        "\n",
        "Quantitative data: Numerical and measurable. Example: height, number of students, income.\n",
        "\n",
        "9. What are the different types of data in statistics?\n",
        "\n",
        "Data types include:\n",
        "\n",
        "Nominal: Categories without order (e.g., gender).\n",
        "\n",
        "Ordinal: Categories with a meaningful order (e.g., satisfaction ratings).\n",
        "\n",
        "Interval: Numeric with equal intervals, no true zero (e.g., temperature in Celsius).\n",
        "\n",
        "Ratio: Numeric with equal intervals and true zero (e.g., weight, age).\n",
        "\n",
        "\n",
        "10. Explain nominal, ordinal, interval, and ratio levels of measurement.\n",
        "\n",
        "\n",
        "Nominal: Names/categories without order (e.g., blood type).\n",
        "\n",
        "Ordinal: Ordered categories (e.g., education level).\n",
        "\n",
        "Interval: Numeric with meaningful intervals but no absolute zero (e.g., IQ scores).\n",
        "\n",
        "Ratio: Numeric with a true zero point (e.g., height, income).\n",
        "\n",
        "11. What is the measure of central tendency?\n",
        "\n",
        "It refers to statistical measures that identify the center of a dataset. Common measures include mean, median, and mode. They summarize a dataset with a single representative value and provide insight into the typical data point.\n",
        "\n",
        "12. Define mean, median, and mode.\n",
        "\n",
        "Mean: The average of all values.\n",
        "\n",
        "Median: The middle value when data is ordered.\n",
        "\n",
        "Mode: The most frequently occurring value(s) in the dataset.\n",
        "\n",
        "13. What is the significance of the measure of central tendency?\n",
        "\n",
        "It helps identify the most typical or central value in a dataset, offering a quick overview of the data’s distribution. Each measure has its use depending on the data type and whether there are outliers or skewed distributions.\n",
        "\n",
        "14. What is variance, and how is it calculated?\n",
        "\n",
        "Variance measures how far each data point is from the mean. It is calculated by averaging the squared differences between each data point and the mean. Formula:\n",
        "\n",
        "𝜎\n",
        "2\n",
        "=\n",
        "∑\n",
        "(\n",
        "𝑥\n",
        "𝑖\n",
        "−\n",
        "𝑥\n",
        "ˉ\n",
        ")\n",
        "2\n",
        "𝑛\n",
        "σ\n",
        "2\n",
        " =\n",
        "n\n",
        "∑(x\n",
        "i\n",
        "​\n",
        " −\n",
        "x\n",
        "ˉ\n",
        " )\n",
        "2\n",
        "\n",
        "​\n",
        "\n",
        "15. What is standard deviation, and why is it important?\n",
        "\n",
        "Standard deviation is the square root of variance and indicates how spread out the data points are around the mean. A small standard deviation implies tightly clustered data; a large one indicates wide spread. It is crucial in comparing variability across datasets.\n",
        "\n",
        "16. Define and explain the term range in statistics.\n",
        "\n",
        "Range is the difference between the maximum and minimum values in a dataset. It gives a quick sense of the spread of the data. Though simple to compute, it is highly sensitive to outliers.\n",
        "\n",
        "17. What is the difference between variance and standard deviation?\n",
        "\n",
        "Variance: The average of the squared differences from the mean.\n",
        "Standard Deviation: The square root of the variance.\n",
        "Standard deviation is in the same unit as the data, making it more interpretable, while variance is in squared units.\n",
        "\n",
        "18. What is skewness in a dataset?\n",
        "\n",
        "Skewness measures the asymmetry of a dataset’s distribution.\n",
        "\n",
        "Positive skew: Tail on the right.\n",
        "\n",
        "Negative skew: Tail on the left.\n",
        "A skewed dataset indicates that the mean, median, and mode are not equal, affecting interpretation.\n",
        "\n",
        "19. What does it mean if a dataset is positively or negatively skewed?\n",
        "\n",
        "Skewness indicates the asymmetry of a distribution. A dataset is positively skewed (right-skewed) when the tail on the right side is longer or fatter. In such cases, most data points are concentrated on the left, and the mean is greater than the median. Conversely, a negatively skewed (left-skewed) distribution has a longer left tail, with most data concentrated on the right. Here, the mean is less than the median. Skewness affects the interpretation of central tendency and the shape of the data. For example, income distributions are often positively skewed due to a few high-income outliers.\n",
        "\n",
        "20. Define and explain kurtosis.\n",
        "\n",
        "Kurtosis measures the \"tailedness\" or the presence of outliers in a distribution. High kurtosis (leptokurtic) means the data has heavy tails and a sharp peak—indicating frequent extreme deviations. Low kurtosis (platykurtic) reflects lighter tails and a flatter peak, suggesting less extreme values. A normal distribution has kurtosis close to 3 (mesokurtic). Kurtosis is useful in risk analysis, particularly in finance, where heavy tails imply higher chances of rare but extreme events.\n",
        "\n",
        "21. What is the purpose of covariance?\n",
        "\n",
        "Covariance indicates the direction of the linear relationship between two variables. A positive covariance means that as one variable increases, the other tends to increase as well. A negative covariance indicates that when one variable increases, the other tends to decrease. While covariance shows the relationship’s direction, it doesn’t convey its strength or is not scaled, making interpretation difficult without standardization. It is a foundational concept in multivariate statistics, including portfolio theory.\n",
        "\n",
        "22. What does correlation measure in statistics?\n",
        "\n",
        "Correlation quantifies both the strength and direction of a linear relationship between two variables. The most common measure is Pearson’s correlation coefficient (r), which ranges from -1 to +1. A value close to +1 indicates a strong positive relationship, while a value close to -1 signifies a strong negative relationship. A value around 0 suggests no linear correlation. Correlation is standardized, making it more interpretable than covariance. It is widely used in research, economics, and social sciences.\n",
        "\n",
        "23. What is the difference between covariance and correlation?\n",
        "\n",
        "Both covariance and correlation measure the relationship between two variables. However:\n",
        "\n",
        "Covariance only shows the direction (positive or negative) of the relationship and is sensitive to the scale of variables.\n",
        "\n",
        "Correlation standardizes the covariance, offering a dimensionless value between -1 and +1 that clearly indicates both strength and direction.\n",
        "Thus, while covariance gives raw relationship information, correlation is more useful for comparing relationships across datasets with different units.\n",
        "\n",
        "24. What are some real-world applications of statistics?\n",
        "\n",
        "Statistics is foundational in numerous real-world domains:\n",
        "\n",
        "Healthcare: Evaluating treatment effectiveness, tracking disease spread.\n",
        "\n",
        "Economics: Forecasting inflation, unemployment trends, and consumer behavior.\n",
        "\n",
        "Education: Assessing student performance and improving teaching strategies.\n",
        "\n",
        "Business: Market research, quality control, and customer satisfaction analysis.\n",
        "\n",
        "Sports: Performance analytics and strategy optimization.\n",
        "\n",
        "Public Policy: Crime analysis, resource allocation, and policy impact evaluation.\n",
        "These applications demonstrate how statistics supports evidence-based decisions across disciplines."
      ],
      "metadata": {
        "id": "EaagU4K08dUm"
      }
    },
    {
      "cell_type": "code",
      "execution_count": null,
      "metadata": {
        "id": "pRYBzZfG8aFP"
      },
      "outputs": [],
      "source": []
    },
    {
      "cell_type": "markdown",
      "source": [
        "Practical"
      ],
      "metadata": {
        "id": "U2Da6uZo_-oE"
      }
    },
    {
      "cell_type": "markdown",
      "source": [
        "1. How do you calculate the mean, median, and mode of a dataset?\n",
        "Mathematical Explanation:\n",
        "\n",
        "Mean:\n",
        "𝜇\n",
        "=\n",
        "∑\n",
        "𝑥\n",
        "𝑖\n",
        "𝑛\n",
        "μ=\n",
        "n\n",
        "∑x\n",
        "i\n",
        "​\n",
        "\n",
        "​\n",
        "Median: Middle value in sorted data.\n",
        "\n",
        "Mode: Most frequent value."
      ],
      "metadata": {
        "id": "Bs5zyGMdBaFc"
      }
    },
    {
      "cell_type": "code",
      "source": [
        "import statistics as stats\n",
        "\n",
        "data = [12, 15, 14, 10, 18, 15, 15]\n",
        "\n",
        "mean = stats.mean(data)\n",
        "median = stats.median(data)\n",
        "mode = stats.mode(data)\n",
        "\n",
        "print(f\"Mean: {mean}, Median: {median}, Mode: {mode}\")\n"
      ],
      "metadata": {
        "colab": {
          "base_uri": "https://localhost:8080/"
        },
        "id": "hBZmU5A68fc8",
        "outputId": "3753edf1-2f9a-4150-e73a-9660ccdd2771"
      },
      "execution_count": 1,
      "outputs": [
        {
          "output_type": "stream",
          "name": "stdout",
          "text": [
            "Mean: 14.142857142857142, Median: 15, Mode: 15\n"
          ]
        }
      ]
    },
    {
      "cell_type": "code",
      "source": [
        "import numpy as np\n",
        "\n",
        "a = np.mean(data)\n",
        "b = np.median(data)\n",
        "c = stats.mode(data)\n",
        "\n",
        "print(f\"Mean: {a}, Median: {b}, Mode: {c}\")"
      ],
      "metadata": {
        "colab": {
          "base_uri": "https://localhost:8080/"
        },
        "id": "QFH7myMb8fam",
        "outputId": "00bcca11-9766-4167-e818-276a51aef7d3"
      },
      "execution_count": 2,
      "outputs": [
        {
          "output_type": "stream",
          "name": "stdout",
          "text": [
            "Mean: 14.142857142857142, Median: 15.0, Mode: 15\n"
          ]
        }
      ]
    },
    {
      "cell_type": "markdown",
      "source": [
        "2.  Write a Python program to compute the variance and standard deviation of a dataset."
      ],
      "metadata": {
        "id": "GzGwJ-kDCJWj"
      }
    },
    {
      "cell_type": "code",
      "source": [
        "variance = stats.variance(data)\n",
        "std_dev = stats.stdev(data)\n",
        "\n",
        "print(f\"Variance: {variance}, Standard Deviation: {std_dev}\")\n"
      ],
      "metadata": {
        "colab": {
          "base_uri": "https://localhost:8080/"
        },
        "id": "W8QTK4008fX5",
        "outputId": "2dce80fa-dc66-4786-83ab-5ba6116eb2aa"
      },
      "execution_count": 3,
      "outputs": [
        {
          "output_type": "stream",
          "name": "stdout",
          "text": [
            "Variance: 6.476190476190476, Standard Deviation: 2.5448360411214073\n"
          ]
        }
      ]
    },
    {
      "cell_type": "markdown",
      "source": [
        "3. Create a dataset and classify it into nominal, ordinal, interval, and ratio types."
      ],
      "metadata": {
        "id": "3eLECoErC990"
      }
    },
    {
      "cell_type": "code",
      "source": [
        "import pandas as pd\n",
        "\n",
        "# Create the dataset\n",
        "data = {\n",
        "    'Member ID': ['001', '002', '003', '004'],\n",
        "    'Name': ['Alice Smith', 'Bob Johnson', 'Clara Lee', 'David Miller'],\n",
        "    'Gender': ['Female', 'Male', 'Female', 'Male'],\n",
        "    'Membership Level': ['Gold', 'Silver', 'Bronze', 'Gold'],\n",
        "    'Satisfaction Rating': ['5 (Very Satisfied)', '3 (Neutral)', '2 (Dissatisfied)', '4 (Satisfied)'],\n",
        "    'Temperature (°C)': [22, 21, 20, 23],\n",
        "    'Age': [28, 35, 41, 30],\n",
        "    'Weight (kg)': [62, 80, 70, 75]\n",
        "}\n",
        "\n",
        "df = pd.DataFrame(data)\n",
        "\n",
        "# Display the dataset\n",
        "print(\"Dataset:\")\n",
        "print(df)\n",
        "\n",
        "classification = {\n",
        "    'Member ID': 'Nominal',\n",
        "    'Name': 'Nominal',\n",
        "    'Gender': 'Nominal',\n",
        "    'Membership Level': 'Ordinal',\n",
        "    'Satisfaction Rating': 'Ordinal',\n",
        "    'Temperature (°C)': 'Interval',\n",
        "    'Age': 'Ratio',\n",
        "    'Weight (kg)': 'Ratio'\n",
        "}\n",
        "\n",
        "print(\"\\nData Type Classification:\")\n",
        "for column, dtype in classification.items():\n",
        "    print(f\"{column}: {dtype}\")\n"
      ],
      "metadata": {
        "colab": {
          "base_uri": "https://localhost:8080/"
        },
        "id": "PUnbIlrn8fVF",
        "outputId": "c4d0c9cc-98aa-464c-e9ac-80249dc3cf90"
      },
      "execution_count": 5,
      "outputs": [
        {
          "output_type": "stream",
          "name": "stdout",
          "text": [
            "Dataset:\n",
            "  Member ID          Name  Gender Membership Level Satisfaction Rating  \\\n",
            "0       001   Alice Smith  Female             Gold  5 (Very Satisfied)   \n",
            "1       002   Bob Johnson    Male           Silver         3 (Neutral)   \n",
            "2       003     Clara Lee  Female           Bronze    2 (Dissatisfied)   \n",
            "3       004  David Miller    Male             Gold       4 (Satisfied)   \n",
            "\n",
            "   Temperature (°C)  Age  Weight (kg)  \n",
            "0                22   28           62  \n",
            "1                21   35           80  \n",
            "2                20   41           70  \n",
            "3                23   30           75  \n",
            "\n",
            "Data Type Classification:\n",
            "Member ID: Nominal\n",
            "Name: Nominal\n",
            "Gender: Nominal\n",
            "Membership Level: Ordinal\n",
            "Satisfaction Rating: Ordinal\n",
            "Temperature (°C): Interval\n",
            "Age: Ratio\n",
            "Weight (kg): Ratio\n"
          ]
        }
      ]
    },
    {
      "cell_type": "markdown",
      "source": [
        "4. Implement sampling techniques like random sampling and stratified sampling."
      ],
      "metadata": {
        "id": "16rSHsIcD_0j"
      }
    },
    {
      "cell_type": "code",
      "source": [
        "import random\n",
        "import numpy as np\n",
        "\n",
        "population = list(range(1, 101))\n",
        "\n",
        "# Random Sampling\n",
        "random_sample = random.sample(population, 10)\n",
        "\n",
        "# Stratified Sampling Example\n",
        "group_A = population[:50]\n",
        "group_B = population[50:]\n",
        "stratified_sample = random.sample(group_A, 5) + random.sample(group_B, 5)\n",
        "\n",
        "print(\"Random Sample:\", random_sample)\n",
        "print(\"Stratified Sample:\", stratified_sample)\n"
      ],
      "metadata": {
        "colab": {
          "base_uri": "https://localhost:8080/"
        },
        "id": "uIIE4O898fSP",
        "outputId": "52340f8b-fc7f-4903-f50b-eca61cd14a37"
      },
      "execution_count": 6,
      "outputs": [
        {
          "output_type": "stream",
          "name": "stdout",
          "text": [
            "Random Sample: [86, 31, 17, 8, 79, 5, 59, 97, 70, 82]\n",
            "Stratified Sample: [4, 21, 6, 27, 36, 75, 80, 52, 78, 79]\n"
          ]
        }
      ]
    },
    {
      "cell_type": "markdown",
      "source": [
        "5. Write a Python function to calculate the range of a dataset.\n",
        "\n",
        "Range=max−min"
      ],
      "metadata": {
        "id": "4X37LABSEMPr"
      }
    },
    {
      "cell_type": "code",
      "source": [
        "import numpy as np\n",
        "\n",
        "def calculate_range_np(data):\n",
        "    return np.max(data) - np.min(data)\n",
        "    if len(data) == 0:\n",
        "        raise ValueError(\"The dataset is empty.\")\n",
        "    return np.max(data) - np.min(data)\n",
        "\n",
        "# Example dataset\n",
        "weights = [62, 80, 70, 75]\n",
        "\n",
        "weight_range = calculate_range_np(weights)\n",
        "print(\"Range of weights:\", weight_range)\n"
      ],
      "metadata": {
        "colab": {
          "base_uri": "https://localhost:8080/"
        },
        "id": "nH0A47Db8fPd",
        "outputId": "0b1d751f-a9ba-437a-81dd-1c6235404e1b"
      },
      "execution_count": 11,
      "outputs": [
        {
          "output_type": "stream",
          "name": "stdout",
          "text": [
            "Range of weights: 18\n"
          ]
        }
      ]
    },
    {
      "cell_type": "markdown",
      "source": [
        "6. Create a dataset and plot its histogram to visualize skewness."
      ],
      "metadata": {
        "id": "-2J-tAAIFLgU"
      }
    },
    {
      "cell_type": "code",
      "source": [
        "import matplotlib.pyplot as plt\n",
        "\n",
        "plt.hist(data, bins=5, edgecolor='black')\n",
        "plt.title(\"Histogram\")\n",
        "plt.xlabel(\"Values\")\n",
        "plt.ylabel(\"Frequency\")\n",
        "plt.show()\n"
      ],
      "metadata": {
        "colab": {
          "base_uri": "https://localhost:8080/",
          "height": 472
        },
        "id": "2zlAsoZ98fMl",
        "outputId": "5498aaef-33ba-44f1-9c00-df3244fcea5f"
      },
      "execution_count": 12,
      "outputs": [
        {
          "output_type": "display_data",
          "data": {
            "text/plain": [
              "<Figure size 640x480 with 1 Axes>"
            ],
            "image/png": "[encoded data removed]"
          },
          "metadata": {}
        }
      ]
    },
    {
      "cell_type": "markdown",
      "source": [
        "7. Calculate skewness and kurtosis of a dataset using Python libraries."
      ],
      "metadata": {
        "id": "Z4Q35TXTFVji"
      }
    },
    {
      "cell_type": "code",
      "source": [
        "import numpy as np\n",
        "from scipy.stats import skew, kurtosis\n",
        "\n",
        "# Example dataset\n",
        "data = [62, 80, 70, 75, 65, 90, 85]\n",
        "\n",
        "# Calculate skewness and kurtosis\n",
        "data_skewness = skew(data)\n",
        "data_kurtosis = kurtosis(data)  # Default is Fisher's definition (normal dist = 0)\n",
        "\n",
        "print(\"Skewness:\", data_skewness)\n",
        "print(\"Kurtosis:\", data_kurtosis)"
      ],
      "metadata": {
        "colab": {
          "base_uri": "https://localhost:8080/"
        },
        "id": "zO8Jbb_Y8fJt",
        "outputId": "3c0a31ed-3beb-4b57-a07c-15c17909f8a5"
      },
      "execution_count": 14,
      "outputs": [
        {
          "output_type": "stream",
          "name": "stdout",
          "text": [
            "Skewness: 0.10153115242823507\n",
            "Kurtosis: -1.3192404067905705\n"
          ]
        }
      ]
    },
    {
      "cell_type": "code",
      "source": [
        "import pandas as pd\n",
        "\n",
        "# Example dataset\n",
        "data = pd.Series([62, 80, 70, 75, 65, 90, 85])\n",
        "\n",
        "# Calculate skewness and kurtosis\n",
        "print(\"Skewness:\", data.skew())\n",
        "print(\"Kurtosis:\", data.kurt())  # This returns Fisher's definition (normal = 0)\n"
      ],
      "metadata": {
        "colab": {
          "base_uri": "https://localhost:8080/"
        },
        "id": "Otz2_Xu48fG1",
        "outputId": "57bb1b84-133c-4d13-c5b6-3fd5fb1907cc"
      },
      "execution_count": 15,
      "outputs": [
        {
          "output_type": "stream",
          "name": "stdout",
          "text": [
            "Skewness: 0.131599414339583\n",
            "Kurtosis: -1.3661769762973694\n"
          ]
        }
      ]
    },
    {
      "cell_type": "markdown",
      "source": [
        "8. Generate a dataset and demonstrate positive and negative skewness."
      ],
      "metadata": {
        "id": "JsRuQBxnFsgy"
      }
    },
    {
      "cell_type": "code",
      "source": [
        "import numpy as np\n",
        "\n",
        "pos_skew = np.random.exponential(scale=2, size=1000)\n",
        "neg_skew = -np.random.exponential(scale=2, size=1000)\n",
        "\n",
        "plt.hist(pos_skew, bins=30)\n",
        "plt.title(\"Positively Skewed\")\n",
        "plt.show()\n",
        "\n",
        "plt.hist(neg_skew, bins=30)\n",
        "plt.title(\"Negatively Skewed\")\n",
        "plt.show()\n"
      ],
      "metadata": {
        "colab": {
          "base_uri": "https://localhost:8080/",
          "height": 887
        },
        "id": "1__R1n5Y8fEN",
        "outputId": "7a5e29f3-586d-4cea-e7ec-c902d3482f12"
      },
      "execution_count": 16,
      "outputs": [
        {
          "output_type": "display_data",
          "data": {
            "text/plain": [
              "<Figure size 640x480 with 1 Axes>"
            ],
            "image/png": "[encoded data removed]"
          },
          "metadata": {}
        },
        {
          "output_type": "display_data",
          "data": {
            "text/plain": [
              "<Figure size 640x480 with 1 Axes>"
            ],
            "image/png": "[encoded data removed]"
          },
          "metadata": {}
        }
      ]
    },
    {
      "cell_type": "markdown",
      "source": [
        "9. Write a Python script to calculate covariance between two datasets."
      ],
      "metadata": {
        "id": "mKTR1wzUF3Gy"
      }
    },
    {
      "cell_type": "code",
      "source": [
        "x = [1, 2, 3, 4, 5]\n",
        "y = [5, 4, 6, 8, 10]\n",
        "\n",
        "cov = np.cov(x, y)[0][1]\n",
        "print(f\"Covariance: {cov}\")\n"
      ],
      "metadata": {
        "colab": {
          "base_uri": "https://localhost:8080/"
        },
        "id": "lcGlbtVp8fBX",
        "outputId": "738f4302-2301-42dd-be71-27d2a4a16bbd"
      },
      "execution_count": 17,
      "outputs": [
        {
          "output_type": "stream",
          "name": "stdout",
          "text": [
            "Covariance: 3.5\n"
          ]
        }
      ]
    },
    {
      "cell_type": "code",
      "source": [
        "10. Write a Python script to calculate the correlation coefficient between two datasets."
      ],
      "metadata": {
        "id": "MccBND2G8e-t"
      },
      "execution_count": null,
      "outputs": []
    },
    {
      "cell_type": "code",
      "source": [
        "correlation = np.corrcoef(x, y)[0][1]\n",
        "print(f\"Correlation: {correlation}\")"
      ],
      "metadata": {
        "colab": {
          "base_uri": "https://localhost:8080/"
        },
        "id": "nsKNWvDX8e72",
        "outputId": "5075498b-ae0a-47b2-b4d7-1eb5ea7c0d54"
      },
      "execution_count": 18,
      "outputs": [
        {
          "output_type": "stream",
          "name": "stdout",
          "text": [
            "Correlation: 0.9191450300180578\n"
          ]
        }
      ]
    },
    {
      "cell_type": "markdown",
      "source": [
        "11. Create a scatter plot to visualize the relationship between two variables."
      ],
      "metadata": {
        "id": "p3N_NDM6GD8i"
      }
    },
    {
      "cell_type": "code",
      "source": [
        "x = [1, 2, 3, 4, 5]\n",
        "y = [5, 4, 6, 8, 10]\n",
        "\n",
        "plt.scatter(x, y)\n",
        "plt.title(\"Scatter Plot\")\n",
        "plt.xlabel(\"X\")\n",
        "plt.ylabel(\"Y\")\n",
        "plt.show()\n"
      ],
      "metadata": {
        "colab": {
          "base_uri": "https://localhost:8080/",
          "height": 472
        },
        "id": "WY3gTNlt8e5R",
        "outputId": "9feaedc5-ea73-481f-cac7-9682de7a1341"
      },
      "execution_count": 20,
      "outputs": [
        {
          "output_type": "display_data",
          "data": {
            "text/plain": [
              "<Figure size 640x480 with 1 Axes>"
            ],
            "image/png": "[encoded data removed]"
          },
          "metadata": {}
        }
      ]
    },
    {
      "cell_type": "markdown",
      "source": [
        "12. Implement and compare simple random sampling and systematic sampling."
      ],
      "metadata": {
        "id": "kLuCKfTKGNzj"
      }
    },
    {
      "cell_type": "code",
      "source": [
        "# Simple Random\n",
        "random_sample = random.sample(population, 10)\n",
        "\n",
        "# Systematic\n",
        "k = len(population) // 10\n",
        "systematic_sample = [population[i] for i in range(0, len(population), k)][:10]\n",
        "\n",
        "print(\"Random Sample:\", random_sample)\n",
        "print(\"Systematic Sample:\", systematic_sample)\n"
      ],
      "metadata": {
        "colab": {
          "base_uri": "https://localhost:8080/"
        },
        "id": "KGUNUFaz8e24",
        "outputId": "4b1b33e5-36de-4dc3-aca8-c5507b12a816"
      },
      "execution_count": 21,
      "outputs": [
        {
          "output_type": "stream",
          "name": "stdout",
          "text": [
            "Random Sample: [24, 97, 13, 64, 94, 88, 73, 39, 51, 2]\n",
            "Systematic Sample: [1, 11, 21, 31, 41, 51, 61, 71, 81, 91]\n"
          ]
        }
      ]
    },
    {
      "cell_type": "markdown",
      "source": [
        "13. Calculate the mean, median, and mode of grouped data."
      ],
      "metadata": {
        "id": "hvDzcQKbGTpr"
      }
    },
    {
      "cell_type": "code",
      "source": [
        "import pandas as pd\n",
        "\n",
        "grouped_data = {\n",
        "    'Class': ['0-10', '10-20', '20-30'],\n",
        "    'Frequency': [5, 10, 5]\n",
        "}\n",
        "df = pd.DataFrame(grouped_data)\n",
        "df['Midpoint'] = [5, 15, 25]\n",
        "mean = sum(df['Midpoint'] * df['Frequency']) / sum(df['Frequency'])\n",
        "\n",
        "print(f\"Grouped Mean: {mean}\")"
      ],
      "metadata": {
        "colab": {
          "base_uri": "https://localhost:8080/"
        },
        "id": "dMSsxf138e0D",
        "outputId": "c31c89ae-0e1c-48df-a083-5b21a92d889f"
      },
      "execution_count": 22,
      "outputs": [
        {
          "output_type": "stream",
          "name": "stdout",
          "text": [
            "Grouped Mean: 15.0\n"
          ]
        }
      ]
    },
    {
      "cell_type": "markdown",
      "source": [
        "14.  Simulate data using Python and calculate its central tendency and dispersion."
      ],
      "metadata": {
        "id": "zJc0UBWsGaLZ"
      }
    },
    {
      "cell_type": "code",
      "source": [
        "simulated_data = np.random.normal(loc=50, scale=10, size=1000)\n",
        "\n",
        "print(f\"Mean: {np.mean(simulated_data)}\")\n",
        "print(f\"Median: {np.median(simulated_data)}\")\n",
        "print(f\"Std Dev: {np.std(simulated_data)}\")\n"
      ],
      "metadata": {
        "colab": {
          "base_uri": "https://localhost:8080/"
        },
        "id": "EAtcIhBd8exe",
        "outputId": "1eb9ff5f-97d6-43c5-f4a7-d178ff4eaa02"
      },
      "execution_count": 23,
      "outputs": [
        {
          "output_type": "stream",
          "name": "stdout",
          "text": [
            "Mean: 49.81044914530096\n",
            "Median: 49.62606636496629\n",
            "Std Dev: 9.815274699356166\n"
          ]
        }
      ]
    },
    {
      "cell_type": "markdown",
      "source": [
        "15.  Use NumPy or pandas to summarize a dataset’s descriptive statistics."
      ],
      "metadata": {
        "id": "ClqXRz1JGljh"
      }
    },
    {
      "cell_type": "code",
      "source": [
        "import pandas as pd\n",
        "\n",
        "# Sample dataset\n",
        "data = pd.DataFrame({\n",
        "    'Age': [28, 35, 41, 30, 25],\n",
        "    'Weight': [62, 80, 70, 75, 68]\n",
        "})\n",
        "\n",
        "print(data.describe())\n"
      ],
      "metadata": {
        "colab": {
          "base_uri": "https://localhost:8080/"
        },
        "id": "EYgn9cppGrPB",
        "outputId": "88d0d5e8-6d23-4399-d1f5-30693c37c5ed"
      },
      "execution_count": 25,
      "outputs": [
        {
          "output_type": "stream",
          "name": "stdout",
          "text": [
            "             Age     Weight\n",
            "count   5.000000   5.000000\n",
            "mean   31.800000  71.000000\n",
            "std     6.300794   6.855655\n",
            "min    25.000000  62.000000\n",
            "25%    28.000000  68.000000\n",
            "50%    30.000000  70.000000\n",
            "75%    35.000000  75.000000\n",
            "max    41.000000  80.000000\n"
          ]
        }
      ]
    },
    {
      "cell_type": "markdown",
      "source": [
        "16. Plot a boxplot to understand the spread and identify outliers>"
      ],
      "metadata": {
        "id": "dSJeOICuGsS0"
      }
    },
    {
      "cell_type": "code",
      "source": [
        "import seaborn as sns\n",
        "import matplotlib.pyplot as plt\n",
        "\n",
        "sns.boxplot(data=data)\n",
        "plt.title(\"Boxplot of Age and Weight\")\n",
        "plt.show()"
      ],
      "metadata": {
        "colab": {
          "base_uri": "https://localhost:8080/",
          "height": 452
        },
        "id": "upeMZ9s78eu9",
        "outputId": "3b02afb0-8934-466b-f6d8-8334f1c73c22"
      },
      "execution_count": 26,
      "outputs": [
        {
          "output_type": "display_data",
          "data": {
            "text/plain": [
              "<Figure size 640x480 with 1 Axes>"
            ],
            "image/png": "[encoded data removed]"
          },
          "metadata": {}
        }
      ]
    },
    {
      "cell_type": "markdown",
      "source": [
        "17. Calculate the interquartile range (IQR) of a dataset."
      ],
      "metadata": {
        "id": "dnV0vJuRGuZC"
      }
    },
    {
      "cell_type": "code",
      "source": [
        "Q1 = data.quantile(0.25)\n",
        "Q3 = data.quantile(0.75)\n",
        "IQR = Q3 - Q1\n",
        "print(\"Interquartile Range (IQR):\")\n",
        "print(IQR)"
      ],
      "metadata": {
        "colab": {
          "base_uri": "https://localhost:8080/"
        },
        "id": "NqU7yR7c8esl",
        "outputId": "f00ad0a7-c4a8-4ddf-b7e7-2748cfba11b2"
      },
      "execution_count": 27,
      "outputs": [
        {
          "output_type": "stream",
          "name": "stdout",
          "text": [
            "Interquartile Range (IQR):\n",
            "Age       7.0\n",
            "Weight    7.0\n",
            "dtype: float64\n"
          ]
        }
      ]
    },
    {
      "cell_type": "markdown",
      "source": [
        "18.  Implement Z-score normalization and explain its significance."
      ],
      "metadata": {
        "id": "0Xfm_RTmG5yy"
      }
    },
    {
      "cell_type": "code",
      "source": [
        "from scipy.stats import zscore\n",
        "\n",
        "z_scores = data.apply(zscore)\n",
        "print(\"Z-score Normalized Data:\")\n",
        "print(z_scores)\n"
      ],
      "metadata": {
        "colab": {
          "base_uri": "https://localhost:8080/"
        },
        "id": "bsGwS18z8eqM",
        "outputId": "bf99bab3-d407-4e02-91d1-988f0d412f8a"
      },
      "execution_count": 28,
      "outputs": [
        {
          "output_type": "stream",
          "name": "stdout",
          "text": [
            "Z-score Normalized Data:\n",
            "        Age    Weight\n",
            "0 -0.674285 -1.467738\n",
            "1  0.567819  1.467738\n",
            "2  1.632479 -0.163082\n",
            "3 -0.319398  0.652328\n",
            "4 -1.206615 -0.489246\n"
          ]
        }
      ]
    },
    {
      "cell_type": "markdown",
      "source": [
        "19.  Compare two datasets using their standard deviations."
      ],
      "metadata": {
        "id": "NNJ_9dYuG9Xi"
      }
    },
    {
      "cell_type": "code",
      "source": [
        "data2 = pd.DataFrame({\n",
        "    'Height': [160, 170, 180, 175, 165]\n",
        "})\n",
        "\n",
        "print(\"Std Dev of Weight:\", data['Weight'].std())\n",
        "print(\"Std Dev of Height:\", data2['Height'].std())\n"
      ],
      "metadata": {
        "colab": {
          "base_uri": "https://localhost:8080/"
        },
        "id": "W59qD4lX8enx",
        "outputId": "77449793-2f14-44b9-be73-8c94168b5d94"
      },
      "execution_count": 30,
      "outputs": [
        {
          "output_type": "stream",
          "name": "stdout",
          "text": [
            "Std Dev of Weight: 6.855654600401044\n",
            "Std Dev of Height: 7.905694150420948\n"
          ]
        }
      ]
    },
    {
      "cell_type": "markdown",
      "source": [
        "20. Write a Python program to visualize covariance using a heatmap."
      ],
      "metadata": {
        "id": "RID0bdd3G_8i"
      }
    },
    {
      "cell_type": "code",
      "source": [
        "cov_matrix = data.cov()\n",
        "sns.heatmap(cov_matrix, annot=True, cmap=\"YlGnBu\")\n",
        "plt.title(\"Covariance Matrix Heatmap\")\n",
        "plt.show()\n"
      ],
      "metadata": {
        "colab": {
          "base_uri": "https://localhost:8080/",
          "height": 452
        },
        "id": "_Sl-UiQA8ell",
        "outputId": "0f7d4b28-f29f-4f98-e51f-1d7d6e30022e"
      },
      "execution_count": 31,
      "outputs": [
        {
          "output_type": "display_data",
          "data": {
            "text/plain": [
              "<Figure size 640x480 with 2 Axes>"
            ],
            "image/png": "[encoded data removed]"
          },
          "metadata": {}
        }
      ]
    },
    {
      "cell_type": "markdown",
      "source": [
        "21. Use seaborn to create a correlation matrix for a dataset."
      ],
      "metadata": {
        "id": "HLy0WmHcHQy5"
      }
    },
    {
      "cell_type": "code",
      "source": [
        "corr_matrix = data.corr()\n",
        "sns.heatmap(corr_matrix, annot=True, cmap=\"coolwarm\")\n",
        "plt.title(\"Correlation Matrix\")\n",
        "plt.show()\n"
      ],
      "metadata": {
        "colab": {
          "base_uri": "https://localhost:8080/",
          "height": 452
        },
        "id": "FVLMiM2z8ei2",
        "outputId": "552a21df-0d8d-4ee7-945e-48544061c0eb"
      },
      "execution_count": 32,
      "outputs": [
        {
          "output_type": "display_data",
          "data": {
            "text/plain": [
              "<Figure size 640x480 with 2 Axes>"
            ],
            "image/png": "[encoded data removed]"
          },
          "metadata": {}
        }
      ]
    },
    {
      "cell_type": "markdown",
      "source": [
        "22. Generate a dataset and implement both variance and standard deviation computations."
      ],
      "metadata": {
        "id": "v00nj7P3HStS"
      }
    },
    {
      "cell_type": "code",
      "source": [
        "generated_data = pd.Series([10, 20, 30, 40, 50])\n",
        "\n",
        "print(\"Variance:\", generated_data.var())\n",
        "print(\"Standard Deviation:\", generated_data.std())\n"
      ],
      "metadata": {
        "colab": {
          "base_uri": "https://localhost:8080/"
        },
        "id": "G_mwPidRHSHh",
        "outputId": "646fed1f-dba1-40d8-e42d-d1cb1145e992"
      },
      "execution_count": 33,
      "outputs": [
        {
          "output_type": "stream",
          "name": "stdout",
          "text": [
            "Variance: 250.0\n",
            "Standard Deviation: 15.811388300841896\n"
          ]
        }
      ]
    },
    {
      "cell_type": "markdown",
      "source": [
        "23. Visualize skewness and kurtosis using Python libraries like matplotlib or seaborn."
      ],
      "metadata": {
        "id": "YrqxjX6_HVfp"
      }
    },
    {
      "cell_type": "code",
      "source": [
        "from scipy.stats import skew, kurtosis\n",
        "\n",
        "print(\"Skewness:\", skew(data['Weight']))\n",
        "print(\"Kurtosis:\", kurtosis(data['Weight']))\n",
        "\n",
        "sns.histplot(data['Weight'], kde=True)\n",
        "plt.title(\"Distribution with Skewness & Kurtosis\")\n",
        "plt.show()\n"
      ],
      "metadata": {
        "colab": {
          "base_uri": "https://localhost:8080/",
          "height": 507
        },
        "id": "nIJ9_sVf8egV",
        "outputId": "12d2fecc-da10-4c80-f11c-a34ff568ad5d"
      },
      "execution_count": 34,
      "outputs": [
        {
          "output_type": "stream",
          "name": "stdout",
          "text": [
            "Skewness: 0.031228471582345634\n",
            "Kurtosis: -1.0958578542326847\n"
          ]
        },
        {
          "output_type": "display_data",
          "data": {
            "text/plain": [
              "<Figure size 640x480 with 1 Axes>"
            ],
            "image/png": "[encoded data removed]"
          },
          "metadata": {}
        }
      ]
    },
    {
      "cell_type": "markdown",
      "source": [
        "24. Implement the Pearson and Spearman correlation coefficients for a dataset."
      ],
      "metadata": {
        "id": "V6FyE6GCHZU5"
      }
    },
    {
      "cell_type": "code",
      "source": [
        "from scipy.stats import pearsonr, spearmanr\n",
        "\n",
        "pearson_corr, _ = pearsonr(data['Age'], data['Weight'])\n",
        "spearman_corr, _ = spearmanr(data['Age'], data['Weight'])\n",
        "\n",
        "print(\"Pearson Correlation:\", pearson_corr)\n",
        "print(\"Spearman Correlation:\", spearman_corr)\n"
      ],
      "metadata": {
        "colab": {
          "base_uri": "https://localhost:8080/"
        },
        "id": "qI3UQcWE8edt",
        "outputId": "80818d00-12de-431b-f76d-8639cfe5c52d"
      },
      "execution_count": 35,
      "outputs": [
        {
          "output_type": "stream",
          "name": "stdout",
          "text": [
            "Pearson Correlation: 0.38776680564110155\n",
            "Spearman Correlation: 0.6\n"
          ]
        }
      ]
    },
    {
      "cell_type": "code",
      "source": [],
      "metadata": {
        "id": "C7kCyFo6IK4h"
      },
      "execution_count": null,
      "outputs": []
    }
  ]
}