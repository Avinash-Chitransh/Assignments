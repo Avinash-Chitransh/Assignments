{
  "nbformat": 4,
  "nbformat_minor": 0,
  "metadata": {
    "colab": {
      "provenance": []
    },
    "kernelspec": {
      "name": "python3",
      "display_name": "Python 3"
    },
    "language_info": {
      "name": "python"
    }
  },
  "cells": [
    {
      "cell_type": "markdown",
      "source": [
        "1. What is the difference between a function and a method in Python?\n",
        "\n",
        "\n",
        "In Python Both functions and methods are blocks of codes called to perform specific tasks but a different in their association and usage.\n",
        "A function is defined using the keyword def and is not tight to any other object unless used inside a class. It can exist independently. Functions belong to modules.\n",
        "E.g def greet(name):\n",
        "    return f\"Hello, {name}\"\n",
        "Whereas a method is a function that is associated with an object and defined inside a class which operates on data contained in that object. Methods are also defined using def, but inside classes. Methods belong to objects or classes.\n",
        "\t\te.g. class Greeter:\n",
        "   \t\t\t def greet(self, name):\n",
        "       \t\t\t\t return f\"Hello, {name}\"\n",
        "\n",
        "\n",
        "2. Explain the concept of function arguments and parameters in Python.\n",
        "\n",
        "Parameters in Python are the variables listed inside the parenthesis in a defined function.\n",
        "\t\te.g. def greet(name):  # 'name' is a parameter\n",
        "    \t\t\tprint(f\"Hello, {name}\")\n",
        "Arguments are defined in Python as the actual values that has been passed to the function when it is called\n",
        "\t\te.g. greet(\"Avinash\")  # \"Avinash\" is an argument.\n",
        "\n",
        "\n",
        "3. What are the different ways to define and call a function in Python?\n",
        "\n",
        "In Python there are multiple ways to define a function. A function is a block of code design for a specific purpose.\n",
        "Standard function: \t#def greet(): print(\"Hello\")\n",
        "Function with parameters: #def greet(name):    print(f\"Hello, {name}\")\n",
        "Function with default parameters: # def greet(name=\"Guest\"):   print(f\"Hello, {name}\")\n",
        "Variable length arguments:  \n",
        "Lambda function: #square = lambda x: x ** 2\n",
        "Calling a function in Python explicitly means the execution of the code using the function\n",
        "There are multiple ways to call a function in Python e.g.\n",
        "Simple call: #greet()\n",
        "with positional arguments: # greet(\"Avinash\")  \n",
        "with keyword arguments: # greet(name=\"Avinash\")\n",
        "using unpacking: #args = (1, 2, 3) add(*args)\n",
        "calling Lambda function: #print(square(5))\n",
        "\n",
        "\n",
        "4. What is the purpose of the `return` statement in a Python function?\n",
        "\n",
        "In Python The Return statement is used to send back the value to the caller and terminate the functions execution. It is used to provide the result of the function to the part of the program that has been called for. It Ends the function immediately. It allows for value storage. The default return is none.\n",
        "#def add(a, b):\n",
        "#    return a + b\n",
        "#result = add(2, 3)\n",
        "\n",
        "\n",
        "5. What are iterators in Python and how do they differ from iterables?\n",
        "\n",
        "Iteration in Python is a process of looping through the elements of an Itrater example string list using a loop.\n",
        "#e.g. For i in “avinash”   print(i).\n",
        "Iterators in Python is an object representing a string of data returning the data one by one.\n",
        "#s=”pwskills”\n",
        "#for i in s:\n",
        "#print(i)\n",
        "#e.g. a=iter(s).\n",
        "whereas an iterables is any Python object sequential string comma data structure that is capable of returning its numbers 1 at a time. Permitting it to be iterated over in a loop example list dictionary tuples etc.\n",
        "\n",
        "6. Explain the concept of generators in Python and how they are defined.\n",
        "\n",
        "In Python there are two types of functions generally used one is the general function it uses the return statement the other one is the generated statement which uses the yield statement.\n",
        "Following are it characteristics:\n",
        "Memory Efficient:  Generators produce values on-the-fly and do not store all values in memory, unlike lists.\n",
        "Uses yield Instead of return: The yield statement pauses the function and remembers its state, resuming from there when called again.\n",
        "Iterator Protocol: Generators automatically support iteration using next() and for loops.\n",
        "Defined Like a Normal Function: But with yield inside.\n",
        "Can Be Infinite: Useful for creating infinite sequences (e.g., Fibonacci, streams).\n",
        "StopIteration Exception: Raised when the generator is exhausted.\n",
        "e.g,  def even_numbers(n):\n",
        "    num = 2\n",
        "    while num <= n:\n",
        "        yield num\n",
        "        num += 2\n",
        "\n",
        "for i in even_numbers(6):\n",
        "    print(i)\n",
        "\n",
        "\n",
        "7. What are the advantages of using generators over regular functions?\n",
        "\n",
        "Following are the advantages of using generators over regular functions:\n",
        "Memory Efficiency: Generators yield one item at a time, without storing the entire sequence in memory.\n",
        "Lazy Evaluation: Values are computed on demand, not all at once — ideal for large data or streams.\n",
        "Infinite Sequences: Generators can produce infinite data without causing memory overflow:\n",
        "Simplified Code: Less boilerplate code than implementing custom iterators with __iter__() and __next__().\n",
        "State Preservation: Automatically remembers where it left off between calls to next().\n",
        "Faster Iteration Start-Up: No need to compute entire results before iteration begins.\n",
        "Pipelining of Generators: Can be chained to process data through multiple steps efficiently.\n",
        "\n",
        "8. What is a lambda function in Python and when is it typically used?\n",
        "\n",
        "A Lambda function also known as anonymous function or shorthand functions is a function in python that is used for better efficiency of coding. It can possess n number of arguments using only one expression. It is short and simple, ideal for one liner functions without the requirement of naming. It is used with functions like map filter reduce. It is used for sorting in Python.\n",
        "# Syntax: lambda arguments: expression\n",
        "#nums = [1, 2, 3, 4]\n",
        "#squares = list(map(lambda x: x**2, nums))\n",
        "\n",
        "9. Explain the purpose and usage of the `map()` function in Python.\n",
        "\n",
        "The map() function applies a given function to every item in an iterable (like a list, tuple, etc.) and returns a new map object (which is an iterator).\n",
        "#map(function, iterable).\n",
        "Following are the applications of a map function:\n",
        "It is applied to a function of all elements.\n",
        "def square(x):\n",
        "    return x * x\n",
        "result = map(square, [1, 2, 3])\n",
        "print(list(result))  # Output: [1, 4, 9]\n",
        "It is applied using Lambda with map.\n",
        "result = map(lambda x: x + 10, [1, 2, 3])\n",
        "print(list(result))  # Output: [11, 12, 13]\n",
        "It is applied in working with multiple Itrebles.\n",
        "result = map(lambda x, y: x + y, [1, 2], [3, 4])\n",
        "print(list(result))  # Output: [4, 6]\n",
        "For changing with lists or for loop.\n",
        "\n",
        "10. What is the difference between `map()`, `reduce()`, and `filter()` functions in Python?\n",
        "\n",
        "Following are the differences between map reduce and filter function in Python:\n",
        "A map function applies to a function each time in an iterable and Returns a new iterable.\n",
        "map(lambda x: x*2, [1, 2, 3]) → [2, 4, 6]\n",
        "Filter function selects item for which the function remains true.\n",
        "filter(lambda x: x > 2, [1, 2, 3]) → [3]\n",
        "Reduce functions applied to a function cumulatively reducing the iterable to a single value.\n",
        "reduce(lambda x, y: x + y, [1, 2, 3]) → 6\n",
        "While map and filter function returns iterable reduce returns of value.\n",
        "Reduce is not a Keyword and has to be imported from the “Functools” module.\n"
      ],
      "metadata": {
        "id": "YTDSFGdEg6za"
      }
    },
    {
      "cell_type": "markdown",
      "source": [
        "1. Write a Python function that takes a list of numbers as input and returns the sum of all even numbers in\n",
        "the list."
      ],
      "metadata": {
        "id": "oyDQf_6phMod"
      }
    },
    {
      "cell_type": "code",
      "execution_count": 1,
      "metadata": {
        "id": "Z4oYhVDo127j"
      },
      "outputs": [],
      "source": [
        "def sum_even_numbers(numbers):\n",
        "    return sum(num for num in numbers if num % 2 == 0)"
      ]
    },
    {
      "cell_type": "code",
      "source": [
        "sum_even_numbers([1, 2, 3, 4, 5, 6, 7, 8, 9, 10])"
      ],
      "metadata": {
        "colab": {
          "base_uri": "https://localhost:8080/"
        },
        "id": "EevvkYTj1-FO",
        "outputId": "d177dfc9-7882-4f0e-f6b0-b28f173e4779"
      },
      "execution_count": 4,
      "outputs": [
        {
          "output_type": "execute_result",
          "data": {
            "text/plain": [
              "30"
            ]
          },
          "metadata": {},
          "execution_count": 4
        }
      ]
    },
    {
      "cell_type": "markdown",
      "source": [
        "2. Create a Python function that accepts a string and returns the reverse of that string."
      ],
      "metadata": {
        "id": "TKzzjZjrlgkh"
      }
    },
    {
      "cell_type": "code",
      "source": [
        "def reverse_string(text):\n",
        "    return text[::-1]\n",
        "text = \"pwskills\"\n",
        "print(reverse_string(text))"
      ],
      "metadata": {
        "colab": {
          "base_uri": "https://localhost:8080/"
        },
        "id": "eFjKLFGY195e",
        "outputId": "de89431c-6127-4a01-a635-db4e412e7d22"
      },
      "execution_count": 5,
      "outputs": [
        {
          "output_type": "stream",
          "name": "stdout",
          "text": [
            "sllikswp\n"
          ]
        }
      ]
    },
    {
      "cell_type": "markdown",
      "source": [
        "3. Implement a Python function that takes a list of integers and returns a new list containing the squares of\n",
        "each number."
      ],
      "metadata": {
        "id": "TeoX-kXJnClK"
      }
    },
    {
      "cell_type": "code",
      "source": [
        "def square_list(numbers):\n",
        "    return [num ** 2 for num in numbers]\n",
        "\n",
        "input_list = [1, 2, 3, 4, 5]\n",
        "result = square_list(input_list)\n",
        "print(result)\n"
      ],
      "metadata": {
        "colab": {
          "base_uri": "https://localhost:8080/"
        },
        "id": "h-zUn5pb192u",
        "outputId": "c62f1ea3-f49b-4b43-efb2-ebc9fb8cfc5f"
      },
      "execution_count": 10,
      "outputs": [
        {
          "output_type": "stream",
          "name": "stdout",
          "text": [
            "[1, 4, 9, 16, 25]\n"
          ]
        }
      ]
    },
    {
      "cell_type": "markdown",
      "source": [
        "4. Write a Python function that checks if a given number is prime or not from 1 to 200"
      ],
      "metadata": {
        "id": "kVKSpJ9Vn3op"
      }
    },
    {
      "cell_type": "code",
      "source": [
        "def is_prime(n):\n",
        "    if n < 2 or n > 200:\n",
        "        return False\n",
        "    for i in range(2, int(n**0.5) + 1):\n",
        "        if n % i == 0:\n",
        "            return False\n",
        "    return True\n",
        "print(is_prime(7))\n",
        "print(is_prime(1))\n",
        "print(is_prime(231))\n",
        "print(is_prime(100))"
      ],
      "metadata": {
        "colab": {
          "base_uri": "https://localhost:8080/"
        },
        "id": "S6wyW9nx19zu",
        "outputId": "9d434693-ae5f-4fa7-b86f-160f911bb31b"
      },
      "execution_count": 18,
      "outputs": [
        {
          "output_type": "stream",
          "name": "stdout",
          "text": [
            "True\n",
            "False\n",
            "False\n",
            "False\n"
          ]
        }
      ]
    },
    {
      "cell_type": "markdown",
      "source": [
        "5. Create an iterator class in Python that generates the Fibonacci sequence up to a specified number of\n",
        "terms."
      ],
      "metadata": {
        "id": "dxItMfjkotBE"
      }
    },
    {
      "cell_type": "code",
      "source": [
        "fib = lambda n:n if n <= 1 else fib(n-1) + fib(n-2)\n",
        "[fib (i) for i in range(10)]"
      ],
      "metadata": {
        "colab": {
          "base_uri": "https://localhost:8080/"
        },
        "id": "DAV5_gf-19w-",
        "outputId": "6422c170-d53e-462a-a1a2-a2e1cf83ba05"
      },
      "execution_count": 27,
      "outputs": [
        {
          "output_type": "execute_result",
          "data": {
            "text/plain": [
              "[0, 1, 1, 2, 3, 5, 8, 13, 21, 34]"
            ]
          },
          "metadata": {},
          "execution_count": 27
        }
      ]
    },
    {
      "cell_type": "markdown",
      "source": [
        "6. Write a generator function in Python that yields the powers of 2 up to a given exponent.\n",
        "\n"
      ],
      "metadata": {
        "id": "x_X5YTJdqvdJ"
      }
    },
    {
      "cell_type": "code",
      "source": [
        "def sq_num(a):\n",
        "  for i in range(a):\n",
        "    yield i ** 2\n",
        "for square in sq_num(5):\n",
        "    print(square)"
      ],
      "metadata": {
        "colab": {
          "base_uri": "https://localhost:8080/"
        },
        "id": "AZVXojR719uG",
        "outputId": "0f959c10-c205-426b-b26e-5d1e761c794e"
      },
      "execution_count": 32,
      "outputs": [
        {
          "output_type": "stream",
          "name": "stdout",
          "text": [
            "0\n",
            "1\n",
            "4\n",
            "9\n",
            "16\n"
          ]
        }
      ]
    },
    {
      "cell_type": "markdown",
      "source": [
        "7. Implement a generator function that reads a file line by line and yields each line as a string."
      ],
      "metadata": {
        "id": "i1XSBVSjsM_B"
      }
    },
    {
      "cell_type": "code",
      "source": [
        "def read_file_line_by_line(file_path):\n",
        "    with open(file_path, 'r') as file:\n",
        "        for line in file:\n",
        "            yield line.rstrip('\\n')\n",
        "\n",
        "with open(\"example.txt\", \"w\") as f:\n",
        "    f.write(\"My name is Avinash Chitransh\\nI want to master python\\nfrom pwskills\")\n",
        "\n",
        "for line in read_file_line_by_line(\"example.txt\"):\n",
        "    print(line)\n"
      ],
      "metadata": {
        "colab": {
          "base_uri": "https://localhost:8080/"
        },
        "id": "dxmv0RPIs9OI",
        "outputId": "9b7f1592-50a1-4237-a5cb-6ea87221dc4e"
      },
      "execution_count": 47,
      "outputs": [
        {
          "output_type": "stream",
          "name": "stdout",
          "text": [
            "My name is Avinash Chitransh\n",
            "I want to master python\n",
            "from pwskills\n"
          ]
        }
      ]
    },
    {
      "cell_type": "markdown",
      "source": [
        "8. Use a lambda function in Python to sort a list of tuples based on the second element of each tuple."
      ],
      "metadata": {
        "id": "Pe-UIvzEycpH"
      }
    },
    {
      "cell_type": "code",
      "source": [
        "data = [(3, 4), (1, 2), (5, 1), (2, 3)]\n",
        "sorted_data = sorted(data, key=lambda x: x[1])\n",
        "\n",
        "print(sorted_data)\n"
      ],
      "metadata": {
        "colab": {
          "base_uri": "https://localhost:8080/"
        },
        "id": "2J2QlIR7s9Lh",
        "outputId": "03b5e9d4-1889-4482-d39d-0af71fb00b59"
      },
      "execution_count": 38,
      "outputs": [
        {
          "output_type": "stream",
          "name": "stdout",
          "text": [
            "[(5, 1), (1, 2), (2, 3), (3, 4)]\n"
          ]
        }
      ]
    },
    {
      "cell_type": "markdown",
      "source": [
        "9. Write a Python program that uses `map()` to convert a list of temperatures from Celsius to Fahrenheit."
      ],
      "metadata": {
        "id": "yBQmihSJytE2"
      }
    },
    {
      "cell_type": "code",
      "source": [
        "celsius = [0, 100, 42, 96]\n",
        "fahrenheit = list(map(lambda c: (c * 9/5) + 32, celsius))\n",
        "print(fahrenheit)"
      ],
      "metadata": {
        "colab": {
          "base_uri": "https://localhost:8080/"
        },
        "id": "Pe7fW8Abs9Gb",
        "outputId": "8fda7639-ce8a-442b-8b3c-79c950990ff7"
      },
      "execution_count": 40,
      "outputs": [
        {
          "output_type": "stream",
          "name": "stdout",
          "text": [
            "[32.0, 212.0, 107.6, 204.8]\n"
          ]
        }
      ]
    },
    {
      "cell_type": "markdown",
      "source": [
        "10. Create a Python program that uses `filter()` to remove all the vowels from a given string."
      ],
      "metadata": {
        "id": "uRjPJHlWzG0A"
      }
    },
    {
      "cell_type": "code",
      "source": [
        "def remove_vowels(text):\n",
        "    vowels = 'aeiouAEIOU'\n",
        "    return ''.join(filter(lambda char: char not in vowels, text))\n",
        "\n",
        "input_str = \"My name is Avinash Chitransh\"\n",
        "result = remove_vowels(input_str)\n",
        "print(result)"
      ],
      "metadata": {
        "colab": {
          "base_uri": "https://localhost:8080/"
        },
        "id": "1o0fo_NTs9Dt",
        "outputId": "864910c1-ea64-42bb-8d44-508195563413"
      },
      "execution_count": 42,
      "outputs": [
        {
          "output_type": "stream",
          "name": "stdout",
          "text": [
            "My nm s vnsh Chtrnsh\n"
          ]
        }
      ]
    },
    {
      "cell_type": "markdown",
      "source": [
        "11) Imagine an accounting routine used in a book shop. It works on a list with sublists, which look like this:\n",
        "\n",
        "\n",
        "\n",
        "\n",
        "\n",
        "\n",
        "\n",
        "Write a Python program, which returns a list with 2-tuples. Each tuple consists of the order number and the\n",
        "product of the price per item and the quantity. The product should be increased by 10,- € if the value of the\n",
        "order is smaller than 100,00 €.\n",
        "\n",
        "Write a Python program using lambda and map."
      ],
      "metadata": {
        "id": "JroD04xLzotO"
      }
    },
    {
      "cell_type": "code",
      "source": [
        "orders = [\n",
        "    [34587, \"Learning Python, Mark Lutz\", 4, 40.95],\n",
        "    [98762, \"Programming Python, Mark Lutz\", 5, 56.80],\n",
        "    [77226, \"Head First Python, Paul Barry\", 3, 32.95],\n",
        "    [88112, \"Einführung in Python3, Bernd Klein\", 3, 24.99]\n",
        "]\n",
        "\n",
        "result = list(map(\n",
        "    lambda order: (order[0], order[2]*order[3] if order[2]*order[3] >= 100 else order[2]*order[3] + 10),\n",
        "    orders\n",
        "))\n",
        "\n",
        "print(result)\n"
      ],
      "metadata": {
        "colab": {
          "base_uri": "https://localhost:8080/"
        },
        "id": "I5cOkn2Ks9Aw",
        "outputId": "ce13a72e-88c8-43a2-9710-2778bf441a76"
      },
      "execution_count": 43,
      "outputs": [
        {
          "output_type": "stream",
          "name": "stdout",
          "text": [
            "[(34587, 163.8), (98762, 284.0), (77226, 108.85000000000001), (88112, 84.97)]\n"
          ]
        }
      ]
    }
  ]
}