{
  "nbformat": 4,
  "nbformat_minor": 0,
  "metadata": {
    "colab": {
      "provenance": []
    },
    "kernelspec": {
      "name": "python3",
      "display_name": "Python 3"
    },
    "language_info": {
      "name": "python"
    }
  },
  "cells": [
    {
      "cell_type": "markdown",
      "source": [
        "1. What is the difference between interpreted and compiled languages?\n",
        "\n",
        "Interpreted languages execute code line-by-line at runtime using an interpreter, while compiled languages translate the entire source code into machine code before execution. Python is an interpreted language, which makes debugging and development faster and easier, but it may run slower than compiled languages like C or C++. Compiled languages usually offer better performance and optimization since the translation happens beforehand, resulting in a standalone executable. Interpreted languages are platform-independent and allow more flexibility, which is helpful in scripting and rapid prototyping.\n",
        "\n",
        "2. What is exception handling in Python?\n",
        "\n",
        "Exception handling in Python allows developers to manage errors gracefully using try, except, finally, and else blocks. When an error (exception) occurs in a program, Python can jump to the except block to prevent the program from crashing. This technique improves robustness and user experience by allowing developers to anticipate and respond to potential issues such as file not found, division by zero, or invalid input.\n",
        "\n",
        "3. What is the purpose of the finally block in exception handling?\n",
        "\n",
        "The finally block is used to execute cleanup actions that must occur regardless of whether an exception was raised or not. It ensures that certain code — such as closing a file or releasing a resource — always runs. Even if a try block exits early due to a return or an exception, the finally block is guaranteed to execute, making it useful for code that manages external resources.\n",
        "\n",
        "4. What is logging in Python?\n",
        "\n",
        "Logging in Python is a built-in module that allows developers to track events that happen when software runs. It helps in debugging, monitoring, and understanding application flow, especially in production. Developers can log messages at different severity levels such as DEBUG, INFO, WARNING, ERROR, and CRITICAL. Unlike using print statements, logging provides better control and flexibility, allowing log messages to be written to files, sent over the network, or filtered based on severity.\n",
        "\n",
        "5. What is the significance of the __del__ method in Python?\n",
        "\n",
        "The __del__ method is a special method called a destructor in Python. It is automatically invoked when an object is about to be destroyed, typically when its reference count reaches zero. This method is used to perform final cleanup actions such as closing database connections or releasing external resources. However, its use is generally discouraged for critical resource management due to the unpredictability of Python's garbage collector.\n",
        "\n",
        "6. What is the difference between import and from ... import in Python?\n",
        "\n",
        "The import statement loads a module as a whole, requiring access to functions or classes using the module name (e.g., math.sqrt). The from ... import syntax imports specific components from a module directly into the namespace (e.g., from math import sqrt), allowing them to be used without the module prefix. The latter improves readability for frequently used functions but may lead to naming conflicts.\n",
        "\n",
        "7. How can you handle multiple exceptions in Python?\n",
        "\n",
        "Python allows handling multiple exceptions using either multiple except blocks or a single except block with a tuple of exception types. Multiple except blocks enable specific handling for different exception types. Using a tuple is useful when multiple exceptions require the same handling logic. This flexibility helps in writing robust and maintainable error-handling code.\n",
        "\n",
        "8. What is the purpose of the with statement when handling files in Python?\n",
        "\n",
        "The with statement in Python is used to wrap the execution of a block with methods defined by a context manager. When used with files, it automatically handles opening and closing, even if errors occur. This approach ensures proper resource management, avoids memory leaks, and makes code cleaner by eliminating the need for explicit close() calls.\n",
        "\n",
        "9. What is the difference between multithreading and multiprocessing?\n",
        "\n",
        "Multithreading involves multiple threads within the same process sharing memory space, making it lightweight but subject to the Global Interpreter Lock (GIL) in Python, which limits true parallel execution. Multiprocessing uses separate processes with their own memory space, allowing true parallelism and better performance for CPU-bound tasks. While multithreading is efficient for I/O-bound tasks, multiprocessing is preferred for compute-heavy operations.\n",
        "\n",
        "10. What are the advantages of using logging in a program?\n",
        "\n",
        "Logging provides insights into program execution, making it easier to diagnose problems, monitor behavior, and maintain applications. Unlike print statements, logging supports configurable levels, formatting, and output destinations like files or remote servers. It’s essential in production environments to trace issues without halting execution, enabling proactive error tracking and debugging.\n",
        "\n",
        "11. What is memory management in Python?\n",
        "\n",
        "Memory management in Python involves dynamic allocation, object referencing, and garbage collection. Python automatically manages memory through its built-in memory manager and uses reference counting along with a cyclic garbage collector to reclaim unused objects. Developers typically don’t need to manually allocate or deallocate memory, making Python more accessible and safer to use.\n",
        "\n",
        "12. What are the basic steps involved in exception handling in Python?\n",
        "\n",
        "Python’s exception handling involves trying to wrap the code that may raise exceptions, except to handle specific exceptions, else to run code if no exceptions occur, and finally to execute cleanup code regardless of exceptions. This structured approach enables error resilience and keeps the application running smoothly under unexpected conditions.\n",
        "\n",
        "13. Why is memory management important in Python?\n",
        "\n",
        "Effective memory management is crucial for preventing memory leaks, ensuring optimal performance, and avoiding crashes. Python’s automatic memory management simplifies development, but understanding how memory is allocated and reclaimed helps in writing efficient code. Mismanagement can lead to excessive memory consumption, slower performance, and difficulty scaling applications.\n",
        "\n",
        "14. What is the role of try and except in exception handling?\n",
        "\n",
        "The try and except blocks in Python are used to catch and handle exceptions gracefully. Code that might raise an error is placed inside the try block. If an exception occurs, control passes to the corresponding except block, which defines the response. This allows the program to recover or fail gracefully without terminating unexpectedly.\n",
        "\n",
        "15. How does Python's garbage collection system work?\n",
        "\n",
        "Python uses a combination of reference counting and cyclic garbage collection to manage memory. When an object’s reference count drops to zero, it is deallocated. However, circular references can’t be handled by reference counting alone, so Python uses a garbage collector that periodically detects and frees such cycles, ensuring efficient memory use.\n",
        "\n",
        "16. What is the purpose of the else block in exception handling?\n",
        "\n",
        "The else block in exception handling executes only if the try block doesn’t raise an exception. It separates normal execution logic from error-handling code, improving readability. This structure allows developers to distinguish between code that runs after a successful operation versus code that handles errors or performs cleanup.\n",
        "\n",
        "17. What are the common logging levels in Python?\n",
        "\n",
        "Python’s logging module defines five standard logging levels to indicate the severity of events. These are:\n",
        "DEBUG: Detailed information for diagnosing problems.\n",
        "INFO: Confirmation that things are working as expected.\n",
        "WARNING: An indication that something unexpected happened, but the program is still running.\n",
        "ERROR: A more serious issue due to which the program might not function properly.\n",
        "CRITICAL: A severe error that may stop the program altogether.\n",
        "These levels help categorize and filter logs based on the importance of the events, allowing developers to monitor and debug applications efficiently.\n",
        "\n",
        "18. What is the difference between os.fork() and multiprocessing in Python?\n",
        "\n",
        "os.fork() creates a child process by duplicating the current process. It is Unix-specific and provides low-level control, which can be error-prone and complex. On the other hand, the multiprocessing module offers a platform-independent, high-level interface for creating and managing separate processes. It handles process creation, communication, and synchronization, making it safer and easier to use, especially in cross-platform applications.\n",
        "\n",
        "19. What is the importance of closing a file in Python?\n",
        "\n",
        "Closing a file in Python using the close() method or a with statement ensures that resources are released and any buffered data is written to disk. Failing to close a file may lead to data corruption, memory leaks, or too many files being open simultaneously, which can crash the program. Proper file handling guarantees data integrity and system stability.\n",
        "\n",
        "20. What is the difference between file.read() and file.readline() in Python?\n",
        "\n",
        "file.read() reads the entire content of a file as a single string (or a specified number of characters), while file.readline() reads only one line at a time. read() is suitable for smaller files that can fit into memory, whereas readline() is ideal for processing large files line by line, conserving memory and improving performance in data streaming applications.\n",
        "\n",
        "21. What is the logging module in Python used for?\n",
        "\n",
        "Python’s logging module is used to record messages that describe events occurring in a program. It allows developers to capture information about execution flow, system status, and errors without disrupting program execution. Logs can be directed to various outputs like the console, files, or remote servers, and configured to different severity levels for targeted monitoring and debugging.\n",
        "\n",
        "22. What is the os module in Python used for in file handling?\n",
        "\n",
        "The os module provides a way to interact with the operating system, including file and directory operations. It allows creating, deleting, renaming, and moving files and directories. Additionally, os.path helps manage file paths across different operating systems. This module is essential for scripting and automation where dynamic file manipulation is required.\n",
        "\n",
        "23. What are the challenges associated with memory management in Python?\n",
        "\n",
        "Although Python automates memory management, challenges still exist. Circular references can hinder garbage collection, leading to memory leaks. Inefficient use of data structures, holding large datasets in memory, or creating too many objects can also consume excess memory. Developers must be aware of these pitfalls and use profiling tools to monitor and optimize memory usage.\n",
        "\n",
        "24. How do you raise an exception manually in Python?\n",
        "\n",
        "You can raise an exception manually using the raise statement followed by an exception type. For example: raise ValueError(\"Invalid input\"). This is useful for enforcing constraints, validating data, or halting execution when certain conditions are not met. Custom exceptions can also be defined by subclassing the Exception class for more descriptive and structured error handling.\n",
        "\n",
        "25. Why is it important to use multithreading in certain applications?\n",
        "\n",
        "Multithreading is crucial in applications that perform multiple I/O-bound tasks concurrently, such as web servers or GUI programs. It allows better responsiveness and efficient resource use by running threads in parallel. While Python’s GIL restricts true parallelism for CPU-bound tasks, multithreading is highly beneficial for tasks like network operations or file I/O where threads can run while waiting for external responses.\n"
      ],
      "metadata": {
        "id": "bImgfCsZ12Ey"
      }
    },
    {
      "cell_type": "code",
      "execution_count": null,
      "metadata": {
        "id": "NVEAcnXm1tfB"
      },
      "outputs": [],
      "source": []
    },
    {
      "cell_type": "markdown",
      "source": [
        "How can you open a file for writing in Python and write a string to it?"
      ],
      "metadata": {
        "id": "ryx2fAHa7oer"
      }
    },
    {
      "cell_type": "code",
      "source": [
        "with open(\"My_fileAvinash.txt\",\"w\") as file:\n",
        "    Avi=file.write(\"This is my first line\")\n",
        "    print(Avi)"
      ],
      "metadata": {
        "colab": {
          "base_uri": "https://localhost:8080/"
        },
        "id": "fvk_JvCM11eR",
        "outputId": "66c4acfe-a3d4-45a1-9f44-65294ddb9ec2"
      },
      "execution_count": 4,
      "outputs": [
        {
          "output_type": "stream",
          "name": "stdout",
          "text": [
            "21\n"
          ]
        }
      ]
    },
    {
      "cell_type": "code",
      "source": [
        "with open(\"My_fileAvinash.txt\", \"r\") as file:\n",
        "    content = file.read()\n",
        "    print(content)"
      ],
      "metadata": {
        "colab": {
          "base_uri": "https://localhost:8080/"
        },
        "id": "nnGbIIfR11Xh",
        "outputId": "cbc1cbce-0590-4eb1-a415-8f169df07c06"
      },
      "execution_count": 5,
      "outputs": [
        {
          "output_type": "stream",
          "name": "stdout",
          "text": [
            "This is my first line\n"
          ]
        }
      ]
    },
    {
      "cell_type": "markdown",
      "source": [
        "Write a Python program to read the contents of a file and print each line."
      ],
      "metadata": {
        "id": "XGoXFFga9XYb"
      }
    },
    {
      "cell_type": "code",
      "source": [
        "with open(\"My_fileAvinash.txt\", \"r\") as file:\n",
        "    for line in file:\n",
        "        print(line.strip())\n"
      ],
      "metadata": {
        "colab": {
          "base_uri": "https://localhost:8080/"
        },
        "id": "TTzcCEBV11Vt",
        "outputId": "d7e96d9a-3bfb-4d4f-f965-45e2bc2611cf"
      },
      "execution_count": 6,
      "outputs": [
        {
          "output_type": "stream",
          "name": "stdout",
          "text": [
            "This is my first line\n"
          ]
        }
      ]
    },
    {
      "cell_type": "code",
      "source": [
        "with open(\"My_fileAvinash.txt\",\"w\") as file:\n",
        "    file.write(\"This is my first line\")\n",
        "    file.write(\"Hello Avinash\")\n",
        "    file.write(\"Enjoy Coding\")\n",
        "    file.write(\"Welcome to python\")\n",
        "\n",
        "with open(\"My_fileAvinash.txt\", \"r\") as file:\n",
        "  for line in file:\n",
        "    print(line.strip())"
      ],
      "metadata": {
        "colab": {
          "base_uri": "https://localhost:8080/"
        },
        "id": "cJGuZIx111TZ",
        "outputId": "ff1a5d40-ac0c-42bb-95ad-a3c502a920cb"
      },
      "execution_count": 11,
      "outputs": [
        {
          "output_type": "stream",
          "name": "stdout",
          "text": [
            "This is my first lineHello AvinashEnjoy CodingWelcome to python\n"
          ]
        }
      ]
    },
    {
      "cell_type": "code",
      "source": [
        "with open(\"My_fileAvinash.txt\",\"w\") as file:\n",
        "    file.write(\"This is my first line\\n\")\n",
        "    file.write(\"Hello Avinash\\n\")\n",
        "    file.write(\"Enjoy Coding\\n\")\n",
        "    file.write(\"Welcome to python\\n\")\n",
        "\n",
        "with open(\"My_fileAvinash.txt\", \"r\") as file:\n",
        "  for line in file:\n",
        "    print(line.strip())"
      ],
      "metadata": {
        "colab": {
          "base_uri": "https://localhost:8080/"
        },
        "id": "teVyA5h811Q_",
        "outputId": "87f31932-2215-44c2-a41b-f0e62f897e66"
      },
      "execution_count": 12,
      "outputs": [
        {
          "output_type": "stream",
          "name": "stdout",
          "text": [
            "This is my first line\n",
            "Hello Avinash\n",
            "Enjoy Coding\n",
            "Welcome to python\n"
          ]
        }
      ]
    },
    {
      "cell_type": "markdown",
      "source": [
        "How would you handle a case where the file doesn't exist while trying to open it for reading?"
      ],
      "metadata": {
        "id": "lzdAbWUL-44k"
      }
    },
    {
      "cell_type": "code",
      "source": [
        "try:\n",
        "  with open (\"Myfiles.xlx\" \"r\"):\n",
        "    content= file.read()\n",
        "    print(content)\n",
        "except FileNotFoundError as e:\n",
        "  print(\"The file does not exist. Please check the filename or path.\")"
      ],
      "metadata": {
        "colab": {
          "base_uri": "https://localhost:8080/"
        },
        "id": "qxGK9c-911Oq",
        "outputId": "d82bb758-d408-4964-fbd8-ac3bc50f6f9d"
      },
      "execution_count": 14,
      "outputs": [
        {
          "output_type": "stream",
          "name": "stdout",
          "text": [
            "The file does not exist. Please check the filename or path.\n"
          ]
        }
      ]
    },
    {
      "cell_type": "markdown",
      "source": [
        "Write a Python script that reads from one file and writes its content to another file."
      ],
      "metadata": {
        "id": "VM2JXIe0_3ks"
      }
    },
    {
      "cell_type": "code",
      "source": [
        "try:\n",
        "    with open(\"source.txt\", \"r\") as source_file:\n",
        "        content = source_file.read()\n",
        "\n",
        "    with open(\"destination.txt\", \"w\") as destination_file:\n",
        "        destination_file.write(content)\n",
        "\n",
        "    print(\"Content copied successfully.\")\n",
        "\n",
        "except FileNotFoundError:\n",
        "    print(\"The source file does not exist.\")\n",
        "except Exception as e:\n",
        "    print(\"An error occurred:\", e)\n"
      ],
      "metadata": {
        "colab": {
          "base_uri": "https://localhost:8080/"
        },
        "id": "VZqK_YVF11MU",
        "outputId": "52507ca0-0015-4d1a-dcee-c8e2230012bf"
      },
      "execution_count": 16,
      "outputs": [
        {
          "output_type": "stream",
          "name": "stdout",
          "text": [
            "The source file does not exist.\n"
          ]
        }
      ]
    },
    {
      "cell_type": "markdown",
      "source": [
        " How would you catch and handle division by zero error in Python?"
      ],
      "metadata": {
        "id": "ZGMuMC2QAWXG"
      }
    },
    {
      "cell_type": "code",
      "source": [
        "try:\n",
        "    result = 10 / 0\n",
        "except ZeroDivisionError:\n",
        "    print(\"Cannot divide by zero.\")"
      ],
      "metadata": {
        "colab": {
          "base_uri": "https://localhost:8080/"
        },
        "id": "_RNHjzw411J4",
        "outputId": "4151a6ac-94f4-41bd-dabb-552b31859170"
      },
      "execution_count": 17,
      "outputs": [
        {
          "output_type": "stream",
          "name": "stdout",
          "text": [
            "Cannot divide by zero.\n"
          ]
        }
      ]
    },
    {
      "cell_type": "markdown",
      "source": [
        "Write a Python program that logs an error message to a log file when a division by zero exception occurs."
      ],
      "metadata": {
        "id": "2ROcjnuWAkI8"
      }
    },
    {
      "cell_type": "code",
      "source": [
        "import logging\n",
        "\n",
        "logging.basicConfig(filename='error.log', level=logging.ERROR)\n",
        "\n",
        "try:\n",
        "    result = 10 / 0\n",
        "except ZeroDivisionError:\n",
        "    logging.error(\"Division by zero error occurred.\")\n"
      ],
      "metadata": {
        "colab": {
          "base_uri": "https://localhost:8080/"
        },
        "id": "fI7av9Yb11FB",
        "outputId": "12a75738-b49d-4f5d-be3f-8252fc462315"
      },
      "execution_count": 18,
      "outputs": [
        {
          "output_type": "stream",
          "name": "stderr",
          "text": [
            "ERROR:root:Division by zero error occurred.\n"
          ]
        }
      ]
    },
    {
      "cell_type": "markdown",
      "source": [
        "How do you log information at different levels (INFO, ERROR, WARNING) in Python using the logging module."
      ],
      "metadata": {
        "id": "u_EyW6cLAvbs"
      }
    },
    {
      "cell_type": "code",
      "source": [
        "import logging\n",
        "\n",
        "logging.basicConfig(level=logging.DEBUG)\n",
        "logging.info(\"This is an info message\")\n",
        "logging.warning(\"This is a warning message\")\n",
        "logging.error(\"This is an error message\")\n"
      ],
      "metadata": {
        "colab": {
          "base_uri": "https://localhost:8080/"
        },
        "id": "Dh1oWBtS11Cz",
        "outputId": "79e17319-357a-4ea4-8cd7-3263f40a6288"
      },
      "execution_count": 21,
      "outputs": [
        {
          "output_type": "stream",
          "name": "stderr",
          "text": [
            "WARNING:root:This is a warning message\n",
            "ERROR:root:This is an error message\n"
          ]
        }
      ]
    },
    {
      "cell_type": "markdown",
      "source": [
        "Write a program to handle a file opening error using exception handling?"
      ],
      "metadata": {
        "id": "XYpq9oGkBEbd"
      }
    },
    {
      "cell_type": "code",
      "source": [
        "try:\n",
        "    with open(\"nonexistent.txt\", \"r\") as file:\n",
        "        print(file.read())\n",
        "except FileNotFoundError:\n",
        "    print(\"File not found.\")"
      ],
      "metadata": {
        "colab": {
          "base_uri": "https://localhost:8080/"
        },
        "id": "RsUC1Ly311AR",
        "outputId": "a8adda18-8093-4f95-d80f-347171e1975f"
      },
      "execution_count": 22,
      "outputs": [
        {
          "output_type": "stream",
          "name": "stdout",
          "text": [
            "File not found.\n"
          ]
        }
      ]
    },
    {
      "cell_type": "markdown",
      "source": [
        "How can you read a file line by line and store its content in a list in Python?"
      ],
      "metadata": {
        "id": "wflqJcpzBQCI"
      }
    },
    {
      "cell_type": "code",
      "source": [
        "lines = []\n",
        "with open(\"My_fileAvinash.txt\", \"r\") as file:\n",
        "    lines = [line.strip() for line in file]\n",
        "print(lines)"
      ],
      "metadata": {
        "colab": {
          "base_uri": "https://localhost:8080/"
        },
        "id": "GyWHZgc9BGj1",
        "outputId": "1e72fe72-51e6-4ac6-e990-05ade5331484"
      },
      "execution_count": 24,
      "outputs": [
        {
          "output_type": "stream",
          "name": "stdout",
          "text": [
            "['This is my first line', 'Hello Avinash', 'Enjoy Coding', 'Welcome to python']\n"
          ]
        }
      ]
    },
    {
      "cell_type": "markdown",
      "source": [
        "How can you append data to an existing file in Python?"
      ],
      "metadata": {
        "id": "y7jtfetbBnHk"
      }
    },
    {
      "cell_type": "code",
      "source": [
        "with open(\"My_fileAvinash.txt\", \"a\") as file:\n",
        "    file.write(\"\\nThis is appended text.\")\n",
        "\n",
        "with open(\"My_fileAvinash.txt\", \"r\") as file:\n",
        "    content = file.read()\n",
        "    print(content)"
      ],
      "metadata": {
        "colab": {
          "base_uri": "https://localhost:8080/"
        },
        "id": "SRlz5kDABU9M",
        "outputId": "5ff7eaee-12bc-43be-8b4c-9f5d7890c096"
      },
      "execution_count": 30,
      "outputs": [
        {
          "output_type": "stream",
          "name": "stdout",
          "text": [
            "This is my first line\n",
            "Hello Avinash\n",
            "Enjoy Coding\n",
            "Welcome to python\n",
            "\n",
            "This is appended text.\n",
            "This is appended text.\n",
            "This is appended text.\n",
            "This is appended text.\n"
          ]
        }
      ]
    },
    {
      "cell_type": "markdown",
      "source": [
        "Write a Python program that uses a try-except block to handle an error when attempting to access a dictionary key that doesn't exist?"
      ],
      "metadata": {
        "id": "bJSFQnNqCFxt"
      }
    },
    {
      "cell_type": "code",
      "source": [
        "my_dict = {'name': 'Avinash'}\n",
        "\n",
        "try:\n",
        "    print(my_dict['age'])\n",
        "except KeyError:\n",
        "    print(\"Key not found in dictionary.\")\n"
      ],
      "metadata": {
        "colab": {
          "base_uri": "https://localhost:8080/"
        },
        "id": "t8ug50YjBGhF",
        "outputId": "8682ef21-142f-4f24-fa6b-d2c559881074"
      },
      "execution_count": 31,
      "outputs": [
        {
          "output_type": "stream",
          "name": "stdout",
          "text": [
            "Key not found in dictionary.\n"
          ]
        }
      ]
    },
    {
      "cell_type": "markdown",
      "source": [
        "Write a program that demonstrates using multiple except blocks to handle different types of exceptions."
      ],
      "metadata": {
        "id": "cIlNgymECY5d"
      }
    },
    {
      "cell_type": "code",
      "source": [
        "try:\n",
        "    num = int(\"abc\")  # Raises ValueError\n",
        "    result = 10 / num\n",
        "except ValueError:\n",
        "    print(\"Invalid conversion.\")\n",
        "except ZeroDivisionError:\n",
        "    print(\"Division by zero.\")\n"
      ],
      "metadata": {
        "colab": {
          "base_uri": "https://localhost:8080/"
        },
        "id": "Bqa6Go6MBGet",
        "outputId": "b00f9e8a-1ed3-4d7c-dac4-31808cfa8820"
      },
      "execution_count": 32,
      "outputs": [
        {
          "output_type": "stream",
          "name": "stdout",
          "text": [
            "Invalid conversion.\n"
          ]
        }
      ]
    },
    {
      "cell_type": "markdown",
      "source": [
        "How would you check if a file exists before attempting to read it in Python?"
      ],
      "metadata": {
        "id": "4ulEe_EhCmQd"
      }
    },
    {
      "cell_type": "code",
      "source": [
        "import os\n",
        "\n",
        "if os.path.exists(\"My_fileAvinash.txt\"):\n",
        "    with open(\"My_fileAvinash.txt\", \"r\") as file:\n",
        "        print(file.read())\n",
        "else:\n",
        "    print(\"File does not exist.\")\n"
      ],
      "metadata": {
        "colab": {
          "base_uri": "https://localhost:8080/"
        },
        "id": "qhw5vVfhBGcc",
        "outputId": "2c2fbbdb-c13c-4430-9613-4d049248c2c7"
      },
      "execution_count": 34,
      "outputs": [
        {
          "output_type": "stream",
          "name": "stdout",
          "text": [
            "This is my first line\n",
            "Hello Avinash\n",
            "Enjoy Coding\n",
            "Welcome to python\n",
            "\n",
            "This is appended text.\n",
            "This is appended text.\n",
            "This is appended text.\n",
            "This is appended text.\n"
          ]
        }
      ]
    },
    {
      "cell_type": "markdown",
      "source": [
        "Write a program that uses the logging module to log both informational and error messages?"
      ],
      "metadata": {
        "id": "ad39wWl8C9cm"
      }
    },
    {
      "cell_type": "code",
      "source": [
        "import logging\n",
        "\n",
        "logging.basicConfig(filename=\"logfile.log\", level=logging.DEBUG)\n",
        "logging.info(\"Program started\")\n",
        "try:\n",
        "    result = 5 / 0\n",
        "except ZeroDivisionError:\n",
        "    logging.error(\"Attempted division by zero.\")\n"
      ],
      "metadata": {
        "colab": {
          "base_uri": "https://localhost:8080/"
        },
        "id": "gDz50WWNBGaZ",
        "outputId": "67f0684b-20ee-405c-fb91-6643aeb8a682"
      },
      "execution_count": 35,
      "outputs": [
        {
          "output_type": "stream",
          "name": "stderr",
          "text": [
            "ERROR:root:Attempted division by zero.\n"
          ]
        }
      ]
    },
    {
      "cell_type": "markdown",
      "source": [
        "Write a Python program that prints the content of a file and handles the case when the file is empty."
      ],
      "metadata": {
        "id": "IMTxdQPzDCHF"
      }
    },
    {
      "cell_type": "code",
      "source": [
        "try:\n",
        "    with open(\"example4.txt\", \"r\") as file:\n",
        "        content = file.read()\n",
        "        if content:\n",
        "            print(content)\n",
        "        else:\n",
        "            print(\"File is empty.\")\n",
        "except FileNotFoundError:\n",
        "    print(\"File not found.\")\n"
      ],
      "metadata": {
        "colab": {
          "base_uri": "https://localhost:8080/"
        },
        "id": "f-fCsPUsBGYI",
        "outputId": "0b2e1300-d061-4be9-c08d-79576f1b1a8b"
      },
      "execution_count": 39,
      "outputs": [
        {
          "output_type": "stream",
          "name": "stdout",
          "text": [
            "File not found.\n"
          ]
        }
      ]
    },
    {
      "cell_type": "markdown",
      "source": [
        "Demonstrate how to use memory profiling to check the memory usage of a small program."
      ],
      "metadata": {
        "id": "mtjCYjcADfE-"
      }
    },
    {
      "cell_type": "code",
      "source": [
        "import tracemalloc\n",
        "\n",
        "tracemalloc.start()  # Start tracing memory\n",
        "\n",
        "# Sample code to check memory usage\n",
        "a = [i for i in range(10000)]\n",
        "total = sum(a)\n",
        "\n",
        "# Display memory usage\n",
        "current, peak = tracemalloc.get_traced_memory()\n",
        "print(f\"Current memory usage: {current / 1024:.2f} KB\")\n",
        "print(f\"Peak memory usage: {peak / 1024:.2f} KB\")\n",
        "\n",
        "tracemalloc.stop()  # Stop tracing\n"
      ],
      "metadata": {
        "id": "e8FvSfc_FaYe",
        "outputId": "626fb84a-71aa-4615-ec6f-84026b1dd869",
        "colab": {
          "base_uri": "https://localhost:8080/"
        }
      },
      "execution_count": 55,
      "outputs": [
        {
          "output_type": "stream",
          "name": "stdout",
          "text": [
            "Current memory usage: 388.66 KB\n",
            "Peak memory usage: 399.61 KB\n"
          ]
        }
      ]
    },
    {
      "cell_type": "markdown",
      "source": [
        "Write a Python program to create and write a list of numbers to a file, one number per line."
      ],
      "metadata": {
        "id": "PrMmS1M0D0pP"
      }
    },
    {
      "cell_type": "code",
      "source": [
        "numbers = [1, 2, 3, 4, 5]\n",
        "\n",
        "with open(\"numbers.txt\", \"w\") as file:\n",
        "    for number in numbers:\n",
        "        file.write(str(number) + \"\\n\")"
      ],
      "metadata": {
        "id": "9YCq4qbeBGRt"
      },
      "execution_count": 41,
      "outputs": []
    },
    {
      "cell_type": "markdown",
      "source": [
        "How would you implement a basic logging setup that logs to a file with rotation after 1MB?"
      ],
      "metadata": {
        "id": "UWyB6IGKEVi2"
      }
    },
    {
      "cell_type": "code",
      "source": [
        "import logging\n",
        "from logging.handlers import RotatingFileHandler\n",
        "\n",
        "logger = logging.getLogger(\"MyLogger\")\n",
        "logger.setLevel(logging.INFO)\n",
        "\n",
        "handler = RotatingFileHandler(\"my_log.log\", maxBytes=1024*1024, backupCount=3)\n",
        "logger.addHandler(handler)\n",
        "\n",
        "logger.info(\"This is a log message.\")\n"
      ],
      "metadata": {
        "id": "ZsJNugeNEaoV",
        "outputId": "92eb368e-b089-41bb-8777-3932183d9123",
        "colab": {
          "base_uri": "https://localhost:8080/"
        }
      },
      "execution_count": 44,
      "outputs": [
        {
          "output_type": "stream",
          "name": "stderr",
          "text": [
            "INFO:MyLogger:This is a log message.\n"
          ]
        }
      ]
    },
    {
      "cell_type": "markdown",
      "source": [
        "Write a program that handles both IndexError and KeyError using a try-except block."
      ],
      "metadata": {
        "id": "lxOv-qpnEfuQ"
      }
    },
    {
      "cell_type": "code",
      "source": [
        "try:\n",
        "    my_list = [1, 2]\n",
        "    print(my_list[5])  # IndexError\n",
        "\n",
        "    my_dict = {'a': 1}\n",
        "    print(my_dict['b'])  # KeyError\n",
        "\n",
        "except IndexError:\n",
        "    print(\"Index out of range.\")\n",
        "except KeyError:\n",
        "    print(\"Key not found in dictionary.\")\n"
      ],
      "metadata": {
        "colab": {
          "base_uri": "https://localhost:8080/"
        },
        "id": "yxuqyAOwBGLP",
        "outputId": "b37ec9b0-6902-4b6b-cc0a-939b0e804910"
      },
      "execution_count": 45,
      "outputs": [
        {
          "output_type": "stream",
          "name": "stdout",
          "text": [
            "Index out of range.\n"
          ]
        }
      ]
    },
    {
      "cell_type": "markdown",
      "source": [
        "How would you open a file and read its contents using a context manager in Python?"
      ],
      "metadata": {
        "id": "kbMfUm15EqA2"
      }
    },
    {
      "cell_type": "code",
      "source": [
        "with open(\"My_fileAvinash.txt\", \"r\") as file:\n",
        "    content = file.read()\n",
        "    print(content)\n"
      ],
      "metadata": {
        "colab": {
          "base_uri": "https://localhost:8080/"
        },
        "id": "obQFQD2qBGI_",
        "outputId": "4d94be30-fd29-4bb6-8743-8e86b5350cc0"
      },
      "execution_count": 47,
      "outputs": [
        {
          "output_type": "stream",
          "name": "stdout",
          "text": [
            "This is my first line\n",
            "Hello Avinash\n",
            "Enjoy Coding\n",
            "Welcome to python\n",
            "\n",
            "This is appended text.\n",
            "This is appended text.\n",
            "This is appended text.\n",
            "This is appended text.\n"
          ]
        }
      ]
    },
    {
      "cell_type": "markdown",
      "source": [
        "Write a Python program that reads a file and prints the number of occurrences of a specific word."
      ],
      "metadata": {
        "id": "_srb_UCUE50P"
      }
    },
    {
      "cell_type": "code",
      "source": [
        "word_to_find = \"Python\"\n",
        "count = 0\n",
        "\n",
        "with open(\"example.txt\", \"r\") as file:\n",
        "    for line in file:\n",
        "        count += line.count(word_to_find)\n",
        "\n",
        "print(f\"The word '{word_to_find}' occurred {count} times.\")\n"
      ],
      "metadata": {
        "colab": {
          "base_uri": "https://localhost:8080/"
        },
        "id": "9vroCTxrBGHA",
        "outputId": "e9123579-ddaa-442a-c85a-6eff0f51c5e3"
      },
      "execution_count": 48,
      "outputs": [
        {
          "output_type": "stream",
          "name": "stdout",
          "text": [
            "The word 'Python' occurred 0 times.\n"
          ]
        }
      ]
    },
    {
      "cell_type": "markdown",
      "source": [
        "How can you check if a file is empty before attempting to read its contents?"
      ],
      "metadata": {
        "id": "9y_lOkvzFCee"
      }
    },
    {
      "cell_type": "code",
      "source": [
        "import os\n",
        "\n",
        "if os.path.exists(\"example.txt\") and os.path.getsize(\"example.txt\") == 0:\n",
        "    print(\"File is empty.\")\n",
        "else:\n",
        "    print(\"File is not empty.\")\n"
      ],
      "metadata": {
        "colab": {
          "base_uri": "https://localhost:8080/"
        },
        "id": "XkAqzfTmBGEw",
        "outputId": "636384cc-2ea8-4a25-f398-d9b796ce5031"
      },
      "execution_count": 49,
      "outputs": [
        {
          "output_type": "stream",
          "name": "stdout",
          "text": [
            "File is not empty.\n"
          ]
        }
      ]
    },
    {
      "cell_type": "markdown",
      "source": [
        "Write a Python program that writes to a log file when an error occurs during file handling."
      ],
      "metadata": {
        "id": "OZtnbw2ZFL8-"
      }
    },
    {
      "cell_type": "code",
      "source": [
        "import logging\n",
        "\n",
        "logging.basicConfig(filename=\"file_errors.log\", level=logging.ERROR)\n",
        "\n",
        "try:\n",
        "    with open(\"nonexistent.txt\", \"r\") as file:\n",
        "        data = file.read()\n",
        "except Exception as e:\n",
        "    logging.error(f\"Error occurred: {e}\")\n"
      ],
      "metadata": {
        "colab": {
          "base_uri": "https://localhost:8080/"
        },
        "id": "nNsihO9dBGCE",
        "outputId": "6cdda352-28ae-44ea-d07e-186750712b36"
      },
      "execution_count": 50,
      "outputs": [
        {
          "output_type": "stream",
          "name": "stderr",
          "text": [
            "ERROR:root:Error occurred: [Errno 2] No such file or directory: 'nonexistent.txt'\n"
          ]
        }
      ]
    },
    {
      "cell_type": "code",
      "source": [],
      "metadata": {
        "id": "Efhhf6VHBFqm"
      },
      "execution_count": null,
      "outputs": []
    },
    {
      "cell_type": "code",
      "source": [],
      "metadata": {
        "id": "f3TiCxEz109x"
      },
      "execution_count": null,
      "outputs": []
    },
    {
      "cell_type": "code",
      "source": [],
      "metadata": {
        "id": "_VtKzvub107J"
      },
      "execution_count": null,
      "outputs": []
    }
  ]
}